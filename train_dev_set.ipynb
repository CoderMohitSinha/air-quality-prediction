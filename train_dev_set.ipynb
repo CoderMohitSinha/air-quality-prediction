{
 "cells": [
  {
   "cell_type": "code",
   "execution_count": 2,
   "metadata": {
    "collapsed": true
   },
   "outputs": [],
   "source": [
    "import pandas as pd"
   ]
  },
  {
   "cell_type": "code",
   "execution_count": 3,
   "metadata": {},
   "outputs": [],
   "source": [
    "meo = pd.read_csv(\"./data/bj_meo_data.csv\")\n",
    "aq = pd.read_csv(\"./data/bj_aq_data.csv\")"
   ]
  },
  {
   "cell_type": "code",
   "execution_count": 8,
   "metadata": {
    "collapsed": true
   },
   "outputs": [],
   "source": [
    "meo.set_index(\"time\", inplace=True)\n",
    "aq.set_index(\"time\", inplace=True)"
   ]
  },
  {
   "cell_type": "code",
   "execution_count": 18,
   "metadata": {},
   "outputs": [
    {
     "name": "stdout",
     "output_type": "stream",
     "text": [
      "(11458, 210) (11472, 175)\n"
     ]
    }
   ],
   "source": [
    "print(aq.shape, meo.shape)"
   ]
  },
  {
   "cell_type": "code",
   "execution_count": 14,
   "metadata": {},
   "outputs": [
    {
     "name": "stdout",
     "output_type": "stream",
     "text": [
      "2017/1/1 0:00 2018/4/9 9:00\n"
     ]
    }
   ],
   "source": [
    "print(meo.index.min(), meo.index.max())"
   ]
  },
  {
   "cell_type": "code",
   "execution_count": 15,
   "metadata": {},
   "outputs": [
    {
     "name": "stdout",
     "output_type": "stream",
     "text": [
      "2017/1/1 14:00 2018/4/9 9:00\n"
     ]
    }
   ],
   "source": [
    "print(aq.index.min(), aq.index.max())"
   ]
  },
  {
   "cell_type": "markdown",
   "metadata": {},
   "source": [
    "### 1. 验证集\n",
    "取4月份的数据作为验证集，当前共23天的数据"
   ]
  },
  {
   "cell_type": "code",
   "execution_count": 23,
   "metadata": {},
   "outputs": [],
   "source": [
    "dev_start_time = \"2018/4/01 0:00\"\n",
    "meo_dev = meo[meo.index >= dev_start_time]\n",
    "aq_dev = aq[aq.index >= dev_start_time]"
   ]
  },
  {
   "cell_type": "code",
   "execution_count": 25,
   "metadata": {},
   "outputs": [
    {
     "name": "stdout",
     "output_type": "stream",
     "text": [
      "(552, 175)\n",
      "(552, 210)\n"
     ]
    }
   ],
   "source": [
    "print(meo_dev.shape) # 23天\n",
    "print(aq_dev.shape)  # 23天"
   ]
  },
  {
   "cell_type": "code",
   "execution_count": 26,
   "metadata": {
    "collapsed": true
   },
   "outputs": [],
   "source": [
    "meo_dev.to_csv(\"data/meo_dev_data.csv\")\n",
    "aq_dev.to_csv(\"data/aq_dev_data.csv\")"
   ]
  },
  {
   "cell_type": "markdown",
   "metadata": {},
   "source": [
    "### 2. 训练集\n",
    "- 取2018年4月之前的所有数据作为训练集\n",
    "- 由于两个数据集的开始时间不一致，因此统一截取 `2017/1/2 00:00` 开始计算训练集"
   ]
  },
  {
   "cell_type": "code",
   "execution_count": 33,
   "metadata": {
    "collapsed": true
   },
   "outputs": [],
   "source": [
    "train_start_time = \"2017/1/2 0:00\"\n",
    "train_end_time = \"2018/3/31 0:00\"\n",
    "\n",
    "meo_train = meo[meo.index >= train_start_time]\n",
    "meo_train = meo_train[meo_train.index <= train_end_time]\n",
    "\n",
    "aq_train = aq[aq.index >= train_start_time]\n",
    "aq_train = aq_train[aq_train.index <= train_end_time]"
   ]
  },
  {
   "cell_type": "code",
   "execution_count": 37,
   "metadata": {},
   "outputs": [
    {
     "name": "stdout",
     "output_type": "stream",
     "text": [
      "(10489, 175)\n",
      "(10489, 210)\n"
     ]
    }
   ],
   "source": [
    "print(meo_train.shape)\n",
    "print(aq_train.shape)"
   ]
  },
  {
   "cell_type": "code",
   "execution_count": 38,
   "metadata": {
    "collapsed": true
   },
   "outputs": [],
   "source": [
    "meo_train.to_csv(\"data/meo_train_data.csv\")\n",
    "aq_train.to_csv(\"data/aq_train_data.csv\")"
   ]
  },
  {
   "cell_type": "markdown",
   "metadata": {},
   "source": [
    "### Changelog\n",
    "- 20180425 v0\n",
    "    - 以3月底为时间节点，划分了训练数据和验证数据"
   ]
  },
  {
   "cell_type": "code",
   "execution_count": null,
   "metadata": {
    "collapsed": true
   },
   "outputs": [],
   "source": []
  }
 ],
 "metadata": {
  "kernelspec": {
   "display_name": "Python 3",
   "language": "python",
   "name": "python3"
  },
  "language_info": {
   "codemirror_mode": {
    "name": "ipython",
    "version": 3
   },
   "file_extension": ".py",
   "mimetype": "text/x-python",
   "name": "python",
   "nbconvert_exporter": "python",
   "pygments_lexer": "ipython3",
   "version": "3.5.2"
  }
 },
 "nbformat": 4,
 "nbformat_minor": 2
}
