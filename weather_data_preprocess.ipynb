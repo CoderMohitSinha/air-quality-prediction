{
 "cells": [
  {
   "cell_type": "markdown",
   "metadata": {},
   "source": [
    "- 时间跨度\n",
    "    - 历史数据中包含`('2017-01-01 00:00:00', '2018-03-27 05:00:00')`的天气数据\n",
    "    - API 下载数据中包含 `'2017-04-01 00:00:00'` 以后的数据\n",
    "    - 拟使用四月的数据作为 dev set，历史数据作为训练集"
   ]
  },
  {
   "cell_type": "code",
   "execution_count": 1,
   "metadata": {},
   "outputs": [],
   "source": [
    "import numpy as np\n",
    "import datetime\n",
    "import pandas as pd\n",
    "from utils.weather_data_util import load_bj_grid_meo_data"
   ]
  },
  {
   "cell_type": "markdown",
   "metadata": {},
   "source": [
    "### 1. 首先加载使用到的 meo 数据"
   ]
  },
  {
   "cell_type": "code",
   "execution_count": 2,
   "metadata": {
    "collapsed": true
   },
   "outputs": [],
   "source": [
    "near_stations = {'aotizhongxin_aq': 'beijing_grid_304',\n",
    " 'badaling_aq': 'beijing_grid_224',\n",
    " 'beibuxinqu_aq': 'beijing_grid_263',\n",
    " 'daxing_aq': 'beijing_grid_301',\n",
    " 'dingling_aq': 'beijing_grid_265',\n",
    " 'donggaocun_aq': 'beijing_grid_452',\n",
    " 'dongsi_aq': 'beijing_grid_303',\n",
    " 'dongsihuan_aq': 'beijing_grid_324',\n",
    " 'fangshan_aq': 'beijing_grid_238',\n",
    " 'fengtaihuayuan_aq': 'beijing_grid_282',\n",
    " 'guanyuan_aq': 'beijing_grid_282',\n",
    " 'gucheng_aq': 'beijing_grid_261',\n",
    " 'huairou_aq': 'beijing_grid_349',\n",
    " 'liulihe_aq': 'beijing_grid_216',\n",
    " 'mentougou_aq': 'beijing_grid_240',\n",
    " 'miyun_aq': 'beijing_grid_392',\n",
    " 'miyunshuiku_aq': 'beijing_grid_414',\n",
    " 'nansanhuan_aq': 'beijing_grid_303',\n",
    " 'nongzhanguan_aq': 'beijing_grid_324',\n",
    " 'pingchang_aq': 'beijing_grid_264',\n",
    " 'pinggu_aq': 'beijing_grid_452',\n",
    " 'qianmen_aq': 'beijing_grid_303',\n",
    " 'shunyi_aq': 'beijing_grid_368',\n",
    " 'tiantan_aq': 'beijing_grid_303',\n",
    " 'tongzhou_aq': 'beijing_grid_366',\n",
    " 'wanliu_aq': 'beijing_grid_283',\n",
    " 'wanshouxigong_aq': 'beijing_grid_303',\n",
    " 'xizhimenbei_aq': 'beijing_grid_283',\n",
    " 'yanqin_aq': 'beijing_grid_225',\n",
    " 'yizhuang_aq': 'beijing_grid_323',\n",
    " 'yongdingmennei_aq': 'beijing_grid_303',\n",
    " 'yongledian_aq': 'beijing_grid_385',\n",
    " 'yufa_aq': 'beijing_grid_278',\n",
    " 'yungang_aq': 'beijing_grid_239',\n",
    " 'zhiwuyuan_aq': 'beijing_grid_262'}"
   ]
  },
  {
   "cell_type": "code",
   "execution_count": 3,
   "metadata": {},
   "outputs": [],
   "source": [
    "# bj_meo_stations : meo_station as key and df as value \n",
    "bj_grid_meo_dataset, stations, bj_meo_stations = load_bj_grid_meo_data(near_stations)"
   ]
  },
  {
   "cell_type": "code",
   "execution_count": 4,
   "metadata": {},
   "outputs": [
    {
     "data": {
      "text/html": [
       "<div>\n",
       "<style>\n",
       "    .dataframe thead tr:only-child th {\n",
       "        text-align: right;\n",
       "    }\n",
       "\n",
       "    .dataframe thead th {\n",
       "        text-align: left;\n",
       "    }\n",
       "\n",
       "    .dataframe tbody tr th {\n",
       "        vertical-align: top;\n",
       "    }\n",
       "</style>\n",
       "<table border=\"1\" class=\"dataframe\">\n",
       "  <thead>\n",
       "    <tr style=\"text-align: right;\">\n",
       "      <th></th>\n",
       "      <th>zhiwuyuan_aq_temperature</th>\n",
       "      <th>zhiwuyuan_aq_pressure</th>\n",
       "      <th>zhiwuyuan_aq_humidity</th>\n",
       "      <th>zhiwuyuan_aq_wind_direction</th>\n",
       "      <th>zhiwuyuan_aq_wind_speed/kph</th>\n",
       "    </tr>\n",
       "    <tr>\n",
       "      <th>time</th>\n",
       "      <th></th>\n",
       "      <th></th>\n",
       "      <th></th>\n",
       "      <th></th>\n",
       "      <th></th>\n",
       "    </tr>\n",
       "  </thead>\n",
       "  <tbody>\n",
       "    <tr>\n",
       "      <th>2017-01-01 00:00:00</th>\n",
       "      <td>-6.01</td>\n",
       "      <td>1003.24</td>\n",
       "      <td>69.97</td>\n",
       "      <td>129.93</td>\n",
       "      <td>1.51</td>\n",
       "    </tr>\n",
       "    <tr>\n",
       "      <th>2017-01-01 01:00:00</th>\n",
       "      <td>-3.19</td>\n",
       "      <td>1003.12</td>\n",
       "      <td>58.66</td>\n",
       "      <td>147.40</td>\n",
       "      <td>1.37</td>\n",
       "    </tr>\n",
       "    <tr>\n",
       "      <th>2017-01-01 02:00:00</th>\n",
       "      <td>-0.37</td>\n",
       "      <td>1003.00</td>\n",
       "      <td>47.35</td>\n",
       "      <td>166.69</td>\n",
       "      <td>1.38</td>\n",
       "    </tr>\n",
       "    <tr>\n",
       "      <th>2017-01-01 03:00:00</th>\n",
       "      <td>2.45</td>\n",
       "      <td>1002.89</td>\n",
       "      <td>36.04</td>\n",
       "      <td>183.97</td>\n",
       "      <td>1.53</td>\n",
       "    </tr>\n",
       "    <tr>\n",
       "      <th>2017-01-01 04:00:00</th>\n",
       "      <td>3.55</td>\n",
       "      <td>1002.25</td>\n",
       "      <td>33.61</td>\n",
       "      <td>154.96</td>\n",
       "      <td>2.27</td>\n",
       "    </tr>\n",
       "  </tbody>\n",
       "</table>\n",
       "</div>"
      ],
      "text/plain": [
       "                     zhiwuyuan_aq_temperature  zhiwuyuan_aq_pressure  \\\n",
       "time                                                                   \n",
       "2017-01-01 00:00:00                     -6.01                1003.24   \n",
       "2017-01-01 01:00:00                     -3.19                1003.12   \n",
       "2017-01-01 02:00:00                     -0.37                1003.00   \n",
       "2017-01-01 03:00:00                      2.45                1002.89   \n",
       "2017-01-01 04:00:00                      3.55                1002.25   \n",
       "\n",
       "                     zhiwuyuan_aq_humidity  zhiwuyuan_aq_wind_direction  \\\n",
       "time                                                                      \n",
       "2017-01-01 00:00:00                  69.97                       129.93   \n",
       "2017-01-01 01:00:00                  58.66                       147.40   \n",
       "2017-01-01 02:00:00                  47.35                       166.69   \n",
       "2017-01-01 03:00:00                  36.04                       183.97   \n",
       "2017-01-01 04:00:00                  33.61                       154.96   \n",
       "\n",
       "                     zhiwuyuan_aq_wind_speed/kph  \n",
       "time                                              \n",
       "2017-01-01 00:00:00                         1.51  \n",
       "2017-01-01 01:00:00                         1.37  \n",
       "2017-01-01 02:00:00                         1.38  \n",
       "2017-01-01 03:00:00                         1.53  \n",
       "2017-01-01 04:00:00                         2.27  "
      ]
     },
     "execution_count": 4,
     "metadata": {},
     "output_type": "execute_result"
    }
   ],
   "source": [
    "bj_meo_stations['zhiwuyuan_aq'].head()"
   ]
  },
  {
   "cell_type": "code",
   "execution_count": 5,
   "metadata": {
    "scrolled": true
   },
   "outputs": [
    {
     "data": {
      "text/plain": [
       "35"
      ]
     },
     "execution_count": 5,
     "metadata": {},
     "output_type": "execute_result"
    }
   ],
   "source": [
    "len(bj_meo_stations.keys())"
   ]
  },
  {
   "cell_type": "markdown",
   "metadata": {},
   "source": [
    "### 2. 重复值分析"
   ]
  },
  {
   "cell_type": "markdown",
   "metadata": {},
   "source": [
    "- 识别重复值的数量，并将重复值去掉\n",
    "- meo 数据中没有重复数据"
   ]
  },
  {
   "cell_type": "code",
   "execution_count": 6,
   "metadata": {
    "scrolled": false
   },
   "outputs": [
    {
     "name": "stdout",
     "output_type": "stream",
     "text": [
      "dongsihuan_aq 重复数量 : 0\n",
      "aotizhongxin_aq 重复数量 : 0\n",
      "zhiwuyuan_aq 重复数量 : 0\n",
      "donggaocun_aq 重复数量 : 0\n",
      "qianmen_aq 重复数量 : 0\n",
      "tiantan_aq 重复数量 : 0\n",
      "dingling_aq 重复数量 : 0\n",
      "liulihe_aq 重复数量 : 0\n",
      "pinggu_aq 重复数量 : 0\n",
      "wanshouxigong_aq 重复数量 : 0\n",
      "dongsi_aq 重复数量 : 0\n",
      "badaling_aq 重复数量 : 0\n",
      "pingchang_aq 重复数量 : 0\n",
      "nansanhuan_aq 重复数量 : 0\n",
      "beibuxinqu_aq 重复数量 : 0\n",
      "fengtaihuayuan_aq 重复数量 : 0\n",
      "yufa_aq 重复数量 : 0\n",
      "yanqin_aq 重复数量 : 0\n",
      "mentougou_aq 重复数量 : 0\n",
      "yongdingmennei_aq 重复数量 : 0\n",
      "gucheng_aq 重复数量 : 0\n",
      "shunyi_aq 重复数量 : 0\n",
      "fangshan_aq 重复数量 : 0\n",
      "wanliu_aq 重复数量 : 0\n",
      "miyunshuiku_aq 重复数量 : 0\n",
      "tongzhou_aq 重复数量 : 0\n",
      "yizhuang_aq 重复数量 : 0\n",
      "yongledian_aq 重复数量 : 0\n",
      "nongzhanguan_aq 重复数量 : 0\n",
      "yungang_aq 重复数量 : 0\n",
      "huairou_aq 重复数量 : 0\n",
      "daxing_aq 重复数量 : 0\n",
      "miyun_aq 重复数量 : 0\n",
      "guanyuan_aq 重复数量 : 0\n",
      "xizhimenbei_aq 重复数量 : 0\n"
     ]
    }
   ],
   "source": [
    "for station in bj_meo_stations.keys() :\n",
    "    \n",
    "    df = bj_meo_stations[station].copy()\n",
    "    length = df.shape[0]\n",
    "    order = range(length)\n",
    "    df['order'] = pd.Series(order, index=df.index)    \n",
    "    \n",
    "    \n",
    "    df[\"time\"] = df.index\n",
    "    df.set_index(\"order\", inplace=True)\n",
    "    \n",
    "    length_1 = df.shape[0]\n",
    "    # print(\"重复值去除之前，共有数据数量\", df.shape[0])\n",
    "    \n",
    "    used_times = []\n",
    "    for index in df.index :\n",
    "        time = df.loc[index][\"time\"]\n",
    "        if time not in used_times :\n",
    "            used_times.append(time)\n",
    "        else : \n",
    "            df.drop([index], inplace=True)\n",
    "\n",
    "    length_2 = df.shape[0]\n",
    "    delta = length_1 - length_2\n",
    "    # print(\"重复值去除之后，共有数据数量\", df.shape[0])\n",
    "    print(\"%s 重复数量 : %d\" %(station, delta))\n",
    "    \n",
    "    df.set_index(\"time\", inplace=True)\n",
    "    bj_meo_stations[station] = df"
   ]
  },
  {
   "cell_type": "markdown",
   "metadata": {},
   "source": [
    "### 3. 缺失值分析"
   ]
  },
  {
   "cell_type": "markdown",
   "metadata": {},
   "source": [
    "#### 3.1 局部缺失"
   ]
  },
  {
   "cell_type": "markdown",
   "metadata": {},
   "source": [
    "判断有没有局部缺失：没有局部缺失！"
   ]
  },
  {
   "cell_type": "code",
   "execution_count": 7,
   "metadata": {},
   "outputs": [
    {
     "name": "stdout",
     "output_type": "stream",
     "text": [
      "dongsihuan_aq False\n",
      "aotizhongxin_aq False\n",
      "zhiwuyuan_aq False\n",
      "donggaocun_aq False\n",
      "qianmen_aq False\n",
      "tiantan_aq False\n",
      "dingling_aq False\n",
      "liulihe_aq False\n",
      "pinggu_aq False\n",
      "wanshouxigong_aq False\n",
      "dongsi_aq False\n",
      "badaling_aq False\n",
      "pingchang_aq False\n",
      "nansanhuan_aq False\n",
      "beibuxinqu_aq False\n",
      "fengtaihuayuan_aq False\n",
      "yufa_aq False\n",
      "yanqin_aq False\n",
      "mentougou_aq False\n",
      "yongdingmennei_aq False\n",
      "gucheng_aq False\n",
      "shunyi_aq False\n",
      "fangshan_aq False\n",
      "wanliu_aq False\n",
      "miyunshuiku_aq False\n",
      "tongzhou_aq False\n",
      "yizhuang_aq False\n",
      "yongledian_aq False\n",
      "nongzhanguan_aq False\n",
      "yungang_aq False\n",
      "huairou_aq False\n",
      "daxing_aq False\n",
      "miyun_aq False\n",
      "guanyuan_aq False\n",
      "xizhimenbei_aq False\n"
     ]
    }
   ],
   "source": [
    "for station in bj_meo_stations.keys():\n",
    "    df = bj_meo_stations[station]\n",
    "    print(station, pd.isnull(df).any().any())"
   ]
  },
  {
   "cell_type": "markdown",
   "metadata": {},
   "source": [
    "#### 3.2 整体缺失"
   ]
  },
  {
   "cell_type": "markdown",
   "metadata": {},
   "source": [
    "不同站点的整体缺失值也很一致，都是三月底的数据，说明 meo 的数据还是比较全的"
   ]
  },
  {
   "cell_type": "code",
   "execution_count": 8,
   "metadata": {
    "scrolled": false
   },
   "outputs": [
    {
     "name": "stdout",
     "output_type": "stream",
     "text": [
      "dongsihuan_aq 缺失时间节点数量是 121\n",
      "aotizhongxin_aq 缺失时间节点数量是 122\n",
      "zhiwuyuan_aq 缺失时间节点数量是 121\n",
      "donggaocun_aq 缺失时间节点数量是 121\n",
      "qianmen_aq 缺失时间节点数量是 121\n",
      "tiantan_aq 缺失时间节点数量是 121\n",
      "dingling_aq 缺失时间节点数量是 121\n",
      "liulihe_aq 缺失时间节点数量是 121\n",
      "pinggu_aq 缺失时间节点数量是 121\n",
      "wanshouxigong_aq 缺失时间节点数量是 121\n",
      "dongsi_aq 缺失时间节点数量是 121\n",
      "badaling_aq 缺失时间节点数量是 121\n",
      "pingchang_aq 缺失时间节点数量是 121\n",
      "nansanhuan_aq 缺失时间节点数量是 121\n",
      "beibuxinqu_aq 缺失时间节点数量是 121\n",
      "fengtaihuayuan_aq 缺失时间节点数量是 121\n",
      "yufa_aq 缺失时间节点数量是 121\n",
      "yanqin_aq 缺失时间节点数量是 121\n",
      "mentougou_aq 缺失时间节点数量是 122\n",
      "yongdingmennei_aq 缺失时间节点数量是 121\n",
      "gucheng_aq 缺失时间节点数量是 121\n",
      "shunyi_aq 缺失时间节点数量是 121\n",
      "fangshan_aq 缺失时间节点数量是 121\n",
      "wanliu_aq 缺失时间节点数量是 121\n",
      "miyunshuiku_aq 缺失时间节点数量是 121\n",
      "tongzhou_aq 缺失时间节点数量是 121\n",
      "yizhuang_aq 缺失时间节点数量是 121\n",
      "yongledian_aq 缺失时间节点数量是 121\n",
      "nongzhanguan_aq 缺失时间节点数量是 121\n",
      "yungang_aq 缺失时间节点数量是 121\n",
      "huairou_aq 缺失时间节点数量是 121\n",
      "daxing_aq 缺失时间节点数量是 121\n",
      "miyun_aq 缺失时间节点数量是 121\n",
      "guanyuan_aq 缺失时间节点数量是 121\n",
      "xizhimenbei_aq 缺失时间节点数量是 121\n"
     ]
    }
   ],
   "source": [
    "for station in bj_meo_stations.keys() :\n",
    "    df = bj_meo_stations[station].copy()\n",
    "    \n",
    "    min_time = df.index.min()\n",
    "    max_time = df.index.max()\n",
    "\n",
    "    min_time = datetime.datetime.strptime(min_time, '%Y-%m-%d %H:%M:%S')\n",
    "    max_time = datetime.datetime.strptime(max_time, '%Y-%m-%d %H:%M:%S')\n",
    "    delta_all = max_time - min_time\n",
    "    \n",
    "    all_length = delta_all.total_seconds()/3600 + 1\n",
    "    real_length = df.shape[0]\n",
    "    # print(\"在空气质量数据时间段内，总共应该有 %d 个小时节点。\" %(all_length))\n",
    "    # print(\"实际的时间节点数是 \", real_length)\n",
    "    print(\"%s 缺失时间节点数量是 %d\" %(station, all_length-real_length))"
   ]
  },
  {
   "cell_type": "markdown",
   "metadata": {},
   "source": [
    "#### 3.3 整体缺失补充"
   ]
  },
  {
   "cell_type": "code",
   "execution_count": 9,
   "metadata": {},
   "outputs": [
    {
     "name": "stdout",
     "output_type": "stream",
     "text": [
      "dongsihuan_aq (11351, 5)\n",
      "aotizhongxin_aq (11350, 5)\n",
      "zhiwuyuan_aq (11351, 5)\n",
      "donggaocun_aq (11351, 5)\n",
      "qianmen_aq (11351, 5)\n",
      "tiantan_aq (11351, 5)\n",
      "dingling_aq (11351, 5)\n",
      "liulihe_aq (11351, 5)\n",
      "pinggu_aq (11351, 5)\n",
      "wanshouxigong_aq (11351, 5)\n",
      "dongsi_aq (11351, 5)\n",
      "badaling_aq (11351, 5)\n",
      "pingchang_aq (11351, 5)\n",
      "nansanhuan_aq (11351, 5)\n",
      "beibuxinqu_aq (11351, 5)\n",
      "fengtaihuayuan_aq (11351, 5)\n",
      "yufa_aq (11351, 5)\n",
      "yanqin_aq (11351, 5)\n",
      "mentougou_aq (11350, 5)\n",
      "yongdingmennei_aq (11351, 5)\n",
      "gucheng_aq (11351, 5)\n",
      "shunyi_aq (11351, 5)\n",
      "fangshan_aq (11351, 5)\n",
      "wanliu_aq (11351, 5)\n",
      "miyunshuiku_aq (11351, 5)\n",
      "tongzhou_aq (11351, 5)\n",
      "yizhuang_aq (11351, 5)\n",
      "yongledian_aq (11351, 5)\n",
      "nongzhanguan_aq (11351, 5)\n",
      "yungang_aq (11351, 5)\n",
      "huairou_aq (11351, 5)\n",
      "daxing_aq (11351, 5)\n",
      "miyun_aq (11351, 5)\n",
      "guanyuan_aq (11351, 5)\n",
      "xizhimenbei_aq (11351, 5)\n"
     ]
    }
   ],
   "source": [
    "for station in bj_meo_stations.keys() :\n",
    "    df = bj_meo_stations[station].copy()\n",
    "    print(station, df.shape)"
   ]
  },
  {
   "cell_type": "code",
   "execution_count": 10,
   "metadata": {},
   "outputs": [
    {
     "name": "stdout",
     "output_type": "stream",
     "text": [
      "dongsihuan_aq : length of data is 11472\n",
      "aotizhongxin_aq : length of data is 11472\n",
      "zhiwuyuan_aq : length of data is 11472\n",
      "donggaocun_aq : length of data is 11472\n",
      "qianmen_aq : length of data is 11472\n",
      "tiantan_aq : length of data is 11472\n",
      "dingling_aq : length of data is 11472\n",
      "liulihe_aq : length of data is 11472\n",
      "pinggu_aq : length of data is 11472\n",
      "wanshouxigong_aq : length of data is 11472\n",
      "dongsi_aq : length of data is 11472\n",
      "badaling_aq : length of data is 11472\n",
      "pingchang_aq : length of data is 11472\n",
      "nansanhuan_aq : length of data is 11472\n",
      "beibuxinqu_aq : length of data is 11472\n",
      "fengtaihuayuan_aq : length of data is 11472\n",
      "yufa_aq : length of data is 11472\n",
      "yanqin_aq : length of data is 11472\n",
      "mentougou_aq : length of data is 11472\n",
      "yongdingmennei_aq : length of data is 11472\n",
      "gucheng_aq : length of data is 11472\n",
      "shunyi_aq : length of data is 11472\n",
      "fangshan_aq : length of data is 11472\n",
      "wanliu_aq : length of data is 11472\n",
      "miyunshuiku_aq : length of data is 11472\n",
      "tongzhou_aq : length of data is 11472\n",
      "yizhuang_aq : length of data is 11472\n",
      "yongledian_aq : length of data is 11472\n",
      "nongzhanguan_aq : length of data is 11472\n",
      "yungang_aq : length of data is 11472\n",
      "huairou_aq : length of data is 11472\n",
      "daxing_aq : length of data is 11472\n",
      "miyun_aq : length of data is 11472\n",
      "guanyuan_aq : length of data is 11472\n",
      "xizhimenbei_aq : length of data is 11472\n"
     ]
    }
   ],
   "source": [
    "delta = datetime.timedelta(hours=1)\n",
    "\n",
    "for station in bj_meo_stations.keys() :\n",
    "    df = bj_meo_stations[station].copy()\n",
    "    nan_series = pd.Series({key:np.nan for key in df.columns})\n",
    "    \n",
    "    min_time = df.index.min()\n",
    "    max_time = df.index.max()\n",
    "\n",
    "    min_time = datetime.datetime.strptime(min_time, '%Y-%m-%d %H:%M:%S')\n",
    "    max_time = datetime.datetime.strptime(max_time, '%Y-%m-%d %H:%M:%S')\n",
    "\n",
    "    time = min_time\n",
    "    while time <=  max_time :\n",
    "        time_str = datetime.date.strftime(time, '%Y-%m-%d %H:%M:%S')\n",
    "        if time_str not in df.index : \n",
    "            df.loc[time_str] = nan_series\n",
    "        time += delta\n",
    "    \n",
    "    bj_meo_stations[station] = df\n",
    "    \n",
    "    print(\"%s : length of data is %d\" %(station, df.shape[0]))"
   ]
  },
  {
   "cell_type": "markdown",
   "metadata": {},
   "source": [
    "#### 3.4 拼成整表，并保存"
   ]
  },
  {
   "cell_type": "code",
   "execution_count": 11,
   "metadata": {
    "collapsed": true
   },
   "outputs": [],
   "source": [
    "bj_meo_stations_merged = pd.concat(list(bj_meo_stations.values()), axis=1)"
   ]
  },
  {
   "cell_type": "code",
   "execution_count": 12,
   "metadata": {},
   "outputs": [
    {
     "data": {
      "text/plain": [
       "(11472, 175)"
      ]
     },
     "execution_count": 12,
     "metadata": {},
     "output_type": "execute_result"
    }
   ],
   "source": [
    "bj_meo_stations_merged.shape"
   ]
  },
  {
   "cell_type": "code",
   "execution_count": 13,
   "metadata": {},
   "outputs": [],
   "source": [
    "bj_meo_stations_merged.sort_index(inplace=True)"
   ]
  },
  {
   "cell_type": "code",
   "execution_count": 14,
   "metadata": {
    "collapsed": true
   },
   "outputs": [],
   "source": [
    "bj_meo_stations_merged.to_csv(\"data/bj_meo_data.csv\")"
   ]
  },
  {
   "cell_type": "markdown",
   "metadata": {},
   "source": [
    "### Changelog\n",
    "- 0425 v0\n",
    "    - 天气数据的缺失值补全\n",
    "    - 将数据保存到 `data/bj_meo_data.csv`中"
   ]
  }
 ],
 "metadata": {
  "kernelspec": {
   "display_name": "Python 3",
   "language": "python",
   "name": "python3"
  },
  "language_info": {
   "codemirror_mode": {
    "name": "ipython",
    "version": 3
   },
   "file_extension": ".py",
   "mimetype": "text/x-python",
   "name": "python",
   "nbconvert_exporter": "python",
   "pygments_lexer": "ipython3",
   "version": "3.5.2"
  }
 },
 "nbformat": 4,
 "nbformat_minor": 2
}
