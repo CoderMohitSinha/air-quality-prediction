{
 "cells": [
  {
   "cell_type": "code",
   "execution_count": 1,
   "metadata": {},
   "outputs": [
    {
     "name": "stderr",
     "output_type": "stream",
     "text": [
      "/home/cvdev/tf/lib/python3.5/site-packages/h5py/__init__.py:36: FutureWarning: Conversion of the second argument of issubdtype from `float` to `np.floating` is deprecated. In future, it will be treated as `np.float64 == np.dtype(float).type`.\n",
      "  from ._conv import register_converters as _register_converters\n",
      "Using TensorFlow backend.\n"
     ]
    }
   ],
   "source": [
    "# 训练一个使用所有特征的模型\n",
    "import tkinter\n",
    "import os\n",
    "import pandas as pd\n",
    "import numpy as np \n",
    "import seaborn as sns\n",
    "import tensorflow as tf\n",
    "import keras.backend.tensorflow_backend as KTF\n",
    "\n",
    "os.environ['CUDA_VISIBLE_DEVICES'] = '1'\n",
    "\n",
    "gpu_config = tf.ConfigProto()\n",
    "gpu_config.gpu_options.allow_growth = True\n",
    "session = tf.Session(config=gpu_config)\n",
    "KTF.set_session(session)"
   ]
  },
  {
   "cell_type": "code",
   "execution_count": 2,
   "metadata": {},
   "outputs": [],
   "source": [
    "## 主程序\n",
    "import numpy as np\n",
    "import pandas as pd\n",
    "from aq_data_preprocess import aq_data_preprocess\n",
    "from weather_data_preprocess import meo_data_preprocess\n",
    "from train_dev_set_split import train_dev_set_split\n",
    "from train_seq2seq import train_and_dev\n",
    "\n",
    "# gap 时间需自动确定\n",
    "# gap 作为脚本的参数\n",
    "gap = 24\n"
   ]
  },
  {
   "cell_type": "code",
   "execution_count": 4,
   "metadata": {},
   "outputs": [
    {
     "name": "stdout",
     "output_type": "stream",
     "text": [
      "(11626, 210)\n",
      "Finished Beijing aq data preprocess.\n"
     ]
    },
    {
     "name": "stderr",
     "output_type": "stream",
     "text": [
      "/home/cvdev/tf/lib/python3.5/site-packages/IPython/core/interactiveshell.py:2963: DtypeWarning: Columns (0,1) have mixed types. Specify dtype option on import or set low_memory=False.\n",
      "  exec(code_obj, self.user_global_ns, self.user_ns)\n",
      "/home/cvdev/air-quality-prediction/aq_data_preprocess.py:199: SettingWithCopyWarning: \n",
      "A value is trying to be set on a copy of a slice from a DataFrame\n",
      "\n",
      "See the caveats in the documentation: http://pandas.pydata.org/pandas-docs/stable/indexing.html#indexing-view-versus-copy\n",
      "  df_merged.loc[hour] = for_row + (for_step/all_steps) * delata_values\n",
      "/home/cvdev/air-quality-prediction/aq_data_preprocess.py:210: SettingWithCopyWarning: \n",
      "A value is trying to be set on a copy of a slice from a DataFrame\n",
      "\n",
      "See the caveats in the documentation: http://pandas.pydata.org/pandas-docs/stable/indexing.html#indexing-view-versus-copy\n",
      "  df_merged.loc[hour] = nan_series\n",
      "/home/cvdev/air-quality-prediction/aq_data_preprocess.py:212: SettingWithCopyWarning: \n",
      "A value is trying to be set on a copy of a slice from a DataFrame\n",
      "\n",
      "See the caveats in the documentation: http://pandas.pydata.org/pandas-docs/stable/indexing.html#indexing-view-versus-copy\n",
      "  df_merged.sort_index(inplace=True)\n"
     ]
    },
    {
     "name": "stdout",
     "output_type": "stream",
     "text": [
      "(11640, 39)\n",
      "Finished London aq data preprocess.\n",
      "名字 Index(['temperature', 'pressure', 'humidity', 'wind_direction', 'wind_speed'], dtype='object')\n",
      "名字 Index(['temperature', 'pressure', 'humidity', 'wind_direction', 'wind_speed'], dtype='object')\n",
      "名字 Index(['temperature', 'pressure', 'humidity', 'wind_direction', 'wind_speed'], dtype='object')\n",
      "名字 Index(['temperature', 'pressure', 'humidity', 'wind_direction', 'wind_speed'], dtype='object')\n",
      "名字 Index(['temperature', 'pressure', 'humidity', 'wind_direction', 'wind_speed'], dtype='object')\n",
      "名字 Index(['temperature', 'pressure', 'humidity', 'wind_direction', 'wind_speed'], dtype='object')\n",
      "名字 Index(['temperature', 'pressure', 'humidity', 'wind_direction', 'wind_speed'], dtype='object')\n",
      "名字 Index(['temperature', 'pressure', 'humidity', 'wind_direction', 'wind_speed'], dtype='object')\n",
      "名字 Index(['temperature', 'pressure', 'humidity', 'wind_direction', 'wind_speed'], dtype='object')\n",
      "名字 Index(['temperature', 'pressure', 'humidity', 'wind_direction', 'wind_speed'], dtype='object')\n",
      "名字 Index(['temperature', 'pressure', 'humidity', 'wind_direction', 'wind_speed'], dtype='object')\n",
      "名字 Index(['temperature', 'pressure', 'humidity', 'wind_direction', 'wind_speed'], dtype='object')\n",
      "名字 Index(['temperature', 'pressure', 'humidity', 'wind_direction', 'wind_speed'], dtype='object')\n",
      "名字 Index(['temperature', 'pressure', 'humidity', 'wind_direction', 'wind_speed'], dtype='object')\n",
      "名字 Index(['temperature', 'pressure', 'humidity', 'wind_direction', 'wind_speed'], dtype='object')\n",
      "名字 Index(['temperature', 'pressure', 'humidity', 'wind_direction', 'wind_speed'], dtype='object')\n",
      "名字 Index(['temperature', 'pressure', 'humidity', 'wind_direction', 'wind_speed'], dtype='object')\n",
      "名字 Index(['temperature', 'pressure', 'humidity', 'wind_direction', 'wind_speed'], dtype='object')\n",
      "名字 Index(['temperature', 'pressure', 'humidity', 'wind_direction', 'wind_speed'], dtype='object')\n",
      "名字 Index(['temperature', 'pressure', 'humidity', 'wind_direction', 'wind_speed'], dtype='object')\n",
      "名字 Index(['temperature', 'pressure', 'humidity', 'wind_direction', 'wind_speed'], dtype='object')\n",
      "名字 Index(['temperature', 'pressure', 'humidity', 'wind_direction', 'wind_speed'], dtype='object')\n",
      "名字 Index(['temperature', 'pressure', 'humidity', 'wind_direction', 'wind_speed'], dtype='object')\n",
      "名字 Index(['temperature', 'pressure', 'humidity', 'wind_direction', 'wind_speed'], dtype='object')\n",
      "名字 Index(['temperature', 'pressure', 'humidity', 'wind_direction', 'wind_speed'], dtype='object')\n",
      "名字 Index(['temperature', 'pressure', 'humidity', 'wind_direction', 'wind_speed'], dtype='object')\n",
      "名字 Index(['temperature', 'pressure', 'humidity', 'wind_direction', 'wind_speed'], dtype='object')\n",
      "名字 Index(['temperature', 'pressure', 'humidity', 'wind_direction', 'wind_speed'], dtype='object')\n",
      "名字 Index(['temperature', 'pressure', 'humidity', 'wind_direction', 'wind_speed'], dtype='object')\n",
      "名字 Index(['temperature', 'pressure', 'humidity', 'wind_direction', 'wind_speed'], dtype='object')\n",
      "名字 Index(['temperature', 'pressure', 'humidity', 'wind_direction', 'wind_speed'], dtype='object')\n",
      "名字 Index(['temperature', 'pressure', 'humidity', 'wind_direction', 'wind_speed'], dtype='object')\n",
      "名字 Index(['temperature', 'pressure', 'humidity', 'wind_direction', 'wind_speed'], dtype='object')\n",
      "名字 Index(['temperature', 'pressure', 'humidity', 'wind_direction', 'wind_speed'], dtype='object')\n",
      "名字 Index(['temperature', 'pressure', 'humidity', 'wind_direction', 'wind_speed'], dtype='object')\n",
      "将要保存的天气数据的尺寸是　 (11640, 175)\n",
      "Finished Beijing meo data preprocess.\n",
      "名字 Index(['humidity', 'pressure', 'temperature', 'wind_direction', 'wind_speed'], dtype='object')\n",
      "名字 Index(['humidity', 'pressure', 'temperature', 'wind_direction', 'wind_speed'], dtype='object')\n",
      "名字 Index(['humidity', 'pressure', 'temperature', 'wind_direction', 'wind_speed'], dtype='object')\n",
      "名字 Index(['humidity', 'pressure', 'temperature', 'wind_direction', 'wind_speed'], dtype='object')\n",
      "名字 Index(['humidity', 'pressure', 'temperature', 'wind_direction', 'wind_speed'], dtype='object')\n",
      "名字 Index(['humidity', 'pressure', 'temperature', 'wind_direction', 'wind_speed'], dtype='object')\n",
      "名字 Index(['humidity', 'pressure', 'temperature', 'wind_direction', 'wind_speed'], dtype='object')\n",
      "名字 Index(['humidity', 'pressure', 'temperature', 'wind_direction', 'wind_speed'], dtype='object')\n",
      "名字 Index(['humidity', 'pressure', 'temperature', 'wind_direction', 'wind_speed'], dtype='object')\n",
      "名字 Index(['humidity', 'pressure', 'temperature', 'wind_direction', 'wind_speed'], dtype='object')\n",
      "名字 Index(['humidity', 'pressure', 'temperature', 'wind_direction', 'wind_speed'], dtype='object')\n",
      "名字 Index(['humidity', 'pressure', 'temperature', 'wind_direction', 'wind_speed'], dtype='object')\n",
      "名字 Index(['humidity', 'pressure', 'temperature', 'wind_direction', 'wind_speed'], dtype='object')\n",
      "名字 Index(['humidity', 'pressure', 'temperature', 'wind_direction', 'wind_speed'], dtype='object')\n",
      "名字 Index(['humidity', 'pressure', 'temperature', 'wind_direction', 'wind_speed'], dtype='object')\n",
      "名字 Index(['humidity', 'pressure', 'temperature', 'wind_direction', 'wind_speed'], dtype='object')\n",
      "名字 Index(['humidity', 'pressure', 'temperature', 'wind_direction', 'wind_speed'], dtype='object')\n",
      "名字 Index(['humidity', 'pressure', 'temperature', 'wind_direction', 'wind_speed'], dtype='object')\n",
      "名字 Index(['humidity', 'pressure', 'temperature', 'wind_direction', 'wind_speed'], dtype='object')\n",
      "名字 Index(['humidity', 'pressure', 'temperature', 'wind_direction', 'wind_speed'], dtype='object')\n",
      "名字 Index(['humidity', 'pressure', 'temperature', 'wind_direction', 'wind_speed'], dtype='object')\n",
      "名字 Index(['humidity', 'pressure', 'temperature', 'wind_direction', 'wind_speed'], dtype='object')\n",
      "名字 Index(['humidity', 'pressure', 'temperature', 'wind_direction', 'wind_speed'], dtype='object')\n",
      "名字 Index(['humidity', 'pressure', 'temperature', 'wind_direction', 'wind_speed'], dtype='object')\n",
      "将要保存的天气数据的尺寸是　 (11640, 120)\n",
      "Finished London meo data preprocess.\n"
     ]
    }
   ],
   "source": [
    "aq_data_preprocess(city='bj')\n",
    "print(\"Finished Beijing aq data preprocess.\")\n",
    "aq_data_preprocess(city='ld')\n",
    "print(\"Finished London aq data preprocess.\")\n",
    "meo_data_preprocess(city='bj')\n",
    "print(\"Finished Beijing meo data preprocess.\")\n",
    "meo_data_preprocess(city='ld')\n",
    "print(\"Finished London meo data preprocess.\")"
   ]
  },
  {
   "cell_type": "code",
   "execution_count": 5,
   "metadata": {},
   "outputs": [],
   "source": [
    "train_dev_set_split(city=\"bj\")\n",
    "train_dev_set_split(city=\"ld\")"
   ]
  },
  {
   "cell_type": "code",
   "execution_count": null,
   "metadata": {},
   "outputs": [],
   "source": []
  }
 ],
 "metadata": {
  "kernelspec": {
   "display_name": "Python 3",
   "language": "python",
   "name": "python3"
  },
  "language_info": {
   "codemirror_mode": {
    "name": "ipython",
    "version": 3
   },
   "file_extension": ".py",
   "mimetype": "text/x-python",
   "name": "python",
   "nbconvert_exporter": "python",
   "pygments_lexer": "ipython3",
   "version": "3.5.2"
  }
 },
 "nbformat": 4,
 "nbformat_minor": 2
}
