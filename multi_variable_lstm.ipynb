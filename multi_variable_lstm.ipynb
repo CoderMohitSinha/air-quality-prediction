{
 "cells": [
  {
   "cell_type": "markdown",
   "metadata": {},
   "source": [
    "## 0. lstm Model\n",
    "- 使用之前5天的数据，对之后48小时的空气质量进行预测，模型如下"
   ]
  },
  {
   "cell_type": "markdown",
   "metadata": {},
   "source": [
    "![](http://p3rz3gu1u.bkt.clouddn.com/2018-04-14-lstm_predict_aq.png)\n",
    "<caption><center> **Figure 1**: lstm model</center></caption>"
   ]
  },
  {
   "cell_type": "code",
   "execution_count": 1,
   "metadata": {},
   "outputs": [
    {
     "name": "stderr",
     "output_type": "stream",
     "text": [
      "/home/cvdev/tf/lib/python3.5/site-packages/h5py/__init__.py:36: FutureWarning: Conversion of the second argument of issubdtype from `float` to `np.floating` is deprecated. In future, it will be treated as `np.float64 == np.dtype(float).type`.\n",
      "  from ._conv import register_converters as _register_converters\n",
      "Using TensorFlow backend.\n"
     ]
    }
   ],
   "source": [
    "# Using pandas to process data\n",
    "import numpy as np\n",
    "import pandas as pd\n",
    "import tensorflow as tf\n",
    "import datetime\n",
    "import os\n",
    "from matplotlib import pyplot as plt\n",
    "%matplotlib inline\n",
    "import keras.backend.tensorflow_backend as KTF\n",
    "\n",
    "from utils.data_util import parse_bj_aq_data, generate_model_data\n",
    "# from utils.plot_util import plot_station, plot_stations\n",
    "from lstm.lstm_data_util import generate_test_samples, generate_data_for_lstm\n",
    "from lstm.rnn_model import rnn_model, single_rnn_model\n",
    "from metrics.metrics import SMAPE_on_dataset"
   ]
  },
  {
   "cell_type": "code",
   "execution_count": 2,
   "metadata": {},
   "outputs": [],
   "source": [
    "os.environ['CUDA_VISIBLE_DEVICES'] = '1'\n",
    "\n",
    "gpu_config = tf.ConfigProto()\n",
    "gpu_config.gpu_options.allow_growth = True\n",
    "session = tf.Session(config=gpu_config)\n",
    "KTF.set_session(session)"
   ]
  },
  {
   "cell_type": "code",
   "execution_count": 3,
   "metadata": {},
   "outputs": [
    {
     "name": "stdout",
     "output_type": "stream",
     "text": [
      "NaN in PM2.5 is 23459, 6.508615 %\n",
      "NaN in PM10 is 96175, 26.683406 %\n",
      "NaN in NO2 is 21720, 6.026135 %\n",
      "NaN in CO is 46144, 12.802486 %\n",
      "NaN in O3 is 23732, 6.584358 %\n",
      "NaN in SO2 is 21664, 6.010598 %\n",
      "There are 35 air quality stations in Beijing\n",
      "\n",
      "The stations in Beijing are:\n",
      " {'tiantan_aq', 'shunyi_aq', 'yanqin_aq', 'yungang_aq', 'huairou_aq', 'mentougou_aq', 'fengtaihuayuan_aq', 'daxing_aq', 'dingling_aq', 'dongsihuan_aq', 'pinggu_aq', 'tongzhou_aq', 'donggaocun_aq', 'miyunshuiku_aq', 'aotizhongxin_aq', 'qianmen_aq', 'yongledian_aq', 'pingchang_aq', 'nongzhanguan_aq', 'guanyuan_aq', 'wanliu_aq', 'dongsi_aq', 'fangshan_aq', 'gucheng_aq', 'yizhuang_aq', 'miyun_aq', 'badaling_aq', 'yongdingmennei_aq', 'zhiwuyuan_aq', 'liulihe_aq', 'nansanhuan_aq', 'yufa_aq', 'beibuxinqu_aq', 'xizhimenbei_aq', 'wanshouxigong_aq'}\n"
     ]
    },
    {
     "name": "stderr",
     "output_type": "stream",
     "text": [
      "/home/cvdev/air-quality-prediction/utils/data_util.py:46: SettingWithCopyWarning: \n",
      "A value is trying to be set on a copy of a slice from a DataFrame\n",
      "\n",
      "See the caveats in the documentation: http://pandas.pydata.org/pandas-docs/stable/indexing.html#indexing-view-versus-copy\n",
      "  bj_aq_station.drop(\"utc_time\", axis=1, inplace=True)\n",
      "/home/cvdev/air-quality-prediction/utils/data_util.py:47: SettingWithCopyWarning: \n",
      "A value is trying to be set on a copy of a slice from a DataFrame\n",
      "\n",
      "See the caveats in the documentation: http://pandas.pydata.org/pandas-docs/stable/indexing.html#indexing-view-versus-copy\n",
      "  bj_aq_station.drop(\"stationId\", axis=1, inplace=True)\n"
     ]
    }
   ],
   "source": [
    "bj_aq_data, stations, bj_aq_stations, bj_aq_stations_merged = parse_bj_aq_data()"
   ]
  },
  {
   "cell_type": "code",
   "execution_count": 4,
   "metadata": {},
   "outputs": [],
   "source": [
    "# take some data for example\n",
    "ts = bj_aq_stations_merged[\"tongzhou_aq_PM2.5\"]"
   ]
  },
  {
   "cell_type": "markdown",
   "metadata": {},
   "source": [
    "## 1 单变量预测\n",
    "- 单变量预测，用来验证模型在简单情况下的有效性\n",
    "- 向前预测一步时预测效果较好，当预测更远的数据时，效果迅速变差"
   ]
  },
  {
   "cell_type": "markdown",
   "metadata": {},
   "source": [
    "#### 1.1 向前预测一步"
   ]
  },
  {
   "cell_type": "code",
   "execution_count": 5,
   "metadata": {},
   "outputs": [],
   "source": [
    "# 单一变量的情况下，使用长度为30的序列，向前预测一位\n",
    "num_periods = 30\n",
    "f_horizon = 1"
   ]
  },
  {
   "cell_type": "code",
   "execution_count": 6,
   "metadata": {},
   "outputs": [
    {
     "name": "stdout",
     "output_type": "stream",
     "text": [
      "length of training data x :  (10290,)\n",
      "length of training data y :  (10290,)\n",
      "training data x shape :  (343, 30, 1)\n",
      "test data x shape :  (1, 30, 1)\n"
     ]
    }
   ],
   "source": [
    "X_batches, y_batches, X_test, y_test = generate_data_for_lstm(ts, num_periods = num_periods, f_horizon = f_horizon)"
   ]
  },
  {
   "cell_type": "code",
   "execution_count": 7,
   "metadata": {},
   "outputs": [
    {
     "data": {
      "text/plain": [
       "(1, 30, 1)"
      ]
     },
     "execution_count": 7,
     "metadata": {},
     "output_type": "execute_result"
    }
   ],
   "source": [
    "X_test.shape"
   ]
  },
  {
   "cell_type": "code",
   "execution_count": 8,
   "metadata": {},
   "outputs": [
    {
     "name": "stdout",
     "output_type": "stream",
     "text": [
      "0   MSE: 148284750.0\n",
      "1000   MSE: 1954402.8\n",
      "2000   MSE: 1657395.6\n",
      "3000   MSE: 1535317.9\n",
      "4000   MSE: 1418468.6\n"
     ]
    },
    {
     "data": {
      "image/png": "[encoded data removed]",
      "text/plain": [
       "<Figure size 432x288 with 1 Axes>"
      ]
     },
     "metadata": {},
     "output_type": "display_data"
    }
   ],
   "source": [
    "losses, Y_pred = single_rnn_model(X_batches, y_batches, X_test, y_test, cell=\"BasicRNNCell\", \n",
    "                  learning_rate=0.001, epochs=5000, print_every=1000, \n",
    "                  inputs=1, outputs=1, hidden=100, num_periods=num_periods)"
   ]
  },
  {
   "cell_type": "markdown",
   "metadata": {},
   "source": [
    "#### 1.2 向前预测多步"
   ]
  },
  {
   "cell_type": "code",
   "execution_count": 12,
   "metadata": {},
   "outputs": [],
   "source": [
    "def moving_f_horizons(ts, f_horizons, num_periods):\n",
    "    '''\n",
    "    Check the relationship between f_horizon, num_periods against the behavior.\n",
    "    Parameters must match.\n",
    "    \n",
    "    Argus:\n",
    "        ts : time series to be used.\n",
    "        f_horizons : how many steps predicting.\n",
    "        num_periods : total length of Tx.\n",
    "    '''\n",
    "    y_tests = []\n",
    "    y_preds = []\n",
    "    Losses = []\n",
    "    for f_horizon in f_horizons:    \n",
    "        X_batches, y_batches, X_test, y_test = generate_data_for_lstm(ts, num_periods = num_periods, f_horizon = f_horizon)\n",
    "        print(X_test.shape)\n",
    "        print(\"f_horizon is %d.\" %f_horizon)\n",
    "        losses, y_pred = single_rnn_model(X_batches, y_batches, X_test, y_test, cell=\"BasicRNNCell\", \n",
    "                  learning_rate=0.001, epochs=2000, print_every=1000, \n",
    "                  inputs=1, outputs=1, hidden=100, num_periods=num_periods)\n",
    "        y_tests.append(y_test)\n",
    "        y_preds.append(y_pred)\n",
    "        Losses.append(losses)\n",
    "        \n",
    "    return Losses, y_tests, y_preds"
   ]
  },
  {
   "cell_type": "code",
   "execution_count": 13,
   "metadata": {
    "scrolled": false
   },
   "outputs": [
    {
     "name": "stdout",
     "output_type": "stream",
     "text": [
      "length of training data x :  (10248,)\n",
      "length of training data y :  (10248,)\n",
      "training data x shape :  (61, 168, 1)\n",
      "test data x shape :  (1, 168, 1)\n",
      "(1, 168, 1)\n",
      "f_horizon is 2.\n",
      "0   MSE: 82810310.0\n",
      "1000   MSE: 5613722.0\n",
      "length of training data x :  (10248,)\n",
      "length of training data y :  (10248,)\n",
      "training data x shape :  (61, 168, 1)\n",
      "test data x shape :  (1, 168, 1)\n",
      "(1, 168, 1)\n",
      "f_horizon is 5.\n",
      "0   MSE: 97442040.0\n",
      "1000   MSE: 14070468.0\n"
     ]
    },
    {
     "data": {
      "image/png": "[encoded data removed]",
      "text/plain": [
       "<Figure size 432x288 with 1 Axes>"
      ]
     },
     "metadata": {},
     "output_type": "display_data"
    }
   ],
   "source": [
    "# num_periods=168 相当于一周七天的时间\n",
    "# f_horizons = 48 相当于预测两天的时间\n",
    "f_horizons = [2,5]\n",
    "num_periods = 168\n",
    "\n",
    "Losses, y_tests, y_preds = moving_f_horizons(ts, f_horizons, num_periods)"
   ]
  },
  {
   "cell_type": "code",
   "execution_count": 14,
   "metadata": {},
   "outputs": [
    {
     "data": {
      "image/png": "[encoded data removed]",
      "text/plain": [
       "<Figure size 432x288 with 1 Axes>"
      ]
     },
     "metadata": {},
     "output_type": "display_data"
    },
    {
     "data": {
      "image/png": "[encoded data removed]",
      "text/plain": [
       "<Figure size 432x288 with 1 Axes>"
      ]
     },
     "metadata": {},
     "output_type": "display_data"
    }
   ],
   "source": [
    "for i in range(len(Losses)):\n",
    "    \n",
    "    y_test = np.squeeze(y_tests[i])\n",
    "    y_pred = np.squeeze(y_preds[i])\n",
    "    \n",
    "    fig, ax=plt.subplots(1, 1)\n",
    "    \n",
    "    x = range(len(y_test))\n",
    "    \n",
    "    f_horizon = f_horizons[i]\n",
    "    fig.suptitle('with f_horizons =  %i' %(f_horizon));\n",
    "      \n",
    "    # p = plt.subplot(num)\n",
    "    ax.plot(x, y_test, label=\"ground truth\")\n",
    "    ax.plot(x, y_pred, 'r.', label=\"predicted value\")\n",
    "    ax.legend()"
   ]
  },
  {
   "cell_type": "markdown",
   "metadata": {
    "collapsed": true
   },
   "source": [
    "## 2. 多变量预测"
   ]
  },
  {
   "cell_type": "markdown",
   "metadata": {},
   "source": [
    "### 2.1 Introduce data"
   ]
  },
  {
   "cell_type": "code",
   "execution_count": 4,
   "metadata": {},
   "outputs": [
    {
     "name": "stdout",
     "output_type": "stream",
     "text": [
      "There are 210 features in the input and 105 features in the output.\n"
     ]
    }
   ],
   "source": [
    "#  use all 210 features\n",
    "all_features = bj_aq_stations_merged.dtypes.index\n",
    "features = all_features\n",
    "\n",
    "# use all selected features for input\n",
    "input_features = features\n",
    "# just use pm2.5, pm15 and O3 for output\n",
    "output_features = [i for i in features if \"PM2.5\" in i or \"PM10\" in i or \"O3\" in i]\n",
    "\n",
    "print(\"There are %d features in the input and %d features in the output.\" %(len(input_features), len(output_features)))"
   ]
  },
  {
   "cell_type": "code",
   "execution_count": 5,
   "metadata": {},
   "outputs": [],
   "source": [
    "df = bj_aq_stations_merged[features]\n",
    "df = df.reset_index()\n",
    "df = df.drop(columns=[\"format_time\"])"
   ]
  },
  {
   "cell_type": "code",
   "execution_count": 6,
   "metadata": {},
   "outputs": [
    {
     "data": {
      "text/plain": [
       "False"
      ]
     },
     "execution_count": 6,
     "metadata": {},
     "output_type": "execute_result"
    }
   ],
   "source": [
    "# 缺失值处理，缺失值处理当前尽在 .ipynb 中生效，在 .py 文件中不生效\n",
    "df.fillna(0, inplace=True)\n",
    "# df.fillna(method=\"ffill\", inplace=True)\n",
    "df.isnull().values.any()"
   ]
  },
  {
   "cell_type": "code",
   "execution_count": 7,
   "metadata": {},
   "outputs": [
    {
     "data": {
      "text/html": [
       "<div>\n",
       "<style scoped>\n",
       "    .dataframe tbody tr th:only-of-type {\n",
       "        vertical-align: middle;\n",
       "    }\n",
       "\n",
       "    .dataframe tbody tr th {\n",
       "        vertical-align: top;\n",
       "    }\n",
       "\n",
       "    .dataframe thead th {\n",
       "        text-align: right;\n",
       "    }\n",
       "</style>\n",
       "<table border=\"1\" class=\"dataframe\">\n",
       "  <thead>\n",
       "    <tr style=\"text-align: right;\">\n",
       "      <th></th>\n",
       "      <th>tiantan_aq_PM2.5</th>\n",
       "      <th>tiantan_aq_PM10</th>\n",
       "      <th>tiantan_aq_NO2</th>\n",
       "      <th>tiantan_aq_CO</th>\n",
       "      <th>tiantan_aq_O3</th>\n",
       "      <th>tiantan_aq_SO2</th>\n",
       "      <th>qianmen_aq_PM2.5</th>\n",
       "      <th>qianmen_aq_PM10</th>\n",
       "      <th>qianmen_aq_NO2</th>\n",
       "      <th>qianmen_aq_CO</th>\n",
       "      <th>...</th>\n",
       "      <th>wanshouxigong_aq_NO2</th>\n",
       "      <th>wanshouxigong_aq_CO</th>\n",
       "      <th>wanshouxigong_aq_O3</th>\n",
       "      <th>wanshouxigong_aq_SO2</th>\n",
       "      <th>yizhuang_aq_PM2.5</th>\n",
       "      <th>yizhuang_aq_PM10</th>\n",
       "      <th>yizhuang_aq_NO2</th>\n",
       "      <th>yizhuang_aq_CO</th>\n",
       "      <th>yizhuang_aq_O3</th>\n",
       "      <th>yizhuang_aq_SO2</th>\n",
       "    </tr>\n",
       "  </thead>\n",
       "  <tbody>\n",
       "    <tr>\n",
       "      <th>0</th>\n",
       "      <td>357.0</td>\n",
       "      <td>449.0</td>\n",
       "      <td>116.0</td>\n",
       "      <td>6.2</td>\n",
       "      <td>2.0</td>\n",
       "      <td>4.0</td>\n",
       "      <td>436.0</td>\n",
       "      <td>0.0</td>\n",
       "      <td>157.0</td>\n",
       "      <td>6.8</td>\n",
       "      <td>...</td>\n",
       "      <td>140.0</td>\n",
       "      <td>0.6</td>\n",
       "      <td>7.0</td>\n",
       "      <td>5.0</td>\n",
       "      <td>278.0</td>\n",
       "      <td>362.0</td>\n",
       "      <td>117.0</td>\n",
       "      <td>5.7</td>\n",
       "      <td>6.0</td>\n",
       "      <td>2.0</td>\n",
       "    </tr>\n",
       "    <tr>\n",
       "      <th>1</th>\n",
       "      <td>351.0</td>\n",
       "      <td>467.0</td>\n",
       "      <td>109.0</td>\n",
       "      <td>6.4</td>\n",
       "      <td>2.0</td>\n",
       "      <td>5.0</td>\n",
       "      <td>443.0</td>\n",
       "      <td>0.0</td>\n",
       "      <td>161.0</td>\n",
       "      <td>7.2</td>\n",
       "      <td>...</td>\n",
       "      <td>139.0</td>\n",
       "      <td>6.1</td>\n",
       "      <td>6.0</td>\n",
       "      <td>5.0</td>\n",
       "      <td>298.0</td>\n",
       "      <td>382.0</td>\n",
       "      <td>117.0</td>\n",
       "      <td>5.8</td>\n",
       "      <td>6.0</td>\n",
       "      <td>3.0</td>\n",
       "    </tr>\n",
       "    <tr>\n",
       "      <th>2</th>\n",
       "      <td>346.0</td>\n",
       "      <td>451.0</td>\n",
       "      <td>101.0</td>\n",
       "      <td>6.6</td>\n",
       "      <td>2.0</td>\n",
       "      <td>4.0</td>\n",
       "      <td>429.0</td>\n",
       "      <td>0.0</td>\n",
       "      <td>153.0</td>\n",
       "      <td>7.3</td>\n",
       "      <td>...</td>\n",
       "      <td>138.0</td>\n",
       "      <td>6.5</td>\n",
       "      <td>6.0</td>\n",
       "      <td>4.0</td>\n",
       "      <td>306.0</td>\n",
       "      <td>393.0</td>\n",
       "      <td>116.0</td>\n",
       "      <td>6.1</td>\n",
       "      <td>6.0</td>\n",
       "      <td>2.0</td>\n",
       "    </tr>\n",
       "    <tr>\n",
       "      <th>3</th>\n",
       "      <td>339.0</td>\n",
       "      <td>447.0</td>\n",
       "      <td>98.0</td>\n",
       "      <td>6.6</td>\n",
       "      <td>2.0</td>\n",
       "      <td>4.0</td>\n",
       "      <td>448.0</td>\n",
       "      <td>0.0</td>\n",
       "      <td>166.0</td>\n",
       "      <td>7.5</td>\n",
       "      <td>...</td>\n",
       "      <td>133.0</td>\n",
       "      <td>6.9</td>\n",
       "      <td>7.0</td>\n",
       "      <td>5.0</td>\n",
       "      <td>306.0</td>\n",
       "      <td>387.0</td>\n",
       "      <td>118.0</td>\n",
       "      <td>6.3</td>\n",
       "      <td>6.0</td>\n",
       "      <td>3.0</td>\n",
       "    </tr>\n",
       "    <tr>\n",
       "      <th>4</th>\n",
       "      <td>345.0</td>\n",
       "      <td>471.0</td>\n",
       "      <td>101.0</td>\n",
       "      <td>6.9</td>\n",
       "      <td>2.0</td>\n",
       "      <td>4.0</td>\n",
       "      <td>452.0</td>\n",
       "      <td>0.0</td>\n",
       "      <td>161.0</td>\n",
       "      <td>7.4</td>\n",
       "      <td>...</td>\n",
       "      <td>126.0</td>\n",
       "      <td>6.6</td>\n",
       "      <td>7.0</td>\n",
       "      <td>5.0</td>\n",
       "      <td>315.0</td>\n",
       "      <td>408.0</td>\n",
       "      <td>111.0</td>\n",
       "      <td>6.4</td>\n",
       "      <td>7.0</td>\n",
       "      <td>3.0</td>\n",
       "    </tr>\n",
       "  </tbody>\n",
       "</table>\n",
       "<p>5 rows × 210 columns</p>\n",
       "</div>"
      ],
      "text/plain": [
       "   tiantan_aq_PM2.5  tiantan_aq_PM10  tiantan_aq_NO2  tiantan_aq_CO  \\\n",
       "0             357.0            449.0           116.0            6.2   \n",
       "1             351.0            467.0           109.0            6.4   \n",
       "2             346.0            451.0           101.0            6.6   \n",
       "3             339.0            447.0            98.0            6.6   \n",
       "4             345.0            471.0           101.0            6.9   \n",
       "\n",
       "   tiantan_aq_O3  tiantan_aq_SO2  qianmen_aq_PM2.5  qianmen_aq_PM10  \\\n",
       "0            2.0             4.0             436.0              0.0   \n",
       "1            2.0             5.0             443.0              0.0   \n",
       "2            2.0             4.0             429.0              0.0   \n",
       "3            2.0             4.0             448.0              0.0   \n",
       "4            2.0             4.0             452.0              0.0   \n",
       "\n",
       "   qianmen_aq_NO2  qianmen_aq_CO       ...         wanshouxigong_aq_NO2  \\\n",
       "0           157.0            6.8       ...                        140.0   \n",
       "1           161.0            7.2       ...                        139.0   \n",
       "2           153.0            7.3       ...                        138.0   \n",
       "3           166.0            7.5       ...                        133.0   \n",
       "4           161.0            7.4       ...                        126.0   \n",
       "\n",
       "   wanshouxigong_aq_CO  wanshouxigong_aq_O3  wanshouxigong_aq_SO2  \\\n",
       "0                  0.6                  7.0                   5.0   \n",
       "1                  6.1                  6.0                   5.0   \n",
       "2                  6.5                  6.0                   4.0   \n",
       "3                  6.9                  7.0                   5.0   \n",
       "4                  6.6                  7.0                   5.0   \n",
       "\n",
       "   yizhuang_aq_PM2.5  yizhuang_aq_PM10  yizhuang_aq_NO2  yizhuang_aq_CO  \\\n",
       "0              278.0             362.0            117.0             5.7   \n",
       "1              298.0             382.0            117.0             5.8   \n",
       "2              306.0             393.0            116.0             6.1   \n",
       "3              306.0             387.0            118.0             6.3   \n",
       "4              315.0             408.0            111.0             6.4   \n",
       "\n",
       "   yizhuang_aq_O3  yizhuang_aq_SO2  \n",
       "0             6.0              2.0  \n",
       "1             6.0              3.0  \n",
       "2             6.0              2.0  \n",
       "3             6.0              3.0  \n",
       "4             7.0              3.0  \n",
       "\n",
       "[5 rows x 210 columns]"
      ]
     },
     "execution_count": 7,
     "metadata": {},
     "output_type": "execute_result"
    }
   ],
   "source": [
    "df.head()"
   ]
  },
  {
   "cell_type": "markdown",
   "metadata": {},
   "source": [
    "### 2.2 Preprocessing"
   ]
  },
  {
   "cell_type": "code",
   "execution_count": 8,
   "metadata": {},
   "outputs": [],
   "source": [
    "## Split into train and test - I used the last 1 month data as test, but it's up to you to decide the ratio\n",
    "df_train = df.iloc[:(-31*24), :].copy()\n",
    "df_test = df.iloc[-31*24:, :].copy()\n",
    "\n",
    "## take out the useful columns for modeling\n",
    "X_train = df_train.loc[:, input_features].values.copy()\n",
    "X_test = df_test.loc[:, input_features].values.copy()\n",
    "\n",
    "y_train = df_train[output_features].values.copy()\n",
    "y_test = df_test[output_features].values.copy()"
   ]
  },
  {
   "cell_type": "code",
   "execution_count": 9,
   "metadata": {},
   "outputs": [
    {
     "name": "stdout",
     "output_type": "stream",
     "text": [
      "number of training data to be used, features\n",
      "(9554, 210) (9554, 105)\n",
      "number of testing data to be used, features\n",
      "(744, 210) (744, 105)\n"
     ]
    }
   ],
   "source": [
    "print(\"number of training data to be used, features\")\n",
    "print(X_train.shape, y_train.shape)\n",
    "print(\"number of testing data to be used, features\")\n",
    "print(X_test.shape, y_test.shape)"
   ]
  },
  {
   "cell_type": "code",
   "execution_count": 10,
   "metadata": {},
   "outputs": [],
   "source": [
    "## z-score transform x\n",
    "for i in range(X_train.shape[1]):\n",
    "    temp_mean = X_train[:, i].mean()\n",
    "    temp_std = X_train[:, i].std()\n",
    "    X_train[:, i] = (X_train[:, i] - temp_mean) / temp_std\n",
    "    X_test[:, i] = (X_test[:, i] - temp_mean) / temp_std\n",
    "    \n",
    "## z-score transform y\n",
    "y_mean = y_train.mean()\n",
    "y_std = y_train.std()\n",
    "y_train = (y_train - y_mean) / y_std\n",
    "y_test = (y_test - y_mean) / y_std"
   ]
  },
  {
   "cell_type": "code",
   "execution_count": 11,
   "metadata": {},
   "outputs": [
    {
     "name": "stdout",
     "output_type": "stream",
     "text": [
      "the mean and std of y are :  68.2575116879492 74.19725419716897\n"
     ]
    }
   ],
   "source": [
    "print(\"the mean and std of y are : \", y_mean, y_std)"
   ]
  },
  {
   "cell_type": "markdown",
   "metadata": {},
   "source": [
    "### 2.3 Train and predict"
   ]
  },
  {
   "cell_type": "code",
   "execution_count": 12,
   "metadata": {},
   "outputs": [],
   "source": [
    "f_horizon = 48\n",
    "X_test, y_test = generate_test_samples(X_test, y_test, num_periods=168, f_horizon=48)"
   ]
  },
  {
   "cell_type": "code",
   "execution_count": 13,
   "metadata": {},
   "outputs": [
    {
     "name": "stdout",
     "output_type": "stream",
     "text": [
      "(9554, 210) (9554, 105) (528, 168, 210) (528, 168, 105)\n"
     ]
    }
   ],
   "source": [
    "print(X_train.shape, y_train.shape, X_test.shape, y_test.shape)"
   ]
  },
  {
   "cell_type": "code",
   "execution_count": 37,
   "metadata": {},
   "outputs": [
    {
     "name": "stdout",
     "output_type": "stream",
     "text": [
      "MSE on 0 th epoch : 769762\n",
      "MSE on 100 th epoch : 345886\n",
      "MSE on 200 th epoch : 214260\n",
      "MSE on 300 th epoch : 188132\n",
      "MSE on 400 th epoch : 171194\n",
      "MSE on 500 th epoch : 126191\n",
      "MSE on 600 th epoch : 124141\n",
      "MSE on 700 th epoch : 110288\n",
      "MSE on 800 th epoch : 100258\n",
      "MSE on 900 th epoch : 104437\n",
      "MSE on 1000 th epoch : 106033\n",
      "MSE on 1100 th epoch : 104965\n",
      "MSE on 1200 th epoch : 88303\n",
      "MSE on 1300 th epoch : 88729\n",
      "MSE on 1400 th epoch : 97819\n",
      "MSE on 1500 th epoch : 79682\n",
      "MSE on 1600 th epoch : 98605\n",
      "MSE on 1700 th epoch : 83363\n",
      "MSE on 1800 th epoch : 72509\n",
      "MSE on 1900 th epoch : 78188\n"
     ]
    }
   ],
   "source": [
    "losses, y_pred = rnn_model(X_train, y_train, X_test, y_test, cell=\"BasicRNNCell\", \n",
    "          learning_rate=0.001, epochs=2000, print_every=100, \n",
    "          inputs=210, outputs=105, hidden=100, num_periods=168, f_horizon=48)"
   ]
  },
  {
   "cell_type": "code",
   "execution_count": 38,
   "metadata": {},
   "outputs": [
    {
     "name": "stdout",
     "output_type": "stream",
     "text": [
      "(528, 168, 105) (528, 168, 105)\n"
     ]
    }
   ],
   "source": [
    "# y_pred are predicted values on the X_test\n",
    "print(y_pred.shape, y_test.shape)"
   ]
  },
  {
   "cell_type": "code",
   "execution_count": 39,
   "metadata": {},
   "outputs": [
    {
     "data": {
      "image/png": "[encoded data removed]",
      "text/plain": [
       "<Figure size 432x288 with 1 Axes>"
      ]
     },
     "metadata": {},
     "output_type": "display_data"
    }
   ],
   "source": [
    "# Example \n",
    "# the first 120 are droped because we care about the last 48 elements\n",
    "plt.plot(y_pred[0,120:,1], 'r', label='prediction');\n",
    "plt.plot(y_test[0,120:,1], label='actual');\n",
    "plt.legend();"
   ]
  },
  {
   "cell_type": "markdown",
   "metadata": {},
   "source": [
    "## 2.3 Eveluation"
   ]
  },
  {
   "cell_type": "code",
   "execution_count": 40,
   "metadata": {},
   "outputs": [],
   "source": [
    "y_pred_use = y_pred[:,120:,:]\n",
    "y_test_use = y_test[:,120:,:]"
   ]
  },
  {
   "cell_type": "code",
   "execution_count": 41,
   "metadata": {},
   "outputs": [],
   "source": [
    "aver_smapes, smapes_of_features = SMAPE_on_dataset(y_test_use, y_pred_use, output_features, y_mean, y_std, forecast_duration=24)"
   ]
  },
  {
   "cell_type": "code",
   "execution_count": 42,
   "metadata": {},
   "outputs": [
    {
     "data": {
      "text/plain": [
       "0.806140878612778"
      ]
     },
     "execution_count": 42,
     "metadata": {},
     "output_type": "execute_result"
    }
   ],
   "source": [
    "aver_smapes"
   ]
  },
  {
   "cell_type": "code",
   "execution_count": 43,
   "metadata": {},
   "outputs": [
    {
     "data": {
      "text/plain": [
       "{'aotizhongxin_aq_O3': 0.9989793357348606,\n",
       " 'aotizhongxin_aq_PM10': 0.7101016197526694,\n",
       " 'aotizhongxin_aq_PM2.5': 0.888329957164959,\n",
       " 'badaling_aq_O3': 0.8125880393190351,\n",
       " 'badaling_aq_PM10': 0.697619286686077,\n",
       " 'badaling_aq_PM2.5': 0.9378210907095103,\n",
       " 'beibuxinqu_aq_O3': 0.9889159294047374,\n",
       " 'beibuxinqu_aq_PM10': 0.6633013373686526,\n",
       " 'beibuxinqu_aq_PM2.5': 0.874672882495367,\n",
       " 'daxing_aq_O3': 0.9333295871314399,\n",
       " 'daxing_aq_PM10': 0.6816330205755198,\n",
       " 'daxing_aq_PM2.5': 0.8580283279575963,\n",
       " 'dingling_aq_O3': 0.5558481984883861,\n",
       " 'dingling_aq_PM10': 0.6795116112024605,\n",
       " 'dingling_aq_PM2.5': 0.9795668010429964,\n",
       " 'donggaocun_aq_O3': 0.660277632451799,\n",
       " 'donggaocun_aq_PM10': 0.6205018387376086,\n",
       " 'donggaocun_aq_PM2.5': 0.8353021806481752,\n",
       " 'dongsi_aq_O3': 0.8936476754238156,\n",
       " 'dongsi_aq_PM10': 0.6382845447232629,\n",
       " 'dongsi_aq_PM2.5': 0.8482696870392291,\n",
       " 'dongsihuan_aq_O3': 1.150429925155687,\n",
       " 'dongsihuan_aq_PM10': 0.8032115542280663,\n",
       " 'dongsihuan_aq_PM2.5': 0.8708697040840185,\n",
       " 'fangshan_aq_O3': 0.8543032296797758,\n",
       " 'fangshan_aq_PM10': 0.6534475803934116,\n",
       " 'fangshan_aq_PM2.5': 0.8014784157931643,\n",
       " 'fengtaihuayuan_aq_O3': 0.9179475106376072,\n",
       " 'fengtaihuayuan_aq_PM10': 0.6952836596626639,\n",
       " 'fengtaihuayuan_aq_PM2.5': 0.8639532580463708,\n",
       " 'guanyuan_aq_O3': 1.030259602091911,\n",
       " 'guanyuan_aq_PM10': 0.6754468590494453,\n",
       " 'guanyuan_aq_PM2.5': 0.8535401882850938,\n",
       " 'gucheng_aq_O3': 0.8884736029289154,\n",
       " 'gucheng_aq_PM10': 0.6640560121648834,\n",
       " 'gucheng_aq_PM2.5': 0.83426253235235,\n",
       " 'huairou_aq_O3': 0.6225748135612293,\n",
       " 'huairou_aq_PM10': 0.8497835097648226,\n",
       " 'huairou_aq_PM2.5': 0.9699003245408764,\n",
       " 'liulihe_aq_O3': 0.719717903825653,\n",
       " 'liulihe_aq_PM10': 0.6947461347215451,\n",
       " 'liulihe_aq_PM2.5': 0.8677779085970987,\n",
       " 'mentougou_aq_O3': 0.7237261795361638,\n",
       " 'mentougou_aq_PM10': 0.7078427230493793,\n",
       " 'mentougou_aq_PM2.5': 0.8510603598300733,\n",
       " 'miyun_aq_O3': 0.8007316635310235,\n",
       " 'miyun_aq_PM10': 0.7152620908133683,\n",
       " 'miyun_aq_PM2.5': 0.9743788785301528,\n",
       " 'miyunshuiku_aq_O3': 0.5203655381668888,\n",
       " 'miyunshuiku_aq_PM10': 0.8556824091545937,\n",
       " 'miyunshuiku_aq_PM2.5': 1.0121678785266552,\n",
       " 'nansanhuan_aq_O3': 1.0583902697622722,\n",
       " 'nansanhuan_aq_PM10': 0.6458001416113318,\n",
       " 'nansanhuan_aq_PM2.5': 0.7872195713752574,\n",
       " 'nongzhanguan_aq_O3': 0.94296177758029,\n",
       " 'nongzhanguan_aq_PM10': 0.7507413055556256,\n",
       " 'nongzhanguan_aq_PM2.5': 0.8590786914391636,\n",
       " 'pingchang_aq_O3': 0.7767437372042234,\n",
       " 'pingchang_aq_PM10': 0.7100461351651618,\n",
       " 'pingchang_aq_PM2.5': 0.9068821405563146,\n",
       " 'pinggu_aq_O3': 0.6021933533922827,\n",
       " 'pinggu_aq_PM10': 0.5691757998518873,\n",
       " 'pinggu_aq_PM2.5': 0.7976309940981487,\n",
       " 'qianmen_aq_O3': 0.9716107084786872,\n",
       " 'qianmen_aq_PM10': 0.6820030298698545,\n",
       " 'qianmen_aq_PM2.5': 0.8403876809243431,\n",
       " 'shunyi_aq_O3': 0.8446620669892141,\n",
       " 'shunyi_aq_PM10': 0.6989166104931163,\n",
       " 'shunyi_aq_PM2.5': 0.9100800946679191,\n",
       " 'tiantan_aq_O3': 0.9886224494126847,\n",
       " 'tiantan_aq_PM10': 0.7638668449170719,\n",
       " 'tiantan_aq_PM2.5': 0.8544983359111683,\n",
       " 'tongzhou_aq_O3': 1.0560220131119442,\n",
       " 'tongzhou_aq_PM10': 0.6681082942892125,\n",
       " 'tongzhou_aq_PM2.5': 0.8122195922710976,\n",
       " 'wanliu_aq_O3': 0.8937907997138402,\n",
       " 'wanliu_aq_PM10': 0.6177289442965246,\n",
       " 'wanliu_aq_PM2.5': 0.8588231762804746,\n",
       " 'wanshouxigong_aq_O3': 0.9523506624992418,\n",
       " 'wanshouxigong_aq_PM10': 0.6772881415880451,\n",
       " 'wanshouxigong_aq_PM2.5': 0.8694880408420116,\n",
       " 'xizhimenbei_aq_O3': 0.9709685913170962,\n",
       " 'xizhimenbei_aq_PM10': 0.6510886392348358,\n",
       " 'xizhimenbei_aq_PM2.5': 0.8348626938768852,\n",
       " 'yanqin_aq_O3': 0.7724392005366819,\n",
       " 'yanqin_aq_PM10': 0.7136573203569863,\n",
       " 'yanqin_aq_PM2.5': 0.8765259169459959,\n",
       " 'yizhuang_aq_O3': 0.9265794288422701,\n",
       " 'yizhuang_aq_PM10': 0.6197477522685413,\n",
       " 'yizhuang_aq_PM2.5': 0.8231438686707385,\n",
       " 'yongdingmennei_aq_O3': 1.06225476336025,\n",
       " 'yongdingmennei_aq_PM10': 0.6826772199781018,\n",
       " 'yongdingmennei_aq_PM2.5': 0.8572970287126803,\n",
       " 'yongledian_aq_O3': 0.9200819786377168,\n",
       " 'yongledian_aq_PM10': 0.6008219288677134,\n",
       " 'yongledian_aq_PM2.5': 0.7514509191361892,\n",
       " 'yufa_aq_O3': 0.8474923712932494,\n",
       " 'yufa_aq_PM10': 0.777925739466037,\n",
       " 'yufa_aq_PM2.5': 0.8024810676312765,\n",
       " 'yungang_aq_O3': 0.7581263767875714,\n",
       " 'yungang_aq_PM10': 0.5960800074618584,\n",
       " 'yungang_aq_PM2.5': 0.8225351303227797,\n",
       " 'zhiwuyuan_aq_O3': 0.6165128331874133,\n",
       " 'zhiwuyuan_aq_PM10': 0.6991906241198996,\n",
       " 'zhiwuyuan_aq_PM2.5': 1.0943069144194615}"
      ]
     },
     "execution_count": 43,
     "metadata": {},
     "output_type": "execute_result"
    }
   ],
   "source": [
    "smapes_of_features"
   ]
  },
  {
   "cell_type": "markdown",
   "metadata": {},
   "source": [
    "# ChangeLog\n",
    "- 0419 \n",
    "    - 实现了多变量的 lstm 模型，验证集上的 SMAPE 为 0.8 左右 "
   ]
  },
  {
   "cell_type": "code",
   "execution_count": null,
   "metadata": {},
   "outputs": [],
   "source": []
  },
  {
   "cell_type": "markdown",
   "metadata": {},
   "source": [
    "- 使用`lstm`对时间序列进行预测，原理如 Figure 1\n",
    "    - 当向后预测的时间差很小的时候（比如1h），即对应图中 W(t) 预测 W(t+1)，效果很好，如1.1节末尾图。\n",
    "    - 当尝试增大向后预测的时间间隔时（比如比赛中要求的48h），即对应图中 W(t) 预测 W(t+48)，模型的预测效果变得很差。\n",
    "- 我理解这里边的原因\n",
    "    - 当时间差很小的时候（比如1h），新一时刻的预测是基于之前所有的完整信息\n",
    "    - 而当时间差很大时（比如48h），预测新一时刻的值只能止于两天之前的数据，这肯定是不能准确的\n",
    "- 所以我的问题是\n",
    "    - 这样的模型本身是不是不合理的，因为在预测 W(t+48) 时，只用到了 W(t) 及之前的信息，而没有用到 W(t+1)～W(t+47) 的信息\n",
    "    - 是不是像 Figure 2 一样的 `attention model` 在原理上更合适一些，或者说这两种模型都不合适，应该用另外某种模型"
   ]
  },
  {
   "cell_type": "markdown",
   "metadata": {},
   "source": [
    "![](http://p3rz3gu1u.bkt.clouddn.com/2018-04-14-lstm_predict_aq.png)\n",
    "<caption><center> **Figure 1**: lstm model</center></caption>"
   ]
  },
  {
   "cell_type": "markdown",
   "metadata": {},
   "source": [
    "![](http://p3rz3gu1u.bkt.clouddn.com/2018-04-15-attn_model.png)\n",
    "<caption><center> **Figure 2**: attention model</center></caption>"
   ]
  }
 ],
 "metadata": {
  "kernelspec": {
   "display_name": "Python 3",
   "language": "python",
   "name": "python3"
  },
  "language_info": {
   "codemirror_mode": {
    "name": "ipython",
    "version": 3
   },
   "file_extension": ".py",
   "mimetype": "text/x-python",
   "name": "python",
   "nbconvert_exporter": "python",
   "pygments_lexer": "ipython3",
   "version": "3.5.2"
  }
 },
 "nbformat": 4,
 "nbformat_minor": 2
}
