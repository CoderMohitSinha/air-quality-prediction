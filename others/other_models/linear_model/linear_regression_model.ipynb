{
 "cells": [
  {
   "cell_type": "code",
   "execution_count": 1,
   "metadata": {
    "scrolled": true
   },
   "outputs": [
    {
     "name": "stderr",
     "output_type": "stream",
     "text": [
      "/home/cvdev/tf/lib/python3.5/site-packages/h5py/__init__.py:36: FutureWarning: Conversion of the second argument of issubdtype from `float` to `np.floating` is deprecated. In future, it will be treated as `np.float64 == np.dtype(float).type`.\n",
      "  from ._conv import register_converters as _register_converters\n"
     ]
    }
   ],
   "source": [
    "import numpy as np\n",
    "import tensorflow as tf\n",
    "from data_util import parse_bj_aq_data, generate_model_data"
   ]
  },
  {
   "cell_type": "code",
   "execution_count": 2,
   "metadata": {},
   "outputs": [],
   "source": [
    "# 设置动态显存占用\n",
    "config = tf.ConfigProto()\n",
    "config.gpu_options.allow_growth = True"
   ]
  },
  {
   "cell_type": "code",
   "execution_count": 3,
   "metadata": {
    "scrolled": true
   },
   "outputs": [
    {
     "name": "stdout",
     "output_type": "stream",
     "text": [
      "NaN in PM2.5 is 23459, 6.508615 %\n",
      "NaN in PM10 is 96175, 26.683406 %\n",
      "NaN in NO2 is 21720, 6.026135 %\n",
      "NaN in CO is 46144, 12.802486 %\n",
      "NaN in O3 is 23732, 6.584358 %\n",
      "NaN in SO2 is 21664, 6.010598 %\n",
      "There are 35 air quality stations in Beijing\n",
      "\n",
      "The stations in Beijing are:\n",
      " {'nongzhanguan_aq', 'wanliu_aq', 'dongsihuan_aq', 'gucheng_aq', 'xizhimenbei_aq', 'huairou_aq', 'yanqin_aq', 'tongzhou_aq', 'yongdingmennei_aq', 'yungang_aq', 'fangshan_aq', 'tiantan_aq', 'mentougou_aq', 'wanshouxigong_aq', 'yufa_aq', 'badaling_aq', 'yizhuang_aq', 'daxing_aq', 'fengtaihuayuan_aq', 'zhiwuyuan_aq', 'guanyuan_aq', 'pingchang_aq', 'liulihe_aq', 'pinggu_aq', 'miyun_aq', 'aotizhongxin_aq', 'qianmen_aq', 'dingling_aq', 'dongsi_aq', 'yongledian_aq', 'beibuxinqu_aq', 'shunyi_aq', 'donggaocun_aq', 'nansanhuan_aq', 'miyunshuiku_aq'}\n"
     ]
    },
    {
     "name": "stderr",
     "output_type": "stream",
     "text": [
      "/home/cvdev/air-quality-prediction/data_util.py:46: SettingWithCopyWarning: \n",
      "A value is trying to be set on a copy of a slice from a DataFrame\n",
      "\n",
      "See the caveats in the documentation: http://pandas.pydata.org/pandas-docs/stable/indexing.html#indexing-view-versus-copy\n",
      "  bj_aq_station.drop(\"utc_time\", axis=1, inplace=True)\n",
      "/home/cvdev/air-quality-prediction/data_util.py:47: SettingWithCopyWarning: \n",
      "A value is trying to be set on a copy of a slice from a DataFrame\n",
      "\n",
      "See the caveats in the documentation: http://pandas.pydata.org/pandas-docs/stable/indexing.html#indexing-view-versus-copy\n",
      "  bj_aq_station.drop(\"stationId\", axis=1, inplace=True)\n"
     ]
    }
   ],
   "source": [
    "bj_aq_data, stations, bj_aq_stations, bj_aq_stations_merged = parse_bj_aq_data()"
   ]
  },
  {
   "cell_type": "code",
   "execution_count": 4,
   "metadata": {},
   "outputs": [],
   "source": [
    "X_dataset, Y_dataset = generate_model_data(bj_aq_stations_merged, 1, 120)"
   ]
  },
  {
   "cell_type": "code",
   "execution_count": 5,
   "metadata": {},
   "outputs": [
    {
     "name": "stdout",
     "output_type": "stream",
     "text": [
      "There are 10040 examples in the dataset.\n"
     ]
    }
   ],
   "source": [
    "print(\"There are %d examples in the dataset.\" %len(X_dataset))"
   ]
  },
  {
   "cell_type": "code",
   "execution_count": 6,
   "metadata": {},
   "outputs": [],
   "source": [
    "# parameters of the model\n",
    "num_x_hours = 120\n",
    "num_y_hours = 48\n",
    "num_features = 210\n",
    "num_epochs = 1000\n",
    "\n",
    "data_length = len(X_dataset)"
   ]
  },
  {
   "cell_type": "code",
   "execution_count": 7,
   "metadata": {},
   "outputs": [],
   "source": [
    "# X = tf.placeholder(dtype=tf.float32, shape=(None, num_x_hours, num_features))\n",
    "# Y = tf.placeholder(dtype=tf.float32, shape=(None, num_y_hours, num_features))\n",
    "\n",
    "# not use mini-batch right now\n",
    "X = tf.placeholder(dtype=tf.float32, shape=(num_x_hours, num_features))\n",
    "Y = tf.placeholder(dtype=tf.float32, shape=(num_y_hours, num_features))"
   ]
  },
  {
   "cell_type": "code",
   "execution_count": 8,
   "metadata": {
    "scrolled": true
   },
   "outputs": [],
   "source": [
    "# # initial values\n",
    "# initial_W_value = np.random.randn(num_y_hours, num_x_hours) * 1e-10\n",
    "# initial_b_value = np.random.randn(num_y_hours, num_features) * 1e-10\n",
    "\n",
    "# # Variables\n",
    "# W = tf.Variable(initial_W_value, name=\"W\", dtype=\"float32\")\n",
    "# b = tf.Variable(initial_b_value, name=\"b\", dtype=\"float32\")\n",
    "W = tf.get_variable(name=\"W\", shape=(num_y_hours, num_x_hours), dtype=tf.float32, initializer=tf.contrib.layers.xavier_initializer())\n",
    "b = tf.get_variable(name=\"b\", shape=(num_y_hours, num_features), dtype=tf.float32, initializer=tf.contrib.layers.xavier_initializer())"
   ]
  },
  {
   "cell_type": "code",
   "execution_count": 9,
   "metadata": {},
   "outputs": [
    {
     "name": "stdout",
     "output_type": "stream",
     "text": [
      "Tensor(\"Mean:0\", shape=(), dtype=float32)\n"
     ]
    }
   ],
   "source": [
    "# computation graph\n",
    "Y_pred = tf.add(tf.matmul(W, X), b)\n",
    "Loss = tf.reduce_mean(tf.nn.l2_loss(Y_pred - Y))\n",
    "print(Loss)\n",
    "\n",
    "# optimizer\n",
    "Optimizer = tf.train.AdamOptimizer(learning_rate=0.01).minimize(Loss)"
   ]
  },
  {
   "cell_type": "code",
   "execution_count": 10,
   "metadata": {},
   "outputs": [
    {
     "name": "stdout",
     "output_type": "stream",
     "text": [
      "21752672.0\n",
      "21622282.0\n",
      "21622284.0\n",
      "21622284.0\n",
      "21622284.0\n",
      "21622284.0\n",
      "21622284.0\n",
      "21622280.0\n",
      "21622280.0\n",
      "21622282.0\n"
     ]
    }
   ],
   "source": [
    "losses = []\n",
    "\n",
    "with tf.device(\"/gpu:1\"):\n",
    "    with tf.Session(config=config) as sess:\n",
    "        sess.run(tf.global_variables_initializer())\n",
    "        for epoch in range(num_epochs):\n",
    "            for i in range(data_length):\n",
    "                _, loss = sess.run([Optimizer, Loss], feed_dict={X:X_dataset[i],Y:Y_dataset[i]})\n",
    "            if epoch % 100 == 0:\n",
    "                print(loss)\n",
    "            losses.append(loss)"
   ]
  },
  {
   "cell_type": "code",
   "execution_count": null,
   "metadata": {},
   "outputs": [],
   "source": [
    "# 这种计算方式对 GPU 的利用效率太低了\n",
    "# 显存占用 400M，GPU占用 < 1%"
   ]
  },
  {
   "cell_type": "code",
   "execution_count": null,
   "metadata": {},
   "outputs": [],
   "source": []
  },
  {
   "cell_type": "code",
   "execution_count": null,
   "metadata": {},
   "outputs": [],
   "source": []
  },
  {
   "cell_type": "code",
   "execution_count": null,
   "metadata": {},
   "outputs": [],
   "source": []
  },
  {
   "cell_type": "code",
   "execution_count": null,
   "metadata": {},
   "outputs": [],
   "source": [
    "# 预测模型\n",
    "def predict(parameters, X):\n",
    "    W, b = parameters\n",
    "    Y_pred = Y_pred = tf.add(tf.matmul(W, X), b)"
   ]
  },
  {
   "cell_type": "code",
   "execution_count": null,
   "metadata": {},
   "outputs": [],
   "source": [
    "# 将预测结果和实际结果绘制在同一个图形中\n",
    "def plot_prediction(feature, Y, Y_pred):\n",
    "    Y_feature = "
   ]
  },
  {
   "cell_type": "code",
   "execution_count": null,
   "metadata": {
    "collapsed": true
   },
   "outputs": [],
   "source": [
    "# 划分数据集"
   ]
  }
 ],
 "metadata": {
  "kernelspec": {
   "display_name": "Python 3",
   "language": "python",
   "name": "python3"
  },
  "language_info": {
   "codemirror_mode": {
    "name": "ipython",
    "version": 3
   },
   "file_extension": ".py",
   "mimetype": "text/x-python",
   "name": "python",
   "nbconvert_exporter": "python",
   "pygments_lexer": "ipython3",
   "version": "3.5.2"
  }
 },
 "nbformat": 4,
 "nbformat_minor": 2
}
