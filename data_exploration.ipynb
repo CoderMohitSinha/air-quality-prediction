{
 "cells": [
  {
   "cell_type": "code",
   "execution_count": 1,
   "metadata": {
    "collapsed": true
   },
   "outputs": [],
   "source": [
    "# Using pandas to process data\n",
    "from collections import Counter\n",
    "import numpy as np\n",
    "import pandas as pd\n",
    "import datetime\n",
    "from matplotlib import pyplot as plt\n",
    "%matplotlib inline\n",
    "from scipy.stats import pearsonr\n",
    "\n",
    "from utils.data_util import load_bj_aq_data, generate_model_data\n",
    "# from utils.plot_util import plot_station, plot_stations\n",
    "\n",
    "%load_ext autoreload\n",
    "%autoreload 2"
   ]
  },
  {
   "cell_type": "markdown",
   "metadata": {},
   "source": [
    "### 1. 数据载入"
   ]
  },
  {
   "cell_type": "code",
   "execution_count": 2,
   "metadata": {
    "collapsed": true,
    "scrolled": false
   },
   "outputs": [],
   "source": [
    "bj_aq_data, stations, bj_aq_stations, bj_aq_stations_merged = load_bj_aq_data()"
   ]
  },
  {
   "cell_type": "code",
   "execution_count": 3,
   "metadata": {},
   "outputs": [
    {
     "data": {
      "text/html": [
       "<div>\n",
       "<style>\n",
       "    .dataframe thead tr:only-child th {\n",
       "        text-align: right;\n",
       "    }\n",
       "\n",
       "    .dataframe thead th {\n",
       "        text-align: left;\n",
       "    }\n",
       "\n",
       "    .dataframe tbody tr th {\n",
       "        vertical-align: top;\n",
       "    }\n",
       "</style>\n",
       "<table border=\"1\" class=\"dataframe\">\n",
       "  <thead>\n",
       "    <tr style=\"text-align: right;\">\n",
       "      <th></th>\n",
       "      <th>yongdingmennei_aq_PM2.5</th>\n",
       "      <th>yongdingmennei_aq_PM10</th>\n",
       "      <th>yongdingmennei_aq_NO2</th>\n",
       "      <th>yongdingmennei_aq_CO</th>\n",
       "      <th>yongdingmennei_aq_O3</th>\n",
       "      <th>yongdingmennei_aq_SO2</th>\n",
       "      <th>shunyi_aq_PM2.5</th>\n",
       "      <th>shunyi_aq_PM10</th>\n",
       "      <th>shunyi_aq_NO2</th>\n",
       "      <th>shunyi_aq_CO</th>\n",
       "      <th>...</th>\n",
       "      <th>yizhuang_aq_CO</th>\n",
       "      <th>yizhuang_aq_O3</th>\n",
       "      <th>yizhuang_aq_SO2</th>\n",
       "      <th>yanqin_aq_PM2.5</th>\n",
       "      <th>yanqin_aq_PM10</th>\n",
       "      <th>yanqin_aq_NO2</th>\n",
       "      <th>yanqin_aq_CO</th>\n",
       "      <th>yanqin_aq_O3</th>\n",
       "      <th>yanqin_aq_SO2</th>\n",
       "      <th>order</th>\n",
       "    </tr>\n",
       "    <tr>\n",
       "      <th>time</th>\n",
       "      <th></th>\n",
       "      <th></th>\n",
       "      <th></th>\n",
       "      <th></th>\n",
       "      <th></th>\n",
       "      <th></th>\n",
       "      <th></th>\n",
       "      <th></th>\n",
       "      <th></th>\n",
       "      <th></th>\n",
       "      <th></th>\n",
       "      <th></th>\n",
       "      <th></th>\n",
       "      <th></th>\n",
       "      <th></th>\n",
       "      <th></th>\n",
       "      <th></th>\n",
       "      <th></th>\n",
       "      <th></th>\n",
       "      <th></th>\n",
       "      <th></th>\n",
       "    </tr>\n",
       "  </thead>\n",
       "  <tbody>\n",
       "    <tr>\n",
       "      <th>2017-01-01 14:00:00</th>\n",
       "      <td>415.0</td>\n",
       "      <td>NaN</td>\n",
       "      <td>143.0</td>\n",
       "      <td>6.7</td>\n",
       "      <td>12.0</td>\n",
       "      <td>12.0</td>\n",
       "      <td>386.0</td>\n",
       "      <td>477.0</td>\n",
       "      <td>116.0</td>\n",
       "      <td>6.3</td>\n",
       "      <td>...</td>\n",
       "      <td>5.7</td>\n",
       "      <td>6.0</td>\n",
       "      <td>2.0</td>\n",
       "      <td>206.0</td>\n",
       "      <td>227.0</td>\n",
       "      <td>84.0</td>\n",
       "      <td>4.4</td>\n",
       "      <td>43.0</td>\n",
       "      <td>45.0</td>\n",
       "      <td>0</td>\n",
       "    </tr>\n",
       "    <tr>\n",
       "      <th>2017-01-01 15:00:00</th>\n",
       "      <td>409.0</td>\n",
       "      <td>NaN</td>\n",
       "      <td>143.0</td>\n",
       "      <td>0.7</td>\n",
       "      <td>12.0</td>\n",
       "      <td>13.0</td>\n",
       "      <td>410.0</td>\n",
       "      <td>476.0</td>\n",
       "      <td>121.0</td>\n",
       "      <td>6.3</td>\n",
       "      <td>...</td>\n",
       "      <td>5.8</td>\n",
       "      <td>6.0</td>\n",
       "      <td>3.0</td>\n",
       "      <td>218.0</td>\n",
       "      <td>246.0</td>\n",
       "      <td>83.0</td>\n",
       "      <td>5.3</td>\n",
       "      <td>49.0</td>\n",
       "      <td>47.0</td>\n",
       "      <td>1</td>\n",
       "    </tr>\n",
       "    <tr>\n",
       "      <th>2017-01-01 16:00:00</th>\n",
       "      <td>401.0</td>\n",
       "      <td>NaN</td>\n",
       "      <td>134.0</td>\n",
       "      <td>7.1</td>\n",
       "      <td>12.0</td>\n",
       "      <td>11.0</td>\n",
       "      <td>418.0</td>\n",
       "      <td>493.0</td>\n",
       "      <td>118.0</td>\n",
       "      <td>6.8</td>\n",
       "      <td>...</td>\n",
       "      <td>6.1</td>\n",
       "      <td>6.0</td>\n",
       "      <td>2.0</td>\n",
       "      <td>146.0</td>\n",
       "      <td>NaN</td>\n",
       "      <td>58.0</td>\n",
       "      <td>2.5</td>\n",
       "      <td>40.0</td>\n",
       "      <td>39.0</td>\n",
       "      <td>2</td>\n",
       "    </tr>\n",
       "    <tr>\n",
       "      <th>2017-01-01 17:00:00</th>\n",
       "      <td>407.0</td>\n",
       "      <td>NaN</td>\n",
       "      <td>126.0</td>\n",
       "      <td>7.2</td>\n",
       "      <td>12.0</td>\n",
       "      <td>10.0</td>\n",
       "      <td>474.0</td>\n",
       "      <td>532.0</td>\n",
       "      <td>133.0</td>\n",
       "      <td>7.9</td>\n",
       "      <td>...</td>\n",
       "      <td>6.3</td>\n",
       "      <td>6.0</td>\n",
       "      <td>3.0</td>\n",
       "      <td>134.0</td>\n",
       "      <td>169.0</td>\n",
       "      <td>69.0</td>\n",
       "      <td>4.2</td>\n",
       "      <td>40.0</td>\n",
       "      <td>28.0</td>\n",
       "      <td>3</td>\n",
       "    </tr>\n",
       "    <tr>\n",
       "      <th>2017-01-01 18:00:00</th>\n",
       "      <td>415.0</td>\n",
       "      <td>NaN</td>\n",
       "      <td>142.0</td>\n",
       "      <td>7.3</td>\n",
       "      <td>13.0</td>\n",
       "      <td>12.0</td>\n",
       "      <td>449.0</td>\n",
       "      <td>456.0</td>\n",
       "      <td>137.0</td>\n",
       "      <td>7.3</td>\n",
       "      <td>...</td>\n",
       "      <td>6.4</td>\n",
       "      <td>7.0</td>\n",
       "      <td>3.0</td>\n",
       "      <td>175.0</td>\n",
       "      <td>NaN</td>\n",
       "      <td>71.0</td>\n",
       "      <td>5.1</td>\n",
       "      <td>41.0</td>\n",
       "      <td>31.0</td>\n",
       "      <td>4</td>\n",
       "    </tr>\n",
       "  </tbody>\n",
       "</table>\n",
       "<p>5 rows × 211 columns</p>\n",
       "</div>"
      ],
      "text/plain": [
       "                     yongdingmennei_aq_PM2.5  yongdingmennei_aq_PM10  \\\n",
       "time                                                                   \n",
       "2017-01-01 14:00:00                    415.0                     NaN   \n",
       "2017-01-01 15:00:00                    409.0                     NaN   \n",
       "2017-01-01 16:00:00                    401.0                     NaN   \n",
       "2017-01-01 17:00:00                    407.0                     NaN   \n",
       "2017-01-01 18:00:00                    415.0                     NaN   \n",
       "\n",
       "                     yongdingmennei_aq_NO2  yongdingmennei_aq_CO  \\\n",
       "time                                                               \n",
       "2017-01-01 14:00:00                  143.0                   6.7   \n",
       "2017-01-01 15:00:00                  143.0                   0.7   \n",
       "2017-01-01 16:00:00                  134.0                   7.1   \n",
       "2017-01-01 17:00:00                  126.0                   7.2   \n",
       "2017-01-01 18:00:00                  142.0                   7.3   \n",
       "\n",
       "                     yongdingmennei_aq_O3  yongdingmennei_aq_SO2  \\\n",
       "time                                                               \n",
       "2017-01-01 14:00:00                  12.0                   12.0   \n",
       "2017-01-01 15:00:00                  12.0                   13.0   \n",
       "2017-01-01 16:00:00                  12.0                   11.0   \n",
       "2017-01-01 17:00:00                  12.0                   10.0   \n",
       "2017-01-01 18:00:00                  13.0                   12.0   \n",
       "\n",
       "                     shunyi_aq_PM2.5  shunyi_aq_PM10  shunyi_aq_NO2  \\\n",
       "time                                                                  \n",
       "2017-01-01 14:00:00            386.0           477.0          116.0   \n",
       "2017-01-01 15:00:00            410.0           476.0          121.0   \n",
       "2017-01-01 16:00:00            418.0           493.0          118.0   \n",
       "2017-01-01 17:00:00            474.0           532.0          133.0   \n",
       "2017-01-01 18:00:00            449.0           456.0          137.0   \n",
       "\n",
       "                     shunyi_aq_CO  ...    yizhuang_aq_CO  yizhuang_aq_O3  \\\n",
       "time                               ...                                     \n",
       "2017-01-01 14:00:00           6.3  ...               5.7             6.0   \n",
       "2017-01-01 15:00:00           6.3  ...               5.8             6.0   \n",
       "2017-01-01 16:00:00           6.8  ...               6.1             6.0   \n",
       "2017-01-01 17:00:00           7.9  ...               6.3             6.0   \n",
       "2017-01-01 18:00:00           7.3  ...               6.4             7.0   \n",
       "\n",
       "                     yizhuang_aq_SO2  yanqin_aq_PM2.5  yanqin_aq_PM10  \\\n",
       "time                                                                    \n",
       "2017-01-01 14:00:00              2.0            206.0           227.0   \n",
       "2017-01-01 15:00:00              3.0            218.0           246.0   \n",
       "2017-01-01 16:00:00              2.0            146.0             NaN   \n",
       "2017-01-01 17:00:00              3.0            134.0           169.0   \n",
       "2017-01-01 18:00:00              3.0            175.0             NaN   \n",
       "\n",
       "                     yanqin_aq_NO2  yanqin_aq_CO  yanqin_aq_O3  yanqin_aq_SO2  \\\n",
       "time                                                                            \n",
       "2017-01-01 14:00:00           84.0           4.4          43.0           45.0   \n",
       "2017-01-01 15:00:00           83.0           5.3          49.0           47.0   \n",
       "2017-01-01 16:00:00           58.0           2.5          40.0           39.0   \n",
       "2017-01-01 17:00:00           69.0           4.2          40.0           28.0   \n",
       "2017-01-01 18:00:00           71.0           5.1          41.0           31.0   \n",
       "\n",
       "                     order  \n",
       "time                        \n",
       "2017-01-01 14:00:00      0  \n",
       "2017-01-01 15:00:00      1  \n",
       "2017-01-01 16:00:00      2  \n",
       "2017-01-01 17:00:00      3  \n",
       "2017-01-01 18:00:00      4  \n",
       "\n",
       "[5 rows x 211 columns]"
      ]
     },
     "execution_count": 3,
     "metadata": {},
     "output_type": "execute_result"
    }
   ],
   "source": [
    "bj_aq_stations_merged.head()"
   ]
  },
  {
   "cell_type": "markdown",
   "metadata": {},
   "source": [
    "## 2. 相同特征不同站点之间的相关性"
   ]
  },
  {
   "cell_type": "code",
   "execution_count": 213,
   "metadata": {},
   "outputs": [
    {
     "data": {
      "text/html": [
       "<div>\n",
       "<style>\n",
       "    .dataframe thead tr:only-child th {\n",
       "        text-align: right;\n",
       "    }\n",
       "\n",
       "    .dataframe thead th {\n",
       "        text-align: left;\n",
       "    }\n",
       "\n",
       "    .dataframe tbody tr th {\n",
       "        vertical-align: top;\n",
       "    }\n",
       "</style>\n",
       "<table border=\"1\" class=\"dataframe\">\n",
       "  <thead>\n",
       "    <tr style=\"text-align: right;\">\n",
       "      <th></th>\n",
       "      <th>stationName</th>\n",
       "      <th>longitude</th>\n",
       "      <th>latitude</th>\n",
       "    </tr>\n",
       "  </thead>\n",
       "  <tbody>\n",
       "    <tr>\n",
       "      <th>0</th>\n",
       "      <td>dongsi_aq</td>\n",
       "      <td>116.417</td>\n",
       "      <td>39.929</td>\n",
       "    </tr>\n",
       "    <tr>\n",
       "      <th>1</th>\n",
       "      <td>tiantan_aq</td>\n",
       "      <td>116.407</td>\n",
       "      <td>39.886</td>\n",
       "    </tr>\n",
       "    <tr>\n",
       "      <th>2</th>\n",
       "      <td>guanyuan_aq</td>\n",
       "      <td>116.339</td>\n",
       "      <td>39.929</td>\n",
       "    </tr>\n",
       "    <tr>\n",
       "      <th>3</th>\n",
       "      <td>wanshouxigong_aq</td>\n",
       "      <td>116.352</td>\n",
       "      <td>39.878</td>\n",
       "    </tr>\n",
       "    <tr>\n",
       "      <th>4</th>\n",
       "      <td>aotizhongxin_aq</td>\n",
       "      <td>116.397</td>\n",
       "      <td>39.982</td>\n",
       "    </tr>\n",
       "  </tbody>\n",
       "</table>\n",
       "</div>"
      ],
      "text/plain": [
       "        stationName  longitude  latitude\n",
       "0         dongsi_aq    116.417    39.929\n",
       "1        tiantan_aq    116.407    39.886\n",
       "2       guanyuan_aq    116.339    39.929\n",
       "3  wanshouxigong_aq    116.352    39.878\n",
       "4   aotizhongxin_aq    116.397    39.982"
      ]
     },
     "execution_count": 213,
     "metadata": {},
     "output_type": "execute_result"
    }
   ],
   "source": [
    "# 站点的具体位置\n",
    "station_locations = pd.read_excel(\"./KDD_CUP_2018/Beijing/location/Beijing_AirQuality_Stations_locations.xlsx\")\n",
    "station_locations.head()"
   ]
  },
  {
   "cell_type": "code",
   "execution_count": 241,
   "metadata": {},
   "outputs": [
    {
     "data": {
      "text/plain": [
       "115.97199999999999"
      ]
     },
     "execution_count": 241,
     "metadata": {},
     "output_type": "execute_result"
    }
   ],
   "source": [
    "station_locations[\"longitude\"].values.min()"
   ]
  },
  {
   "cell_type": "code",
   "execution_count": 210,
   "metadata": {
    "collapsed": true
   },
   "outputs": [],
   "source": [
    "def caculate_distance(station_1, station_2, station_locations):\n",
    "    '''\n",
    "    station_1, station_2 : names of two stations\n",
    "    station_locations : a dataframe of \"stationName\", \"longitude\", \"latitude\"\n",
    "    '''\n",
    "    location_1 = station_locations[station_1+\"_aq\" == station_locations[\"stationName\"]]\n",
    "    location_2 = station_locations[station_2+\"_aq\" == station_locations[\"stationName\"]]\n",
    "    dis = np.sqrt((location_1[\"longitude\"].values[0] - location_2[\"longitude\"].values[0])**2 + \n",
    "                  (location_1[\"latitude\"].values[0] - location_2[\"latitude\"].values[0])**2)\n",
    "    return dis"
   ]
  },
  {
   "cell_type": "code",
   "execution_count": 258,
   "metadata": {
    "collapsed": true
   },
   "outputs": [],
   "source": [
    "def caculate_r_distance_relations(dataframe, feature):\n",
    "    '''\n",
    "    dataframe : dataframe with all data.\n",
    "    feature : feature that you want to compare.\n",
    "    '''\n",
    "    features = [name for name in dataframe.columns if feature in name]\n",
    "    df = dataframe[features]\n",
    "    \n",
    "    relations = pd.DataFrame(columns=[\"station_1\", \"station_2\", \"r\", \"distance\"])\n",
    "    for i in range(len(features)-1):\n",
    "        for j in range(i+1,len(features)):\n",
    "            station_1 = features[i].split(\"_\")[0]\n",
    "            station_2 = features[j].split(\"_\")[0]\n",
    "            ts_station_1 = df[features[i]]\n",
    "            ts_station_2 = df[features[j]]\n",
    "            r = pearsonr(ts_station_1, ts_station_2)[0]\n",
    "            distance = caculate_distance(station_1, station_2, station_locations)\n",
    "            s = pd.Series({\"station_1\":station_1, \"station_2\":station_2, \"r\":r, \"distance\":distance})\n",
    "            relations = relations.append(s,ignore_index=True)\n",
    "    \n",
    "    # 按照相关系数降序排序\n",
    "    relations = relations.sort_values(by=['r'], ascending=False)\n",
    "\n",
    "    plt.subplot(2,1,1)\n",
    "    plt.plot(range(len(relations)), relations['r']);\n",
    "    plt.subplot(2,1,2)\n",
    "    plt.plot(range(len(relations)), relations['distance']);\n",
    "\n",
    "    # “相关系数的降低” 与 “站点之间的距离” 存在一定的正相关关系\n",
    "    # “距离” 与 “相关性” 存在负相关关系\n",
    "    # print(\"The range of pearsonr between stations of feature %s are between %d and %d\" %(feature, relations[\"r\"].values.min(), relations[\"r\"].values.max()))\n",
    "    \n",
    "    r = pearsonr(relations[\"r\"].values, relations['distance'].values)[0]\n",
    "    # print(\"r = \", pearsonr(relations[\"r\"].values, relations['distance'].values)[0])\n",
    "    \n",
    "    return relations, r"
   ]
  },
  {
   "cell_type": "code",
   "execution_count": 259,
   "metadata": {},
   "outputs": [
    {
     "data": {
      "image/png": "[encoded data removed]",
      "text/plain": [
       "<matplotlib.figure.Figure at 0x7f69b0f189b0>"
      ]
     },
     "metadata": {},
     "output_type": "display_data"
    }
   ],
   "source": [
    "for feature in [\"PM2.5\", \"PM10\", \"O3\"]:\n",
    "    relations, r = caculate_r_distance_relations(bj_aq_stations_merged, feature)"
   ]
  },
  {
   "cell_type": "markdown",
   "metadata": {
    "collapsed": true
   },
   "source": [
    "## 3. 空气质量的“天”的周期性"
   ]
  },
  {
   "cell_type": "code",
   "execution_count": 309,
   "metadata": {
    "collapsed": true
   },
   "outputs": [],
   "source": [
    "bj_aq_stations_merged['new'] = bj_aq_stations_merged.index\n",
    "bj_aq_stations_merged['new'] = pd.to_datetime(bj_aq_stations_merged['new'])"
   ]
  },
  {
   "cell_type": "code",
   "execution_count": 367,
   "metadata": {
    "collapsed": true
   },
   "outputs": [],
   "source": [
    "df = bj_aq_stations_merged[[\"new\", \"fangshan_aq_PM2.5\"]]"
   ]
  },
  {
   "cell_type": "code",
   "execution_count": 368,
   "metadata": {
    "collapsed": true
   },
   "outputs": [],
   "source": [
    "# initial values\n",
    "d = datetime.timedelta(hours=24)\n",
    "t_start = datetime.datetime(2017,1,2,0,0,0)\n",
    "t_end = datetime.datetime(2017,1,3,0,0,0)"
   ]
  },
  {
   "cell_type": "code",
   "execution_count": 369,
   "metadata": {
    "collapsed": true
   },
   "outputs": [],
   "source": [
    "feature = \"fangshan_aq_PM2.5\"\n",
    "all_days = []\n",
    "all_days_dfs = []\n",
    "for i in range(445):\n",
    "    df = bj_aq_stations_merged[[\"new\", feature]]\n",
    "    df_part = df[df['new'] < t_end]\n",
    "    df_part = df_part[df_part['new'] >= t_start]\n",
    "    \n",
    "    all_days.append(df_part[feature].values)\n",
    "    all_days_dfs.append(df_part)\n",
    "    t_start += d\n",
    "    t_end += d"
   ]
  },
  {
   "cell_type": "code",
   "execution_count": 373,
   "metadata": {
    "collapsed": true
   },
   "outputs": [],
   "source": [
    "bias_all_days = []\n",
    "for day in all_days:\n",
    "    if len(day) == 24 : \n",
    "        init = day[0]\n",
    "        bias_day = [i - init for i in day]\n",
    "        bias_all_days.append(bias_day)"
   ]
  },
  {
   "cell_type": "code",
   "execution_count": 376,
   "metadata": {},
   "outputs": [
    {
     "data": {
      "image/png": "[encoded data removed]",
      "text/plain": [
       "<matplotlib.figure.Figure at 0x7f69b0ed2550>"
      ]
     },
     "metadata": {},
     "output_type": "display_data"
    }
   ],
   "source": [
    "for bias_all_day in bias_all_days:\n",
    "    plt.plot(bias_all_day)"
   ]
  },
  {
   "cell_type": "code",
   "execution_count": 379,
   "metadata": {
    "collapsed": true
   },
   "outputs": [],
   "source": [
    "bias_all_days = np.array(bias_all_days)"
   ]
  },
  {
   "cell_type": "code",
   "execution_count": 383,
   "metadata": {
    "collapsed": true
   },
   "outputs": [],
   "source": [
    "day = np.mean(bias_all_days, axis=0)"
   ]
  },
  {
   "cell_type": "code",
   "execution_count": 386,
   "metadata": {},
   "outputs": [
    {
     "data": {
      "image/png": "[encoded data removed]",
      "text/plain": [
       "<matplotlib.figure.Figure at 0x7f69afe24d30>"
      ]
     },
     "metadata": {},
     "output_type": "display_data"
    }
   ],
   "source": [
    "plt.plot(day);"
   ]
  },
  {
   "cell_type": "code",
   "execution_count": null,
   "metadata": {
    "collapsed": true
   },
   "outputs": [],
   "source": []
  },
  {
   "cell_type": "code",
   "execution_count": null,
   "metadata": {
    "collapsed": true
   },
   "outputs": [],
   "source": []
  },
  {
   "cell_type": "code",
   "execution_count": null,
   "metadata": {
    "collapsed": true
   },
   "outputs": [],
   "source": []
  },
  {
   "cell_type": "markdown",
   "metadata": {
    "collapsed": true
   },
   "source": [
    "# 数据的下载补齐"
   ]
  },
  {
   "cell_type": "markdown",
   "metadata": {},
   "source": [
    "- 空气质量数据\n",
    "    - 10298 data for 35 stations\n",
    "    - 2017:01:01 14:00 - 2018:03:31 15:00 "
   ]
  },
  {
   "cell_type": "code",
   "execution_count": 26,
   "metadata": {},
   "outputs": [
    {
     "name": "stdout",
     "output_type": "stream",
     "text": [
      "2017-01-01 14:00:00 2018-03-31 15:00:00\n"
     ]
    }
   ],
   "source": [
    "# 原有 aq 数据的范围\n",
    "print(min(bj_aq_data.index), max(bj_aq_data.index))"
   ]
  },
  {
   "cell_type": "code",
   "execution_count": 30,
   "metadata": {},
   "outputs": [
    {
     "data": {
      "text/html": [
       "<div>\n",
       "<style>\n",
       "    .dataframe thead tr:only-child th {\n",
       "        text-align: right;\n",
       "    }\n",
       "\n",
       "    .dataframe thead th {\n",
       "        text-align: left;\n",
       "    }\n",
       "\n",
       "    .dataframe tbody tr th {\n",
       "        vertical-align: top;\n",
       "    }\n",
       "</style>\n",
       "<table border=\"1\" class=\"dataframe\">\n",
       "  <thead>\n",
       "    <tr style=\"text-align: right;\">\n",
       "      <th></th>\n",
       "      <th>id</th>\n",
       "      <th>station_id</th>\n",
       "      <th>time</th>\n",
       "      <th>PM25_Concentration</th>\n",
       "      <th>PM10_Concentration</th>\n",
       "      <th>NO2_Concentration</th>\n",
       "      <th>CO_Concentration</th>\n",
       "      <th>O3_Concentration</th>\n",
       "      <th>SO2_Concentration</th>\n",
       "    </tr>\n",
       "  </thead>\n",
       "  <tbody>\n",
       "    <tr>\n",
       "      <th>0</th>\n",
       "      <td>2941450</td>\n",
       "      <td>dongsi_aq</td>\n",
       "      <td>2018-03-31 07:00:00</td>\n",
       "      <td>105.0</td>\n",
       "      <td>172.0</td>\n",
       "      <td>53.0</td>\n",
       "      <td>0.8</td>\n",
       "      <td>127.0</td>\n",
       "      <td>14.0</td>\n",
       "    </tr>\n",
       "    <tr>\n",
       "      <th>1</th>\n",
       "      <td>2941451</td>\n",
       "      <td>tiantan_aq</td>\n",
       "      <td>2018-03-31 07:00:00</td>\n",
       "      <td>95.0</td>\n",
       "      <td>123.0</td>\n",
       "      <td>54.0</td>\n",
       "      <td>0.9</td>\n",
       "      <td>121.0</td>\n",
       "      <td>15.0</td>\n",
       "    </tr>\n",
       "    <tr>\n",
       "      <th>2</th>\n",
       "      <td>2941452</td>\n",
       "      <td>guanyuan_aq</td>\n",
       "      <td>2018-03-31 07:00:00</td>\n",
       "      <td>95.0</td>\n",
       "      <td>139.0</td>\n",
       "      <td>66.0</td>\n",
       "      <td>0.8</td>\n",
       "      <td>123.0</td>\n",
       "      <td>13.0</td>\n",
       "    </tr>\n",
       "    <tr>\n",
       "      <th>3</th>\n",
       "      <td>2941453</td>\n",
       "      <td>wanshouxigong_aq</td>\n",
       "      <td>2018-03-31 07:00:00</td>\n",
       "      <td>99.0</td>\n",
       "      <td>172.0</td>\n",
       "      <td>58.0</td>\n",
       "      <td>1.0</td>\n",
       "      <td>119.0</td>\n",
       "      <td>14.0</td>\n",
       "    </tr>\n",
       "    <tr>\n",
       "      <th>4</th>\n",
       "      <td>2941454</td>\n",
       "      <td>aotizhongxin_aq</td>\n",
       "      <td>2018-03-31 07:00:00</td>\n",
       "      <td>117.0</td>\n",
       "      <td>166.0</td>\n",
       "      <td>67.0</td>\n",
       "      <td>0.8</td>\n",
       "      <td>111.0</td>\n",
       "      <td>14.0</td>\n",
       "    </tr>\n",
       "  </tbody>\n",
       "</table>\n",
       "</div>"
      ],
      "text/plain": [
       "        id        station_id                 time  PM25_Concentration  \\\n",
       "0  2941450         dongsi_aq  2018-03-31 07:00:00               105.0   \n",
       "1  2941451        tiantan_aq  2018-03-31 07:00:00                95.0   \n",
       "2  2941452       guanyuan_aq  2018-03-31 07:00:00                95.0   \n",
       "3  2941453  wanshouxigong_aq  2018-03-31 07:00:00                99.0   \n",
       "4  2941454   aotizhongxin_aq  2018-03-31 07:00:00               117.0   \n",
       "\n",
       "   PM10_Concentration  NO2_Concentration  CO_Concentration  O3_Concentration  \\\n",
       "0               172.0               53.0               0.8             127.0   \n",
       "1               123.0               54.0               0.9             121.0   \n",
       "2               139.0               66.0               0.8             123.0   \n",
       "3               172.0               58.0               1.0             119.0   \n",
       "4               166.0               67.0               0.8             111.0   \n",
       "\n",
       "   SO2_Concentration  \n",
       "0               14.0  \n",
       "1               15.0  \n",
       "2               13.0  \n",
       "3               14.0  \n",
       "4               14.0  "
      ]
     },
     "execution_count": 30,
     "metadata": {},
     "output_type": "execute_result"
    }
   ],
   "source": [
    "# 新下载的 aq 数据\n",
    "bj_aq_dataset_new = pd.read_csv(\"./KDD_CUP_2018/Beijing/aq/bj_airquality_2018-03-31-15-2018-04-15-23.csv\")\n",
    "bj_aq_dataset_new.head()"
   ]
  },
  {
   "cell_type": "code",
   "execution_count": 31,
   "metadata": {
    "collapsed": true
   },
   "outputs": [],
   "source": [
    "length = bj_aq_dataset_new.shape[0]\n",
    "formet_time = pd.Series([datetime.datetime.strptime(bj_aq_dataset_new[\"time\"][i],'%Y-%m-%d %H:%M:%S') for i in range(length)])\n",
    "bj_aq_dataset_new[\"format_time\"] = formet_time\n",
    "bj_aq_dataset_new.set_index(\"format_time\", inplace=True)"
   ]
  },
  {
   "cell_type": "code",
   "execution_count": 33,
   "metadata": {},
   "outputs": [
    {
     "name": "stdout",
     "output_type": "stream",
     "text": [
      "2018-03-31 07:00:00 2018-04-15 23:00:00\n"
     ]
    }
   ],
   "source": [
    "# 新下载的 aq 数据的范围\n",
    "print(min(bj_aq_dataset_new.index), max(bj_aq_dataset_new.index))"
   ]
  },
  {
   "cell_type": "markdown",
   "metadata": {},
   "source": [
    "# ChangeLog\n",
    "- 0419 对新下载的数据进行了数据探索\n",
    "- 0423\n",
    "     - 增加对不同站点的相同特征之间的相关性分析\n",
    "     - 增加对空气质量的天的周期性\n",
    "- TODO\n",
    "    - 新下载的数据和之前的数据在时间轴上有重叠的部分，同时原始的数据有很大部分的缺失，可以使用新下载的数据对原始数据进行补齐\n",
    "    - 分析之前的数据中，不同站点的时间轴缺失情况是怎么样的，如果有大段的缺失，建议丢弃该片段\n",
    "        - 对于短期的 + 个别的缺失，使用插值的方式进行补全\n",
    "        - 对于长期的 + 全特征的缺失，将对应的数据删除"
   ]
  },
  {
   "cell_type": "code",
   "execution_count": null,
   "metadata": {
    "collapsed": true
   },
   "outputs": [],
   "source": []
  }
 ],
 "metadata": {
  "kernelspec": {
   "display_name": "Python 3",
   "language": "python",
   "name": "python3"
  },
  "language_info": {
   "codemirror_mode": {
    "name": "ipython",
    "version": 3
   },
   "file_extension": ".py",
   "mimetype": "text/x-python",
   "name": "python",
   "nbconvert_exporter": "python",
   "pygments_lexer": "ipython3",
   "version": "3.5.2"
  }
 },
 "nbformat": 4,
 "nbformat_minor": 2
}
