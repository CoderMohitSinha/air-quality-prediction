{
 "cells": [
  {
   "cell_type": "code",
   "execution_count": 1,
   "metadata": {
    "collapsed": true
   },
   "outputs": [],
   "source": [
    "# Using pandas to process data\n",
    "import numpy as np\n",
    "import pandas as pd\n",
    "import datetime\n",
    "from matplotlib import pyplot as plt\n",
    "%matplotlib inline\n",
    "\n",
    "from utils.data_util import parse_bj_aq_data, generate_model_data\n",
    "from utils.plot_util import plot_station, plot_stations\n",
    "\n",
    "%load_ext autoreload\n",
    "%autoreload 2"
   ]
  },
  {
   "cell_type": "markdown",
   "metadata": {},
   "source": [
    "# 数据解析"
   ]
  },
  {
   "cell_type": "code",
   "execution_count": 2,
   "metadata": {
    "scrolled": true
   },
   "outputs": [
    {
     "name": "stdout",
     "output_type": "stream",
     "text": [
      "NaN in PM2.5 is 23459, 6.508615 %\n",
      "NaN in PM10 is 96175, 26.683406 %\n",
      "NaN in NO2 is 21720, 6.026135 %\n",
      "NaN in CO is 46144, 12.802486 %\n",
      "NaN in O3 is 23732, 6.584358 %\n",
      "NaN in SO2 is 21664, 6.010598 %\n",
      "There are 35 air quality stations in Beijing\n",
      "\n",
      "The stations in Beijing are:\n",
      " {'fengtaihuayuan_aq', 'zhiwuyuan_aq', 'aotizhongxin_aq', 'tongzhou_aq', 'gucheng_aq', 'qianmen_aq', 'mentougou_aq', 'daxing_aq', 'miyunshuiku_aq', 'huairou_aq', 'tiantan_aq', 'yanqin_aq', 'dingling_aq', 'fangshan_aq', 'beibuxinqu_aq', 'nongzhanguan_aq', 'pingchang_aq', 'yungang_aq', 'dongsi_aq', 'wanshouxigong_aq', 'xizhimenbei_aq', 'nansanhuan_aq', 'wanliu_aq', 'yufa_aq', 'yizhuang_aq', 'yongledian_aq', 'yongdingmennei_aq', 'liulihe_aq', 'shunyi_aq', 'badaling_aq', 'donggaocun_aq', 'dongsihuan_aq', 'miyun_aq', 'guanyuan_aq', 'pinggu_aq'}\n"
     ]
    },
    {
     "name": "stderr",
     "output_type": "stream",
     "text": [
      "/notebooks/KDD_Cup_2018/utils/data_util.py:46: SettingWithCopyWarning: \n",
      "A value is trying to be set on a copy of a slice from a DataFrame\n",
      "\n",
      "See the caveats in the documentation: http://pandas.pydata.org/pandas-docs/stable/indexing.html#indexing-view-versus-copy\n",
      "  bj_aq_station.drop(\"utc_time\", axis=1, inplace=True)\n",
      "/notebooks/KDD_Cup_2018/utils/data_util.py:47: SettingWithCopyWarning: \n",
      "A value is trying to be set on a copy of a slice from a DataFrame\n",
      "\n",
      "See the caveats in the documentation: http://pandas.pydata.org/pandas-docs/stable/indexing.html#indexing-view-versus-copy\n",
      "  bj_aq_station.drop(\"stationId\", axis=1, inplace=True)\n"
     ]
    }
   ],
   "source": [
    "bj_aq_data, stations, bj_aq_stations, bj_aq_stations_merged = parse_bj_aq_data()"
   ]
  },
  {
   "cell_type": "code",
   "execution_count": 39,
   "metadata": {},
   "outputs": [
    {
     "data": {
      "text/html": [
       "<div>\n",
       "<style>\n",
       "    .dataframe thead tr:only-child th {\n",
       "        text-align: right;\n",
       "    }\n",
       "\n",
       "    .dataframe thead th {\n",
       "        text-align: left;\n",
       "    }\n",
       "\n",
       "    .dataframe tbody tr th {\n",
       "        vertical-align: top;\n",
       "    }\n",
       "</style>\n",
       "<table border=\"1\" class=\"dataframe\">\n",
       "  <thead>\n",
       "    <tr style=\"text-align: right;\">\n",
       "      <th></th>\n",
       "      <th>dingling_aq_PM2.5</th>\n",
       "      <th>dingling_aq_PM10</th>\n",
       "      <th>dingling_aq_NO2</th>\n",
       "      <th>dingling_aq_CO</th>\n",
       "      <th>dingling_aq_O3</th>\n",
       "      <th>dingling_aq_SO2</th>\n",
       "      <th>nansanhuan_aq_PM2.5</th>\n",
       "      <th>nansanhuan_aq_PM10</th>\n",
       "      <th>nansanhuan_aq_NO2</th>\n",
       "      <th>nansanhuan_aq_CO</th>\n",
       "      <th>...</th>\n",
       "      <th>wanshouxigong_aq_NO2</th>\n",
       "      <th>wanshouxigong_aq_CO</th>\n",
       "      <th>wanshouxigong_aq_O3</th>\n",
       "      <th>wanshouxigong_aq_SO2</th>\n",
       "      <th>xizhimenbei_aq_PM2.5</th>\n",
       "      <th>xizhimenbei_aq_PM10</th>\n",
       "      <th>xizhimenbei_aq_NO2</th>\n",
       "      <th>xizhimenbei_aq_CO</th>\n",
       "      <th>xizhimenbei_aq_O3</th>\n",
       "      <th>xizhimenbei_aq_SO2</th>\n",
       "    </tr>\n",
       "    <tr>\n",
       "      <th>format_time</th>\n",
       "      <th></th>\n",
       "      <th></th>\n",
       "      <th></th>\n",
       "      <th></th>\n",
       "      <th></th>\n",
       "      <th></th>\n",
       "      <th></th>\n",
       "      <th></th>\n",
       "      <th></th>\n",
       "      <th></th>\n",
       "      <th></th>\n",
       "      <th></th>\n",
       "      <th></th>\n",
       "      <th></th>\n",
       "      <th></th>\n",
       "      <th></th>\n",
       "      <th></th>\n",
       "      <th></th>\n",
       "      <th></th>\n",
       "      <th></th>\n",
       "      <th></th>\n",
       "    </tr>\n",
       "  </thead>\n",
       "  <tbody>\n",
       "    <tr>\n",
       "      <th>2017-01-01 14:00:00</th>\n",
       "      <td>339.0</td>\n",
       "      <td>372.0</td>\n",
       "      <td>137.0</td>\n",
       "      <td>5.9</td>\n",
       "      <td>6.0</td>\n",
       "      <td>18.0</td>\n",
       "      <td>431.0</td>\n",
       "      <td>467.0</td>\n",
       "      <td>147.0</td>\n",
       "      <td>6.5</td>\n",
       "      <td>...</td>\n",
       "      <td>140.0</td>\n",
       "      <td>0.6</td>\n",
       "      <td>7.0</td>\n",
       "      <td>5.0</td>\n",
       "      <td>514.0</td>\n",
       "      <td>NaN</td>\n",
       "      <td>171.0</td>\n",
       "      <td>8.3</td>\n",
       "      <td>8.0</td>\n",
       "      <td>15.0</td>\n",
       "    </tr>\n",
       "    <tr>\n",
       "      <th>2017-01-01 15:00:00</th>\n",
       "      <td>343.0</td>\n",
       "      <td>372.0</td>\n",
       "      <td>137.0</td>\n",
       "      <td>5.4</td>\n",
       "      <td>4.0</td>\n",
       "      <td>19.0</td>\n",
       "      <td>426.0</td>\n",
       "      <td>444.0</td>\n",
       "      <td>144.0</td>\n",
       "      <td>6.7</td>\n",
       "      <td>...</td>\n",
       "      <td>139.0</td>\n",
       "      <td>6.1</td>\n",
       "      <td>6.0</td>\n",
       "      <td>5.0</td>\n",
       "      <td>508.0</td>\n",
       "      <td>NaN</td>\n",
       "      <td>161.0</td>\n",
       "      <td>0.8</td>\n",
       "      <td>8.0</td>\n",
       "      <td>15.0</td>\n",
       "    </tr>\n",
       "    <tr>\n",
       "      <th>2017-01-01 16:00:00</th>\n",
       "      <td>311.0</td>\n",
       "      <td>372.0</td>\n",
       "      <td>123.0</td>\n",
       "      <td>5.1</td>\n",
       "      <td>5.0</td>\n",
       "      <td>13.0</td>\n",
       "      <td>420.0</td>\n",
       "      <td>451.0</td>\n",
       "      <td>136.0</td>\n",
       "      <td>0.7</td>\n",
       "      <td>...</td>\n",
       "      <td>138.0</td>\n",
       "      <td>6.5</td>\n",
       "      <td>6.0</td>\n",
       "      <td>4.0</td>\n",
       "      <td>497.0</td>\n",
       "      <td>NaN</td>\n",
       "      <td>164.0</td>\n",
       "      <td>7.6</td>\n",
       "      <td>8.0</td>\n",
       "      <td>14.0</td>\n",
       "    </tr>\n",
       "    <tr>\n",
       "      <th>2017-01-01 17:00:00</th>\n",
       "      <td>256.0</td>\n",
       "      <td>372.0</td>\n",
       "      <td>118.0</td>\n",
       "      <td>4.1</td>\n",
       "      <td>3.0</td>\n",
       "      <td>17.0</td>\n",
       "      <td>417.0</td>\n",
       "      <td>446.0</td>\n",
       "      <td>128.0</td>\n",
       "      <td>7.4</td>\n",
       "      <td>...</td>\n",
       "      <td>133.0</td>\n",
       "      <td>6.9</td>\n",
       "      <td>7.0</td>\n",
       "      <td>5.0</td>\n",
       "      <td>500.0</td>\n",
       "      <td>NaN</td>\n",
       "      <td>155.0</td>\n",
       "      <td>7.8</td>\n",
       "      <td>8.0</td>\n",
       "      <td>14.0</td>\n",
       "    </tr>\n",
       "    <tr>\n",
       "      <th>2017-01-01 18:00:00</th>\n",
       "      <td>57.0</td>\n",
       "      <td>372.0</td>\n",
       "      <td>33.0</td>\n",
       "      <td>0.8</td>\n",
       "      <td>43.0</td>\n",
       "      <td>17.0</td>\n",
       "      <td>426.0</td>\n",
       "      <td>465.0</td>\n",
       "      <td>124.0</td>\n",
       "      <td>0.8</td>\n",
       "      <td>...</td>\n",
       "      <td>126.0</td>\n",
       "      <td>6.6</td>\n",
       "      <td>7.0</td>\n",
       "      <td>5.0</td>\n",
       "      <td>480.0</td>\n",
       "      <td>NaN</td>\n",
       "      <td>147.0</td>\n",
       "      <td>7.8</td>\n",
       "      <td>8.0</td>\n",
       "      <td>14.0</td>\n",
       "    </tr>\n",
       "  </tbody>\n",
       "</table>\n",
       "<p>5 rows × 210 columns</p>\n",
       "</div>"
      ],
      "text/plain": [
       "                     dingling_aq_PM2.5  dingling_aq_PM10  dingling_aq_NO2  \\\n",
       "format_time                                                                 \n",
       "2017-01-01 14:00:00              339.0             372.0            137.0   \n",
       "2017-01-01 15:00:00              343.0             372.0            137.0   \n",
       "2017-01-01 16:00:00              311.0             372.0            123.0   \n",
       "2017-01-01 17:00:00              256.0             372.0            118.0   \n",
       "2017-01-01 18:00:00               57.0             372.0             33.0   \n",
       "\n",
       "                     dingling_aq_CO  dingling_aq_O3  dingling_aq_SO2  \\\n",
       "format_time                                                            \n",
       "2017-01-01 14:00:00             5.9             6.0             18.0   \n",
       "2017-01-01 15:00:00             5.4             4.0             19.0   \n",
       "2017-01-01 16:00:00             5.1             5.0             13.0   \n",
       "2017-01-01 17:00:00             4.1             3.0             17.0   \n",
       "2017-01-01 18:00:00             0.8            43.0             17.0   \n",
       "\n",
       "                     nansanhuan_aq_PM2.5  nansanhuan_aq_PM10  \\\n",
       "format_time                                                    \n",
       "2017-01-01 14:00:00                431.0               467.0   \n",
       "2017-01-01 15:00:00                426.0               444.0   \n",
       "2017-01-01 16:00:00                420.0               451.0   \n",
       "2017-01-01 17:00:00                417.0               446.0   \n",
       "2017-01-01 18:00:00                426.0               465.0   \n",
       "\n",
       "                     nansanhuan_aq_NO2  nansanhuan_aq_CO         ...          \\\n",
       "format_time                                                      ...           \n",
       "2017-01-01 14:00:00              147.0               6.5         ...           \n",
       "2017-01-01 15:00:00              144.0               6.7         ...           \n",
       "2017-01-01 16:00:00              136.0               0.7         ...           \n",
       "2017-01-01 17:00:00              128.0               7.4         ...           \n",
       "2017-01-01 18:00:00              124.0               0.8         ...           \n",
       "\n",
       "                     wanshouxigong_aq_NO2  wanshouxigong_aq_CO  \\\n",
       "format_time                                                      \n",
       "2017-01-01 14:00:00                 140.0                  0.6   \n",
       "2017-01-01 15:00:00                 139.0                  6.1   \n",
       "2017-01-01 16:00:00                 138.0                  6.5   \n",
       "2017-01-01 17:00:00                 133.0                  6.9   \n",
       "2017-01-01 18:00:00                 126.0                  6.6   \n",
       "\n",
       "                     wanshouxigong_aq_O3  wanshouxigong_aq_SO2  \\\n",
       "format_time                                                      \n",
       "2017-01-01 14:00:00                  7.0                   5.0   \n",
       "2017-01-01 15:00:00                  6.0                   5.0   \n",
       "2017-01-01 16:00:00                  6.0                   4.0   \n",
       "2017-01-01 17:00:00                  7.0                   5.0   \n",
       "2017-01-01 18:00:00                  7.0                   5.0   \n",
       "\n",
       "                     xizhimenbei_aq_PM2.5  xizhimenbei_aq_PM10  \\\n",
       "format_time                                                      \n",
       "2017-01-01 14:00:00                 514.0                  NaN   \n",
       "2017-01-01 15:00:00                 508.0                  NaN   \n",
       "2017-01-01 16:00:00                 497.0                  NaN   \n",
       "2017-01-01 17:00:00                 500.0                  NaN   \n",
       "2017-01-01 18:00:00                 480.0                  NaN   \n",
       "\n",
       "                     xizhimenbei_aq_NO2  xizhimenbei_aq_CO  xizhimenbei_aq_O3  \\\n",
       "format_time                                                                     \n",
       "2017-01-01 14:00:00               171.0                8.3                8.0   \n",
       "2017-01-01 15:00:00               161.0                0.8                8.0   \n",
       "2017-01-01 16:00:00               164.0                7.6                8.0   \n",
       "2017-01-01 17:00:00               155.0                7.8                8.0   \n",
       "2017-01-01 18:00:00               147.0                7.8                8.0   \n",
       "\n",
       "                     xizhimenbei_aq_SO2  \n",
       "format_time                              \n",
       "2017-01-01 14:00:00                15.0  \n",
       "2017-01-01 15:00:00                15.0  \n",
       "2017-01-01 16:00:00                14.0  \n",
       "2017-01-01 17:00:00                14.0  \n",
       "2017-01-01 18:00:00                14.0  \n",
       "\n",
       "[5 rows x 210 columns]"
      ]
     },
     "execution_count": 39,
     "metadata": {},
     "output_type": "execute_result"
    }
   ],
   "source": [
    "bj_aq_stations_merged.head()"
   ]
  },
  {
   "cell_type": "code",
   "execution_count": 3,
   "metadata": {
    "scrolled": true
   },
   "outputs": [
    {
     "data": {
      "text/plain": [
       "miyunshuiku_aq_PM2.5       False\n",
       "miyunshuiku_aq_PM10         True\n",
       "miyunshuiku_aq_NO2         False\n",
       "miyunshuiku_aq_CO          False\n",
       "miyunshuiku_aq_O3          False\n",
       "miyunshuiku_aq_SO2         False\n",
       "wanshouxigong_aq_PM2.5     False\n",
       "wanshouxigong_aq_PM10      False\n",
       "wanshouxigong_aq_NO2       False\n",
       "wanshouxigong_aq_CO        False\n",
       "wanshouxigong_aq_O3        False\n",
       "wanshouxigong_aq_SO2       False\n",
       "pinggu_aq_PM2.5            False\n",
       "pinggu_aq_PM10              True\n",
       "pinggu_aq_NO2              False\n",
       "pinggu_aq_CO               False\n",
       "pinggu_aq_O3               False\n",
       "pinggu_aq_SO2              False\n",
       "guanyuan_aq_PM2.5          False\n",
       "guanyuan_aq_PM10           False\n",
       "guanyuan_aq_NO2            False\n",
       "guanyuan_aq_CO             False\n",
       "guanyuan_aq_O3             False\n",
       "guanyuan_aq_SO2            False\n",
       "yanqin_aq_PM2.5            False\n",
       "yanqin_aq_PM10             False\n",
       "yanqin_aq_NO2              False\n",
       "yanqin_aq_CO               False\n",
       "yanqin_aq_O3               False\n",
       "yanqin_aq_SO2              False\n",
       "                           ...  \n",
       "mentougou_aq_PM2.5         False\n",
       "mentougou_aq_PM10          False\n",
       "mentougou_aq_NO2           False\n",
       "mentougou_aq_CO            False\n",
       "mentougou_aq_O3            False\n",
       "mentougou_aq_SO2           False\n",
       "yufa_aq_PM2.5              False\n",
       "yufa_aq_PM10               False\n",
       "yufa_aq_NO2                False\n",
       "yufa_aq_CO                 False\n",
       "yufa_aq_O3                 False\n",
       "yufa_aq_SO2                False\n",
       "yizhuang_aq_PM2.5          False\n",
       "yizhuang_aq_PM10           False\n",
       "yizhuang_aq_NO2            False\n",
       "yizhuang_aq_CO             False\n",
       "yizhuang_aq_O3             False\n",
       "yizhuang_aq_SO2            False\n",
       "gucheng_aq_PM2.5           False\n",
       "gucheng_aq_PM10            False\n",
       "gucheng_aq_NO2             False\n",
       "gucheng_aq_CO              False\n",
       "gucheng_aq_O3              False\n",
       "gucheng_aq_SO2             False\n",
       "yongdingmennei_aq_PM2.5    False\n",
       "yongdingmennei_aq_PM10      True\n",
       "yongdingmennei_aq_NO2      False\n",
       "yongdingmennei_aq_CO       False\n",
       "yongdingmennei_aq_O3       False\n",
       "yongdingmennei_aq_SO2      False\n",
       "Length: 210, dtype: bool"
      ]
     },
     "execution_count": 3,
     "metadata": {},
     "output_type": "execute_result"
    }
   ],
   "source": [
    "# 还有一些特征仍然存在缺失值\n",
    "bj_aq_stations_merged.isnull().any()"
   ]
  },
  {
   "cell_type": "code",
   "execution_count": 4,
   "metadata": {
    "collapsed": true
   },
   "outputs": [],
   "source": [
    "# generate all training data at a time.\n",
    "X_batches, Y_batches = generate_model_data(merged_data=bj_aq_stations_merged, m=10, X_hours=32, Y_hours=48, step=1)"
   ]
  },
  {
   "cell_type": "code",
   "execution_count": 5,
   "metadata": {},
   "outputs": [
    {
     "name": "stdout",
     "output_type": "stream",
     "text": [
      "1012 (10, 32, 210) (10, 48, 210)\n"
     ]
    }
   ],
   "source": [
    "print(len(X_batches), X_batches[0].shape, Y_batches[0].shape)"
   ]
  },
  {
   "cell_type": "markdown",
   "metadata": {},
   "source": [
    "# 可视化"
   ]
  },
  {
   "cell_type": "markdown",
   "metadata": {},
   "source": [
    "# 数据预处理\n",
    "- 对缺失值进行了补全，使用 ffill"
   ]
  },
  {
   "cell_type": "markdown",
   "metadata": {
    "collapsed": true
   },
   "source": [
    "# 数据的下载补齐"
   ]
  },
  {
   "cell_type": "markdown",
   "metadata": {},
   "source": [
    "- 空气质量数据\n",
    "    - 10298 data for 35 stations\n",
    "    - 2017:01:01 14:00 - 2018:03:31 15:00 "
   ]
  },
  {
   "cell_type": "code",
   "execution_count": 26,
   "metadata": {},
   "outputs": [
    {
     "name": "stdout",
     "output_type": "stream",
     "text": [
      "2017-01-01 14:00:00 2018-03-31 15:00:00\n"
     ]
    }
   ],
   "source": [
    "# 原有 aq 数据的范围\n",
    "print(min(bj_aq_data.index), max(bj_aq_data.index))"
   ]
  },
  {
   "cell_type": "code",
   "execution_count": 30,
   "metadata": {},
   "outputs": [
    {
     "data": {
      "text/html": [
       "<div>\n",
       "<style>\n",
       "    .dataframe thead tr:only-child th {\n",
       "        text-align: right;\n",
       "    }\n",
       "\n",
       "    .dataframe thead th {\n",
       "        text-align: left;\n",
       "    }\n",
       "\n",
       "    .dataframe tbody tr th {\n",
       "        vertical-align: top;\n",
       "    }\n",
       "</style>\n",
       "<table border=\"1\" class=\"dataframe\">\n",
       "  <thead>\n",
       "    <tr style=\"text-align: right;\">\n",
       "      <th></th>\n",
       "      <th>id</th>\n",
       "      <th>station_id</th>\n",
       "      <th>time</th>\n",
       "      <th>PM25_Concentration</th>\n",
       "      <th>PM10_Concentration</th>\n",
       "      <th>NO2_Concentration</th>\n",
       "      <th>CO_Concentration</th>\n",
       "      <th>O3_Concentration</th>\n",
       "      <th>SO2_Concentration</th>\n",
       "    </tr>\n",
       "  </thead>\n",
       "  <tbody>\n",
       "    <tr>\n",
       "      <th>0</th>\n",
       "      <td>2941450</td>\n",
       "      <td>dongsi_aq</td>\n",
       "      <td>2018-03-31 07:00:00</td>\n",
       "      <td>105.0</td>\n",
       "      <td>172.0</td>\n",
       "      <td>53.0</td>\n",
       "      <td>0.8</td>\n",
       "      <td>127.0</td>\n",
       "      <td>14.0</td>\n",
       "    </tr>\n",
       "    <tr>\n",
       "      <th>1</th>\n",
       "      <td>2941451</td>\n",
       "      <td>tiantan_aq</td>\n",
       "      <td>2018-03-31 07:00:00</td>\n",
       "      <td>95.0</td>\n",
       "      <td>123.0</td>\n",
       "      <td>54.0</td>\n",
       "      <td>0.9</td>\n",
       "      <td>121.0</td>\n",
       "      <td>15.0</td>\n",
       "    </tr>\n",
       "    <tr>\n",
       "      <th>2</th>\n",
       "      <td>2941452</td>\n",
       "      <td>guanyuan_aq</td>\n",
       "      <td>2018-03-31 07:00:00</td>\n",
       "      <td>95.0</td>\n",
       "      <td>139.0</td>\n",
       "      <td>66.0</td>\n",
       "      <td>0.8</td>\n",
       "      <td>123.0</td>\n",
       "      <td>13.0</td>\n",
       "    </tr>\n",
       "    <tr>\n",
       "      <th>3</th>\n",
       "      <td>2941453</td>\n",
       "      <td>wanshouxigong_aq</td>\n",
       "      <td>2018-03-31 07:00:00</td>\n",
       "      <td>99.0</td>\n",
       "      <td>172.0</td>\n",
       "      <td>58.0</td>\n",
       "      <td>1.0</td>\n",
       "      <td>119.0</td>\n",
       "      <td>14.0</td>\n",
       "    </tr>\n",
       "    <tr>\n",
       "      <th>4</th>\n",
       "      <td>2941454</td>\n",
       "      <td>aotizhongxin_aq</td>\n",
       "      <td>2018-03-31 07:00:00</td>\n",
       "      <td>117.0</td>\n",
       "      <td>166.0</td>\n",
       "      <td>67.0</td>\n",
       "      <td>0.8</td>\n",
       "      <td>111.0</td>\n",
       "      <td>14.0</td>\n",
       "    </tr>\n",
       "  </tbody>\n",
       "</table>\n",
       "</div>"
      ],
      "text/plain": [
       "        id        station_id                 time  PM25_Concentration  \\\n",
       "0  2941450         dongsi_aq  2018-03-31 07:00:00               105.0   \n",
       "1  2941451        tiantan_aq  2018-03-31 07:00:00                95.0   \n",
       "2  2941452       guanyuan_aq  2018-03-31 07:00:00                95.0   \n",
       "3  2941453  wanshouxigong_aq  2018-03-31 07:00:00                99.0   \n",
       "4  2941454   aotizhongxin_aq  2018-03-31 07:00:00               117.0   \n",
       "\n",
       "   PM10_Concentration  NO2_Concentration  CO_Concentration  O3_Concentration  \\\n",
       "0               172.0               53.0               0.8             127.0   \n",
       "1               123.0               54.0               0.9             121.0   \n",
       "2               139.0               66.0               0.8             123.0   \n",
       "3               172.0               58.0               1.0             119.0   \n",
       "4               166.0               67.0               0.8             111.0   \n",
       "\n",
       "   SO2_Concentration  \n",
       "0               14.0  \n",
       "1               15.0  \n",
       "2               13.0  \n",
       "3               14.0  \n",
       "4               14.0  "
      ]
     },
     "execution_count": 30,
     "metadata": {},
     "output_type": "execute_result"
    }
   ],
   "source": [
    "# 新下载的 aq 数据\n",
    "bj_aq_dataset_new = pd.read_csv(\"./KDD_CUP_2018/Beijing/aq/bj_airquality_2018-03-31-15-2018-04-15-23.csv\")\n",
    "bj_aq_dataset_new.head()"
   ]
  },
  {
   "cell_type": "code",
   "execution_count": 31,
   "metadata": {},
   "outputs": [],
   "source": [
    "length = bj_aq_dataset_new.shape[0]\n",
    "formet_time = pd.Series([datetime.datetime.strptime(bj_aq_dataset_new[\"time\"][i],'%Y-%m-%d %H:%M:%S') for i in range(length)])\n",
    "bj_aq_dataset_new[\"format_time\"] = formet_time\n",
    "bj_aq_dataset_new.set_index(\"format_time\", inplace=True)"
   ]
  },
  {
   "cell_type": "code",
   "execution_count": 33,
   "metadata": {},
   "outputs": [
    {
     "name": "stdout",
     "output_type": "stream",
     "text": [
      "2018-03-31 07:00:00 2018-04-15 23:00:00\n"
     ]
    }
   ],
   "source": [
    "# 新下载的 aq 数据的范围\n",
    "print(min(bj_aq_dataset_new.index), max(bj_aq_dataset_new.index))"
   ]
  },
  {
   "cell_type": "markdown",
   "metadata": {},
   "source": [
    "# ChangeLog\n",
    "- 0419 对新下载的数据进行了数据探索\n",
    "- TODO\n",
    "    - 新下载的数据和之前的数据在时间轴上有重叠的部分，同时原始的数据有很大部分的缺失，可以使用新下载的数据对原始数据进行补齐\n",
    "    - 分析之前的数据中，不同站点的时间轴缺失情况是怎么样的，如果有大段的缺失，建议丢弃该片段\n",
    "        - 对于短期的 + 个别的缺失，使用插值的方式进行补全\n",
    "        - 对于长期的 + 全特征的缺失，将对应的数据删除"
   ]
  },
  {
   "cell_type": "code",
   "execution_count": null,
   "metadata": {
    "collapsed": true
   },
   "outputs": [],
   "source": []
  }
 ],
 "metadata": {
  "kernelspec": {
   "display_name": "Python 3",
   "language": "python",
   "name": "python3"
  },
  "language_info": {
   "codemirror_mode": {
    "name": "ipython",
    "version": 3
   },
   "file_extension": ".py",
   "mimetype": "text/x-python",
   "name": "python",
   "nbconvert_exporter": "python",
   "pygments_lexer": "ipython3",
   "version": "3.5.2"
  }
 },
 "nbformat": 4,
 "nbformat_minor": 2
}
