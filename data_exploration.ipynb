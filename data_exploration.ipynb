{
 "cells": [
  {
   "cell_type": "code",
   "execution_count": 1,
   "metadata": {
    "collapsed": true
   },
   "outputs": [],
   "source": [
    "# Using pandas to process data\n",
    "import numpy as np\n",
    "import pandas as pd\n",
    "import datetime\n",
    "from matplotlib import pyplot as plt\n",
    "%matplotlib inline\n",
    "\n",
    "from utils.data_util import parse_bj_aq_data, generate_model_data\n",
    "from utils.plot_util import plot_station, plot_stations\n",
    "\n",
    "%load_ext autoreload\n",
    "%autoreload 2"
   ]
  },
  {
   "cell_type": "markdown",
   "metadata": {},
   "source": [
    "# 数据解析"
   ]
  },
  {
   "cell_type": "code",
   "execution_count": 2,
   "metadata": {
    "scrolled": true
   },
   "outputs": [
    {
     "name": "stdout",
     "output_type": "stream",
     "text": [
      "NaN in PM2.5 is 23459, 6.508615 %\n",
      "NaN in PM10 is 96175, 26.683406 %\n",
      "NaN in NO2 is 21720, 6.026135 %\n",
      "NaN in CO is 46144, 12.802486 %\n",
      "NaN in O3 is 23732, 6.584358 %\n",
      "NaN in SO2 is 21664, 6.010598 %\n",
      "There are 35 air quality stations in Beijing\n",
      "\n",
      "The stations in Beijing are:\n",
      " {'fengtaihuayuan_aq', 'zhiwuyuan_aq', 'aotizhongxin_aq', 'tongzhou_aq', 'gucheng_aq', 'qianmen_aq', 'mentougou_aq', 'daxing_aq', 'miyunshuiku_aq', 'huairou_aq', 'tiantan_aq', 'yanqin_aq', 'dingling_aq', 'fangshan_aq', 'beibuxinqu_aq', 'nongzhanguan_aq', 'pingchang_aq', 'yungang_aq', 'dongsi_aq', 'wanshouxigong_aq', 'xizhimenbei_aq', 'nansanhuan_aq', 'wanliu_aq', 'yufa_aq', 'yizhuang_aq', 'yongledian_aq', 'yongdingmennei_aq', 'liulihe_aq', 'shunyi_aq', 'badaling_aq', 'donggaocun_aq', 'dongsihuan_aq', 'miyun_aq', 'guanyuan_aq', 'pinggu_aq'}\n"
     ]
    },
    {
     "name": "stderr",
     "output_type": "stream",
     "text": [
      "/notebooks/KDD_Cup_2018/utils/data_util.py:46: SettingWithCopyWarning: \n",
      "A value is trying to be set on a copy of a slice from a DataFrame\n",
      "\n",
      "See the caveats in the documentation: http://pandas.pydata.org/pandas-docs/stable/indexing.html#indexing-view-versus-copy\n",
      "  bj_aq_station.drop(\"utc_time\", axis=1, inplace=True)\n",
      "/notebooks/KDD_Cup_2018/utils/data_util.py:47: SettingWithCopyWarning: \n",
      "A value is trying to be set on a copy of a slice from a DataFrame\n",
      "\n",
      "See the caveats in the documentation: http://pandas.pydata.org/pandas-docs/stable/indexing.html#indexing-view-versus-copy\n",
      "  bj_aq_station.drop(\"stationId\", axis=1, inplace=True)\n"
     ]
    }
   ],
   "source": [
    "bj_aq_data, stations, bj_aq_stations, bj_aq_stations_merged = parse_bj_aq_data()"
   ]
  },
  {
   "cell_type": "code",
   "execution_count": 3,
   "metadata": {
    "scrolled": true
   },
   "outputs": [
    {
     "data": {
      "text/plain": [
       "miyunshuiku_aq_PM2.5       False\n",
       "miyunshuiku_aq_PM10         True\n",
       "miyunshuiku_aq_NO2         False\n",
       "miyunshuiku_aq_CO          False\n",
       "miyunshuiku_aq_O3          False\n",
       "miyunshuiku_aq_SO2         False\n",
       "wanshouxigong_aq_PM2.5     False\n",
       "wanshouxigong_aq_PM10      False\n",
       "wanshouxigong_aq_NO2       False\n",
       "wanshouxigong_aq_CO        False\n",
       "wanshouxigong_aq_O3        False\n",
       "wanshouxigong_aq_SO2       False\n",
       "pinggu_aq_PM2.5            False\n",
       "pinggu_aq_PM10              True\n",
       "pinggu_aq_NO2              False\n",
       "pinggu_aq_CO               False\n",
       "pinggu_aq_O3               False\n",
       "pinggu_aq_SO2              False\n",
       "guanyuan_aq_PM2.5          False\n",
       "guanyuan_aq_PM10           False\n",
       "guanyuan_aq_NO2            False\n",
       "guanyuan_aq_CO             False\n",
       "guanyuan_aq_O3             False\n",
       "guanyuan_aq_SO2            False\n",
       "yanqin_aq_PM2.5            False\n",
       "yanqin_aq_PM10             False\n",
       "yanqin_aq_NO2              False\n",
       "yanqin_aq_CO               False\n",
       "yanqin_aq_O3               False\n",
       "yanqin_aq_SO2              False\n",
       "                           ...  \n",
       "mentougou_aq_PM2.5         False\n",
       "mentougou_aq_PM10          False\n",
       "mentougou_aq_NO2           False\n",
       "mentougou_aq_CO            False\n",
       "mentougou_aq_O3            False\n",
       "mentougou_aq_SO2           False\n",
       "yufa_aq_PM2.5              False\n",
       "yufa_aq_PM10               False\n",
       "yufa_aq_NO2                False\n",
       "yufa_aq_CO                 False\n",
       "yufa_aq_O3                 False\n",
       "yufa_aq_SO2                False\n",
       "yizhuang_aq_PM2.5          False\n",
       "yizhuang_aq_PM10           False\n",
       "yizhuang_aq_NO2            False\n",
       "yizhuang_aq_CO             False\n",
       "yizhuang_aq_O3             False\n",
       "yizhuang_aq_SO2            False\n",
       "gucheng_aq_PM2.5           False\n",
       "gucheng_aq_PM10            False\n",
       "gucheng_aq_NO2             False\n",
       "gucheng_aq_CO              False\n",
       "gucheng_aq_O3              False\n",
       "gucheng_aq_SO2             False\n",
       "yongdingmennei_aq_PM2.5    False\n",
       "yongdingmennei_aq_PM10      True\n",
       "yongdingmennei_aq_NO2      False\n",
       "yongdingmennei_aq_CO       False\n",
       "yongdingmennei_aq_O3       False\n",
       "yongdingmennei_aq_SO2      False\n",
       "Length: 210, dtype: bool"
      ]
     },
     "execution_count": 3,
     "metadata": {},
     "output_type": "execute_result"
    }
   ],
   "source": [
    "# 还有一些特征仍然存在缺失值\n",
    "bj_aq_stations_merged.isnull().any()"
   ]
  },
  {
   "cell_type": "code",
   "execution_count": 4,
   "metadata": {
    "collapsed": true
   },
   "outputs": [],
   "source": [
    "# generate all training data at a time.\n",
    "X_batches, Y_batches = generate_model_data(merged_data=bj_aq_stations_merged, m=10, X_hours=32, Y_hours=48, step=1)"
   ]
  },
  {
   "cell_type": "code",
   "execution_count": 5,
   "metadata": {},
   "outputs": [
    {
     "name": "stdout",
     "output_type": "stream",
     "text": [
      "1012 (10, 32, 210) (10, 48, 210)\n"
     ]
    }
   ],
   "source": [
    "print(len(X_batches), X_batches[0].shape, Y_batches[0].shape)"
   ]
  },
  {
   "cell_type": "markdown",
   "metadata": {},
   "source": [
    "# 可视化"
   ]
  },
  {
   "cell_type": "code",
   "execution_count": 3,
   "metadata": {},
   "outputs": [
    {
     "data": {
      "text/plain": [
       "dict_keys(['dingling_aq', 'nansanhuan_aq', 'wanliu_aq', 'fengtaihuayuan_aq', 'zhiwuyuan_aq', 'aotizhongxin_aq', 'nongzhanguan_aq', 'yizhuang_aq', 'tongzhou_aq', 'dongsihuan_aq', 'yongledian_aq', 'yufa_aq', 'gucheng_aq', 'qianmen_aq', 'daxing_aq', 'miyunshuiku_aq', 'tiantan_aq', 'miyun_aq', 'liulihe_aq', 'yanqin_aq', 'yongdingmennei_aq', 'badaling_aq', 'fangshan_aq', 'beibuxinqu_aq', 'pingchang_aq', 'donggaocun_aq', 'mentougou_aq', 'yungang_aq', 'shunyi_aq', 'guanyuan_aq', 'huairou_aq', 'dongsi_aq', 'pinggu_aq', 'wanshouxigong_aq', 'xizhimenbei_aq'])"
      ]
     },
     "execution_count": 3,
     "metadata": {},
     "output_type": "execute_result"
    }
   ],
   "source": [
    "bj_aq_stations.keys()"
   ]
  },
  {
   "cell_type": "code",
   "execution_count": 12,
   "metadata": {},
   "outputs": [
    {
     "data": {
      "text/plain": [
       "Index(['dingling_aq_PM2.5', 'dingling_aq_PM10', 'dingling_aq_NO2',\n",
       "       'dingling_aq_CO', 'dingling_aq_O3', 'dingling_aq_SO2'],\n",
       "      dtype='object')"
      ]
     },
     "execution_count": 12,
     "metadata": {},
     "output_type": "execute_result"
    }
   ],
   "source": [
    "bj_aq_stations['dingling_aq'].columns"
   ]
  },
  {
   "cell_type": "markdown",
   "metadata": {},
   "source": [
    "# 数据预处理\n",
    "- 对缺失值进行了补全，使用 ffill"
   ]
  },
  {
   "cell_type": "code",
   "execution_count": null,
   "metadata": {
    "collapsed": true
   },
   "outputs": [],
   "source": []
  }
 ],
 "metadata": {
  "kernelspec": {
   "display_name": "Python 3",
   "language": "python",
   "name": "python3"
  },
  "language_info": {
   "codemirror_mode": {
    "name": "ipython",
    "version": 3
   },
   "file_extension": ".py",
   "mimetype": "text/x-python",
   "name": "python",
   "nbconvert_exporter": "python",
   "pygments_lexer": "ipython3",
   "version": "3.5.2"
  }
 },
 "nbformat": 4,
 "nbformat_minor": 2
}
