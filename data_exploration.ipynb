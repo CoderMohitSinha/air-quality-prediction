{
 "cells": [
  {
   "cell_type": "code",
   "execution_count": 18,
   "metadata": {},
   "outputs": [
    {
     "name": "stdout",
     "output_type": "stream",
     "text": [
      "The autoreload extension is already loaded. To reload it, use:\n",
      "  %reload_ext autoreload\n"
     ]
    }
   ],
   "source": [
    "# Using pandas to process data\n",
    "import numpy as np\n",
    "import pandas as pd\n",
    "import datetime\n",
    "from matplotlib import pyplot as plt\n",
    "%matplotlib inline\n",
    "from scipy.stats import pearsonr\n",
    "\n",
    "from utils.data_util import parse_bj_aq_data, generate_model_data\n",
    "# from utils.plot_util import plot_station, plot_stations\n",
    "\n",
    "%load_ext autoreload\n",
    "%autoreload 2"
   ]
  },
  {
   "cell_type": "markdown",
   "metadata": {},
   "source": [
    "# 数据解析"
   ]
  },
  {
   "cell_type": "code",
   "execution_count": 2,
   "metadata": {
    "scrolled": false
   },
   "outputs": [
    {
     "name": "stdout",
     "output_type": "stream",
     "text": [
      "NaN in PM2.5 is 23459, 6.508615 %\n",
      "NaN in PM10 is 96175, 26.683406 %\n",
      "NaN in NO2 is 21720, 6.026135 %\n",
      "NaN in CO is 46144, 12.802486 %\n",
      "NaN in O3 is 23732, 6.584358 %\n",
      "NaN in SO2 is 21664, 6.010598 %\n",
      "There are 35 air quality stations in Beijing\n",
      "\n",
      "The stations in Beijing are:\n",
      " {'donggaocun_aq', 'daxing_aq', 'yufa_aq', 'gucheng_aq', 'wanliu_aq', 'huairou_aq', 'fengtaihuayuan_aq', 'zhiwuyuan_aq', 'tiantan_aq', 'miyunshuiku_aq', 'dongsi_aq', 'pingchang_aq', 'fangshan_aq', 'nongzhanguan_aq', 'shunyi_aq', 'yanqin_aq', 'liulihe_aq', 'yongledian_aq', 'beibuxinqu_aq', 'yungang_aq', 'yongdingmennei_aq', 'miyun_aq', 'guanyuan_aq', 'wanshouxigong_aq', 'nansanhuan_aq', 'yizhuang_aq', 'dongsihuan_aq', 'pinggu_aq', 'aotizhongxin_aq', 'qianmen_aq', 'mentougou_aq', 'dingling_aq', 'badaling_aq', 'tongzhou_aq', 'xizhimenbei_aq'}\n"
     ]
    },
    {
     "name": "stderr",
     "output_type": "stream",
     "text": [
      "/notebooks/KDD_Cup_2018/utils/data_util.py:46: SettingWithCopyWarning: \n",
      "A value is trying to be set on a copy of a slice from a DataFrame\n",
      "\n",
      "See the caveats in the documentation: http://pandas.pydata.org/pandas-docs/stable/indexing.html#indexing-view-versus-copy\n",
      "  bj_aq_station.drop(\"utc_time\", axis=1, inplace=True)\n",
      "/notebooks/KDD_Cup_2018/utils/data_util.py:47: SettingWithCopyWarning: \n",
      "A value is trying to be set on a copy of a slice from a DataFrame\n",
      "\n",
      "See the caveats in the documentation: http://pandas.pydata.org/pandas-docs/stable/indexing.html#indexing-view-versus-copy\n",
      "  bj_aq_station.drop(\"stationId\", axis=1, inplace=True)\n"
     ]
    }
   ],
   "source": [
    "bj_aq_data, stations, bj_aq_stations, bj_aq_stations_merged = parse_bj_aq_data()"
   ]
  },
  {
   "cell_type": "code",
   "execution_count": 3,
   "metadata": {},
   "outputs": [
    {
     "data": {
      "text/html": [
       "<div>\n",
       "<style>\n",
       "    .dataframe thead tr:only-child th {\n",
       "        text-align: right;\n",
       "    }\n",
       "\n",
       "    .dataframe thead th {\n",
       "        text-align: left;\n",
       "    }\n",
       "\n",
       "    .dataframe tbody tr th {\n",
       "        vertical-align: top;\n",
       "    }\n",
       "</style>\n",
       "<table border=\"1\" class=\"dataframe\">\n",
       "  <thead>\n",
       "    <tr style=\"text-align: right;\">\n",
       "      <th></th>\n",
       "      <th>fangshan_aq_PM2.5</th>\n",
       "      <th>fangshan_aq_PM10</th>\n",
       "      <th>fangshan_aq_NO2</th>\n",
       "      <th>fangshan_aq_CO</th>\n",
       "      <th>fangshan_aq_O3</th>\n",
       "      <th>fangshan_aq_SO2</th>\n",
       "      <th>dongsihuan_aq_PM2.5</th>\n",
       "      <th>dongsihuan_aq_PM10</th>\n",
       "      <th>dongsihuan_aq_NO2</th>\n",
       "      <th>dongsihuan_aq_CO</th>\n",
       "      <th>...</th>\n",
       "      <th>xizhimenbei_aq_NO2</th>\n",
       "      <th>xizhimenbei_aq_CO</th>\n",
       "      <th>xizhimenbei_aq_O3</th>\n",
       "      <th>xizhimenbei_aq_SO2</th>\n",
       "      <th>yizhuang_aq_PM2.5</th>\n",
       "      <th>yizhuang_aq_PM10</th>\n",
       "      <th>yizhuang_aq_NO2</th>\n",
       "      <th>yizhuang_aq_CO</th>\n",
       "      <th>yizhuang_aq_O3</th>\n",
       "      <th>yizhuang_aq_SO2</th>\n",
       "    </tr>\n",
       "    <tr>\n",
       "      <th>format_time</th>\n",
       "      <th></th>\n",
       "      <th></th>\n",
       "      <th></th>\n",
       "      <th></th>\n",
       "      <th></th>\n",
       "      <th></th>\n",
       "      <th></th>\n",
       "      <th></th>\n",
       "      <th></th>\n",
       "      <th></th>\n",
       "      <th></th>\n",
       "      <th></th>\n",
       "      <th></th>\n",
       "      <th></th>\n",
       "      <th></th>\n",
       "      <th></th>\n",
       "      <th></th>\n",
       "      <th></th>\n",
       "      <th></th>\n",
       "      <th></th>\n",
       "      <th></th>\n",
       "    </tr>\n",
       "  </thead>\n",
       "  <tbody>\n",
       "    <tr>\n",
       "      <th>2017-01-01 14:00:00</th>\n",
       "      <td>399.0</td>\n",
       "      <td>472.0</td>\n",
       "      <td>136.0</td>\n",
       "      <td>6.3</td>\n",
       "      <td>4.0</td>\n",
       "      <td>10.0</td>\n",
       "      <td>390.0</td>\n",
       "      <td>394.0</td>\n",
       "      <td>99.0</td>\n",
       "      <td>6.8</td>\n",
       "      <td>...</td>\n",
       "      <td>171.0</td>\n",
       "      <td>8.3</td>\n",
       "      <td>8.0</td>\n",
       "      <td>15.0</td>\n",
       "      <td>278.0</td>\n",
       "      <td>362.0</td>\n",
       "      <td>117.0</td>\n",
       "      <td>5.7</td>\n",
       "      <td>6.0</td>\n",
       "      <td>2.0</td>\n",
       "    </tr>\n",
       "    <tr>\n",
       "      <th>2017-01-01 15:00:00</th>\n",
       "      <td>397.0</td>\n",
       "      <td>485.0</td>\n",
       "      <td>126.0</td>\n",
       "      <td>6.4</td>\n",
       "      <td>4.0</td>\n",
       "      <td>10.0</td>\n",
       "      <td>390.0</td>\n",
       "      <td>394.0</td>\n",
       "      <td>92.0</td>\n",
       "      <td>6.6</td>\n",
       "      <td>...</td>\n",
       "      <td>161.0</td>\n",
       "      <td>0.8</td>\n",
       "      <td>8.0</td>\n",
       "      <td>15.0</td>\n",
       "      <td>298.0</td>\n",
       "      <td>382.0</td>\n",
       "      <td>117.0</td>\n",
       "      <td>5.8</td>\n",
       "      <td>6.0</td>\n",
       "      <td>3.0</td>\n",
       "    </tr>\n",
       "    <tr>\n",
       "      <th>2017-01-01 16:00:00</th>\n",
       "      <td>429.0</td>\n",
       "      <td>520.0</td>\n",
       "      <td>124.0</td>\n",
       "      <td>6.7</td>\n",
       "      <td>4.0</td>\n",
       "      <td>9.0</td>\n",
       "      <td>374.0</td>\n",
       "      <td>396.0</td>\n",
       "      <td>81.0</td>\n",
       "      <td>7.2</td>\n",
       "      <td>...</td>\n",
       "      <td>164.0</td>\n",
       "      <td>7.6</td>\n",
       "      <td>8.0</td>\n",
       "      <td>14.0</td>\n",
       "      <td>306.0</td>\n",
       "      <td>393.0</td>\n",
       "      <td>116.0</td>\n",
       "      <td>6.1</td>\n",
       "      <td>6.0</td>\n",
       "      <td>2.0</td>\n",
       "    </tr>\n",
       "    <tr>\n",
       "      <th>2017-01-01 17:00:00</th>\n",
       "      <td>441.0</td>\n",
       "      <td>505.0</td>\n",
       "      <td>127.0</td>\n",
       "      <td>6.7</td>\n",
       "      <td>4.0</td>\n",
       "      <td>10.0</td>\n",
       "      <td>401.0</td>\n",
       "      <td>419.0</td>\n",
       "      <td>71.0</td>\n",
       "      <td>7.3</td>\n",
       "      <td>...</td>\n",
       "      <td>155.0</td>\n",
       "      <td>7.8</td>\n",
       "      <td>8.0</td>\n",
       "      <td>14.0</td>\n",
       "      <td>306.0</td>\n",
       "      <td>387.0</td>\n",
       "      <td>118.0</td>\n",
       "      <td>6.3</td>\n",
       "      <td>6.0</td>\n",
       "      <td>3.0</td>\n",
       "    </tr>\n",
       "    <tr>\n",
       "      <th>2017-01-01 18:00:00</th>\n",
       "      <td>438.0</td>\n",
       "      <td>485.0</td>\n",
       "      <td>127.0</td>\n",
       "      <td>6.7</td>\n",
       "      <td>4.0</td>\n",
       "      <td>9.0</td>\n",
       "      <td>408.0</td>\n",
       "      <td>419.0</td>\n",
       "      <td>58.0</td>\n",
       "      <td>6.9</td>\n",
       "      <td>...</td>\n",
       "      <td>147.0</td>\n",
       "      <td>7.8</td>\n",
       "      <td>8.0</td>\n",
       "      <td>14.0</td>\n",
       "      <td>315.0</td>\n",
       "      <td>408.0</td>\n",
       "      <td>111.0</td>\n",
       "      <td>6.4</td>\n",
       "      <td>7.0</td>\n",
       "      <td>3.0</td>\n",
       "    </tr>\n",
       "  </tbody>\n",
       "</table>\n",
       "<p>5 rows × 210 columns</p>\n",
       "</div>"
      ],
      "text/plain": [
       "                     fangshan_aq_PM2.5  fangshan_aq_PM10  fangshan_aq_NO2  \\\n",
       "format_time                                                                 \n",
       "2017-01-01 14:00:00              399.0             472.0            136.0   \n",
       "2017-01-01 15:00:00              397.0             485.0            126.0   \n",
       "2017-01-01 16:00:00              429.0             520.0            124.0   \n",
       "2017-01-01 17:00:00              441.0             505.0            127.0   \n",
       "2017-01-01 18:00:00              438.0             485.0            127.0   \n",
       "\n",
       "                     fangshan_aq_CO  fangshan_aq_O3  fangshan_aq_SO2  \\\n",
       "format_time                                                            \n",
       "2017-01-01 14:00:00             6.3             4.0             10.0   \n",
       "2017-01-01 15:00:00             6.4             4.0             10.0   \n",
       "2017-01-01 16:00:00             6.7             4.0              9.0   \n",
       "2017-01-01 17:00:00             6.7             4.0             10.0   \n",
       "2017-01-01 18:00:00             6.7             4.0              9.0   \n",
       "\n",
       "                     dongsihuan_aq_PM2.5  dongsihuan_aq_PM10  \\\n",
       "format_time                                                    \n",
       "2017-01-01 14:00:00                390.0               394.0   \n",
       "2017-01-01 15:00:00                390.0               394.0   \n",
       "2017-01-01 16:00:00                374.0               396.0   \n",
       "2017-01-01 17:00:00                401.0               419.0   \n",
       "2017-01-01 18:00:00                408.0               419.0   \n",
       "\n",
       "                     dongsihuan_aq_NO2  dongsihuan_aq_CO       ...         \\\n",
       "format_time                                                    ...          \n",
       "2017-01-01 14:00:00               99.0               6.8       ...          \n",
       "2017-01-01 15:00:00               92.0               6.6       ...          \n",
       "2017-01-01 16:00:00               81.0               7.2       ...          \n",
       "2017-01-01 17:00:00               71.0               7.3       ...          \n",
       "2017-01-01 18:00:00               58.0               6.9       ...          \n",
       "\n",
       "                     xizhimenbei_aq_NO2  xizhimenbei_aq_CO  xizhimenbei_aq_O3  \\\n",
       "format_time                                                                     \n",
       "2017-01-01 14:00:00               171.0                8.3                8.0   \n",
       "2017-01-01 15:00:00               161.0                0.8                8.0   \n",
       "2017-01-01 16:00:00               164.0                7.6                8.0   \n",
       "2017-01-01 17:00:00               155.0                7.8                8.0   \n",
       "2017-01-01 18:00:00               147.0                7.8                8.0   \n",
       "\n",
       "                     xizhimenbei_aq_SO2  yizhuang_aq_PM2.5  yizhuang_aq_PM10  \\\n",
       "format_time                                                                    \n",
       "2017-01-01 14:00:00                15.0              278.0             362.0   \n",
       "2017-01-01 15:00:00                15.0              298.0             382.0   \n",
       "2017-01-01 16:00:00                14.0              306.0             393.0   \n",
       "2017-01-01 17:00:00                14.0              306.0             387.0   \n",
       "2017-01-01 18:00:00                14.0              315.0             408.0   \n",
       "\n",
       "                     yizhuang_aq_NO2  yizhuang_aq_CO  yizhuang_aq_O3  \\\n",
       "format_time                                                            \n",
       "2017-01-01 14:00:00            117.0             5.7             6.0   \n",
       "2017-01-01 15:00:00            117.0             5.8             6.0   \n",
       "2017-01-01 16:00:00            116.0             6.1             6.0   \n",
       "2017-01-01 17:00:00            118.0             6.3             6.0   \n",
       "2017-01-01 18:00:00            111.0             6.4             7.0   \n",
       "\n",
       "                     yizhuang_aq_SO2  \n",
       "format_time                           \n",
       "2017-01-01 14:00:00              2.0  \n",
       "2017-01-01 15:00:00              3.0  \n",
       "2017-01-01 16:00:00              2.0  \n",
       "2017-01-01 17:00:00              3.0  \n",
       "2017-01-01 18:00:00              3.0  \n",
       "\n",
       "[5 rows x 210 columns]"
      ]
     },
     "execution_count": 3,
     "metadata": {},
     "output_type": "execute_result"
    }
   ],
   "source": [
    "bj_aq_stations_merged.head()"
   ]
  },
  {
   "cell_type": "code",
   "execution_count": 5,
   "metadata": {},
   "outputs": [],
   "source": [
    "# 将缺失值用0补全\n",
    "bj_aq_stations_merged.fillna(0, inplace=True)"
   ]
  },
  {
   "cell_type": "markdown",
   "metadata": {},
   "source": [
    "# 相同特征不同站点之间的相关性"
   ]
  },
  {
   "cell_type": "code",
   "execution_count": 213,
   "metadata": {},
   "outputs": [
    {
     "data": {
      "text/html": [
       "<div>\n",
       "<style>\n",
       "    .dataframe thead tr:only-child th {\n",
       "        text-align: right;\n",
       "    }\n",
       "\n",
       "    .dataframe thead th {\n",
       "        text-align: left;\n",
       "    }\n",
       "\n",
       "    .dataframe tbody tr th {\n",
       "        vertical-align: top;\n",
       "    }\n",
       "</style>\n",
       "<table border=\"1\" class=\"dataframe\">\n",
       "  <thead>\n",
       "    <tr style=\"text-align: right;\">\n",
       "      <th></th>\n",
       "      <th>stationName</th>\n",
       "      <th>longitude</th>\n",
       "      <th>latitude</th>\n",
       "    </tr>\n",
       "  </thead>\n",
       "  <tbody>\n",
       "    <tr>\n",
       "      <th>0</th>\n",
       "      <td>dongsi_aq</td>\n",
       "      <td>116.417</td>\n",
       "      <td>39.929</td>\n",
       "    </tr>\n",
       "    <tr>\n",
       "      <th>1</th>\n",
       "      <td>tiantan_aq</td>\n",
       "      <td>116.407</td>\n",
       "      <td>39.886</td>\n",
       "    </tr>\n",
       "    <tr>\n",
       "      <th>2</th>\n",
       "      <td>guanyuan_aq</td>\n",
       "      <td>116.339</td>\n",
       "      <td>39.929</td>\n",
       "    </tr>\n",
       "    <tr>\n",
       "      <th>3</th>\n",
       "      <td>wanshouxigong_aq</td>\n",
       "      <td>116.352</td>\n",
       "      <td>39.878</td>\n",
       "    </tr>\n",
       "    <tr>\n",
       "      <th>4</th>\n",
       "      <td>aotizhongxin_aq</td>\n",
       "      <td>116.397</td>\n",
       "      <td>39.982</td>\n",
       "    </tr>\n",
       "  </tbody>\n",
       "</table>\n",
       "</div>"
      ],
      "text/plain": [
       "        stationName  longitude  latitude\n",
       "0         dongsi_aq    116.417    39.929\n",
       "1        tiantan_aq    116.407    39.886\n",
       "2       guanyuan_aq    116.339    39.929\n",
       "3  wanshouxigong_aq    116.352    39.878\n",
       "4   aotizhongxin_aq    116.397    39.982"
      ]
     },
     "execution_count": 213,
     "metadata": {},
     "output_type": "execute_result"
    }
   ],
   "source": [
    "# 站点的具体位置\n",
    "station_locations = pd.read_excel(\"./KDD_CUP_2018/Beijing/location/Beijing_AirQuality_Stations_locations.xlsx\")\n",
    "station_locations.head()"
   ]
  },
  {
   "cell_type": "code",
   "execution_count": 241,
   "metadata": {},
   "outputs": [
    {
     "data": {
      "text/plain": [
       "115.97199999999999"
      ]
     },
     "execution_count": 241,
     "metadata": {},
     "output_type": "execute_result"
    }
   ],
   "source": [
    "station_locations[\"longitude\"].values.min()"
   ]
  },
  {
   "cell_type": "code",
   "execution_count": 210,
   "metadata": {},
   "outputs": [],
   "source": [
    "def caculate_distance(station_1, station_2, station_locations):\n",
    "    '''\n",
    "    station_1, station_2 : names of two stations\n",
    "    station_locations : a dataframe of \"stationName\", \"longitude\", \"latitude\"\n",
    "    '''\n",
    "    location_1 = station_locations[station_1+\"_aq\" == station_locations[\"stationName\"]]\n",
    "    location_2 = station_locations[station_2+\"_aq\" == station_locations[\"stationName\"]]\n",
    "    dis = np.sqrt((location_1[\"longitude\"].values[0] - location_2[\"longitude\"].values[0])**2 + \n",
    "                  (location_1[\"latitude\"].values[0] - location_2[\"latitude\"].values[0])**2)\n",
    "    return dis"
   ]
  },
  {
   "cell_type": "code",
   "execution_count": 258,
   "metadata": {
    "collapsed": true
   },
   "outputs": [],
   "source": [
    "def caculate_r_distance_relations(dataframe, feature):\n",
    "    '''\n",
    "    dataframe : dataframe with all data.\n",
    "    feature : feature that you want to compare.\n",
    "    '''\n",
    "    features = [name for name in dataframe.columns if feature in name]\n",
    "    df = dataframe[features]\n",
    "    \n",
    "    relations = pd.DataFrame(columns=[\"station_1\", \"station_2\", \"r\", \"distance\"])\n",
    "    for i in range(len(features)-1):\n",
    "        for j in range(i+1,len(features)):\n",
    "            station_1 = features[i].split(\"_\")[0]\n",
    "            station_2 = features[j].split(\"_\")[0]\n",
    "            ts_station_1 = df[features[i]]\n",
    "            ts_station_2 = df[features[j]]\n",
    "            r = pearsonr(ts_station_1, ts_station_2)[0]\n",
    "            distance = caculate_distance(station_1, station_2, station_locations)\n",
    "            s = pd.Series({\"station_1\":station_1, \"station_2\":station_2, \"r\":r, \"distance\":distance})\n",
    "            relations = relations.append(s,ignore_index=True)\n",
    "    \n",
    "    # 按照相关系数降序排序\n",
    "    relations = relations.sort_values(by=['r'], ascending=False)\n",
    "\n",
    "    plt.subplot(2,1,1)\n",
    "    plt.plot(range(len(relations)), relations['r']);\n",
    "    plt.subplot(2,1,2)\n",
    "    plt.plot(range(len(relations)), relations['distance']);\n",
    "\n",
    "    # “相关系数的降低” 与 “站点之间的距离” 存在一定的正相关关系\n",
    "    # “距离” 与 “相关性” 存在负相关关系\n",
    "    # print(\"The range of pearsonr between stations of feature %s are between %d and %d\" %(feature, relations[\"r\"].values.min(), relations[\"r\"].values.max()))\n",
    "    \n",
    "    r = pearsonr(relations[\"r\"].values, relations['distance'].values)[0]\n",
    "    # print(\"r = \", pearsonr(relations[\"r\"].values, relations['distance'].values)[0])\n",
    "    \n",
    "    return relations, r"
   ]
  },
  {
   "cell_type": "code",
   "execution_count": 259,
   "metadata": {},
   "outputs": [
    {
     "data": {
      "image/png": "[encoded data removed]",
      "text/plain": [
       "<matplotlib.figure.Figure at 0x7f69b0f189b0>"
      ]
     },
     "metadata": {},
     "output_type": "display_data"
    }
   ],
   "source": [
    "for feature in [\"PM2.5\", \"PM10\", \"O3\"]:\n",
    "    relations, r = caculate_r_distance_relations(bj_aq_stations_merged, feature)"
   ]
  },
  {
   "cell_type": "code",
   "execution_count": null,
   "metadata": {
    "collapsed": true
   },
   "outputs": [],
   "source": []
  },
  {
   "cell_type": "code",
   "execution_count": null,
   "metadata": {
    "collapsed": true
   },
   "outputs": [],
   "source": []
  },
  {
   "cell_type": "code",
   "execution_count": null,
   "metadata": {
    "collapsed": true
   },
   "outputs": [],
   "source": []
  },
  {
   "cell_type": "code",
   "execution_count": null,
   "metadata": {
    "collapsed": true
   },
   "outputs": [],
   "source": []
  },
  {
   "cell_type": "code",
   "execution_count": null,
   "metadata": {
    "collapsed": true
   },
   "outputs": [],
   "source": []
  },
  {
   "cell_type": "code",
   "execution_count": null,
   "metadata": {
    "collapsed": true
   },
   "outputs": [],
   "source": []
  },
  {
   "cell_type": "code",
   "execution_count": null,
   "metadata": {
    "collapsed": true
   },
   "outputs": [],
   "source": []
  },
  {
   "cell_type": "code",
   "execution_count": null,
   "metadata": {
    "collapsed": true
   },
   "outputs": [],
   "source": []
  },
  {
   "cell_type": "code",
   "execution_count": null,
   "metadata": {
    "collapsed": true
   },
   "outputs": [],
   "source": []
  },
  {
   "cell_type": "code",
   "execution_count": null,
   "metadata": {
    "collapsed": true
   },
   "outputs": [],
   "source": []
  },
  {
   "cell_type": "code",
   "execution_count": null,
   "metadata": {
    "collapsed": true
   },
   "outputs": [],
   "source": []
  },
  {
   "cell_type": "code",
   "execution_count": null,
   "metadata": {
    "collapsed": true
   },
   "outputs": [],
   "source": []
  },
  {
   "cell_type": "markdown",
   "metadata": {
    "collapsed": true
   },
   "source": [
    "# 数据的下载补齐"
   ]
  },
  {
   "cell_type": "markdown",
   "metadata": {},
   "source": [
    "- 空气质量数据\n",
    "    - 10298 data for 35 stations\n",
    "    - 2017:01:01 14:00 - 2018:03:31 15:00 "
   ]
  },
  {
   "cell_type": "code",
   "execution_count": 26,
   "metadata": {},
   "outputs": [
    {
     "name": "stdout",
     "output_type": "stream",
     "text": [
      "2017-01-01 14:00:00 2018-03-31 15:00:00\n"
     ]
    }
   ],
   "source": [
    "# 原有 aq 数据的范围\n",
    "print(min(bj_aq_data.index), max(bj_aq_data.index))"
   ]
  },
  {
   "cell_type": "code",
   "execution_count": 30,
   "metadata": {},
   "outputs": [
    {
     "data": {
      "text/html": [
       "<div>\n",
       "<style>\n",
       "    .dataframe thead tr:only-child th {\n",
       "        text-align: right;\n",
       "    }\n",
       "\n",
       "    .dataframe thead th {\n",
       "        text-align: left;\n",
       "    }\n",
       "\n",
       "    .dataframe tbody tr th {\n",
       "        vertical-align: top;\n",
       "    }\n",
       "</style>\n",
       "<table border=\"1\" class=\"dataframe\">\n",
       "  <thead>\n",
       "    <tr style=\"text-align: right;\">\n",
       "      <th></th>\n",
       "      <th>id</th>\n",
       "      <th>station_id</th>\n",
       "      <th>time</th>\n",
       "      <th>PM25_Concentration</th>\n",
       "      <th>PM10_Concentration</th>\n",
       "      <th>NO2_Concentration</th>\n",
       "      <th>CO_Concentration</th>\n",
       "      <th>O3_Concentration</th>\n",
       "      <th>SO2_Concentration</th>\n",
       "    </tr>\n",
       "  </thead>\n",
       "  <tbody>\n",
       "    <tr>\n",
       "      <th>0</th>\n",
       "      <td>2941450</td>\n",
       "      <td>dongsi_aq</td>\n",
       "      <td>2018-03-31 07:00:00</td>\n",
       "      <td>105.0</td>\n",
       "      <td>172.0</td>\n",
       "      <td>53.0</td>\n",
       "      <td>0.8</td>\n",
       "      <td>127.0</td>\n",
       "      <td>14.0</td>\n",
       "    </tr>\n",
       "    <tr>\n",
       "      <th>1</th>\n",
       "      <td>2941451</td>\n",
       "      <td>tiantan_aq</td>\n",
       "      <td>2018-03-31 07:00:00</td>\n",
       "      <td>95.0</td>\n",
       "      <td>123.0</td>\n",
       "      <td>54.0</td>\n",
       "      <td>0.9</td>\n",
       "      <td>121.0</td>\n",
       "      <td>15.0</td>\n",
       "    </tr>\n",
       "    <tr>\n",
       "      <th>2</th>\n",
       "      <td>2941452</td>\n",
       "      <td>guanyuan_aq</td>\n",
       "      <td>2018-03-31 07:00:00</td>\n",
       "      <td>95.0</td>\n",
       "      <td>139.0</td>\n",
       "      <td>66.0</td>\n",
       "      <td>0.8</td>\n",
       "      <td>123.0</td>\n",
       "      <td>13.0</td>\n",
       "    </tr>\n",
       "    <tr>\n",
       "      <th>3</th>\n",
       "      <td>2941453</td>\n",
       "      <td>wanshouxigong_aq</td>\n",
       "      <td>2018-03-31 07:00:00</td>\n",
       "      <td>99.0</td>\n",
       "      <td>172.0</td>\n",
       "      <td>58.0</td>\n",
       "      <td>1.0</td>\n",
       "      <td>119.0</td>\n",
       "      <td>14.0</td>\n",
       "    </tr>\n",
       "    <tr>\n",
       "      <th>4</th>\n",
       "      <td>2941454</td>\n",
       "      <td>aotizhongxin_aq</td>\n",
       "      <td>2018-03-31 07:00:00</td>\n",
       "      <td>117.0</td>\n",
       "      <td>166.0</td>\n",
       "      <td>67.0</td>\n",
       "      <td>0.8</td>\n",
       "      <td>111.0</td>\n",
       "      <td>14.0</td>\n",
       "    </tr>\n",
       "  </tbody>\n",
       "</table>\n",
       "</div>"
      ],
      "text/plain": [
       "        id        station_id                 time  PM25_Concentration  \\\n",
       "0  2941450         dongsi_aq  2018-03-31 07:00:00               105.0   \n",
       "1  2941451        tiantan_aq  2018-03-31 07:00:00                95.0   \n",
       "2  2941452       guanyuan_aq  2018-03-31 07:00:00                95.0   \n",
       "3  2941453  wanshouxigong_aq  2018-03-31 07:00:00                99.0   \n",
       "4  2941454   aotizhongxin_aq  2018-03-31 07:00:00               117.0   \n",
       "\n",
       "   PM10_Concentration  NO2_Concentration  CO_Concentration  O3_Concentration  \\\n",
       "0               172.0               53.0               0.8             127.0   \n",
       "1               123.0               54.0               0.9             121.0   \n",
       "2               139.0               66.0               0.8             123.0   \n",
       "3               172.0               58.0               1.0             119.0   \n",
       "4               166.0               67.0               0.8             111.0   \n",
       "\n",
       "   SO2_Concentration  \n",
       "0               14.0  \n",
       "1               15.0  \n",
       "2               13.0  \n",
       "3               14.0  \n",
       "4               14.0  "
      ]
     },
     "execution_count": 30,
     "metadata": {},
     "output_type": "execute_result"
    }
   ],
   "source": [
    "# 新下载的 aq 数据\n",
    "bj_aq_dataset_new = pd.read_csv(\"./KDD_CUP_2018/Beijing/aq/bj_airquality_2018-03-31-15-2018-04-15-23.csv\")\n",
    "bj_aq_dataset_new.head()"
   ]
  },
  {
   "cell_type": "code",
   "execution_count": 31,
   "metadata": {
    "collapsed": true
   },
   "outputs": [],
   "source": [
    "length = bj_aq_dataset_new.shape[0]\n",
    "formet_time = pd.Series([datetime.datetime.strptime(bj_aq_dataset_new[\"time\"][i],'%Y-%m-%d %H:%M:%S') for i in range(length)])\n",
    "bj_aq_dataset_new[\"format_time\"] = formet_time\n",
    "bj_aq_dataset_new.set_index(\"format_time\", inplace=True)"
   ]
  },
  {
   "cell_type": "code",
   "execution_count": 33,
   "metadata": {},
   "outputs": [
    {
     "name": "stdout",
     "output_type": "stream",
     "text": [
      "2018-03-31 07:00:00 2018-04-15 23:00:00\n"
     ]
    }
   ],
   "source": [
    "# 新下载的 aq 数据的范围\n",
    "print(min(bj_aq_dataset_new.index), max(bj_aq_dataset_new.index))"
   ]
  },
  {
   "cell_type": "markdown",
   "metadata": {},
   "source": [
    "# ChangeLog\n",
    "- 0419 对新下载的数据进行了数据探索\n",
    "- TODO\n",
    "    - 新下载的数据和之前的数据在时间轴上有重叠的部分，同时原始的数据有很大部分的缺失，可以使用新下载的数据对原始数据进行补齐\n",
    "    - 分析之前的数据中，不同站点的时间轴缺失情况是怎么样的，如果有大段的缺失，建议丢弃该片段\n",
    "        - 对于短期的 + 个别的缺失，使用插值的方式进行补全\n",
    "        - 对于长期的 + 全特征的缺失，将对应的数据删除"
   ]
  },
  {
   "cell_type": "code",
   "execution_count": null,
   "metadata": {
    "collapsed": true
   },
   "outputs": [],
   "source": []
  }
 ],
 "metadata": {
  "kernelspec": {
   "display_name": "Python 3",
   "language": "python",
   "name": "python3"
  },
  "language_info": {
   "codemirror_mode": {
    "name": "ipython",
    "version": 3
   },
   "file_extension": ".py",
   "mimetype": "text/x-python",
   "name": "python",
   "nbconvert_exporter": "python",
   "pygments_lexer": "ipython3",
   "version": "3.5.2"
  }
 },
 "nbformat": 4,
 "nbformat_minor": 2
}
