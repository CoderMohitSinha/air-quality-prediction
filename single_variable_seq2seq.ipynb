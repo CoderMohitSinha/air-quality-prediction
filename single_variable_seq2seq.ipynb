{
 "cells": [
  {
   "cell_type": "code",
   "execution_count": 1,
   "metadata": {},
   "outputs": [],
   "source": [
    "%load_ext autoreload\n",
    "%autoreload 2"
   ]
  },
  {
   "cell_type": "code",
   "execution_count": 2,
   "metadata": {},
   "outputs": [
    {
     "name": "stderr",
     "output_type": "stream",
     "text": [
      "/home/cvdev/tf/lib/python3.5/site-packages/h5py/__init__.py:36: FutureWarning: Conversion of the second argument of issubdtype from `float` to `np.floating` is deprecated. In future, it will be treated as `np.float64 == np.dtype(float).type`.\n",
      "  from ._conv import register_converters as _register_converters\n",
      "Using TensorFlow backend.\n"
     ]
    }
   ],
   "source": [
    "import os\n",
    "# GPU setting\n",
    "# 由于 batch_size = 1 因此只能使用一块 GPU 进行训练，因此这里指定仅使用 第一块 GPU\n",
    "os.environ['CUDA_VISIBLE_DEVICES'] = '1'\n",
    "\n",
    "# 默认情况下 GPU 显存是完全使用的，在这里将 GPU 的显存使用情况设置为动态申请\n",
    "import tensorflow as tf\n",
    "import keras.backend.tensorflow_backend as KTF\n",
    "\n",
    "gpu_config = tf.ConfigProto()\n",
    "gpu_config.gpu_options.allow_growth = True\n",
    "session = tf.Session(config=gpu_config)\n",
    "KTF.set_session(session)"
   ]
  },
  {
   "cell_type": "markdown",
   "metadata": {},
   "source": [
    "<a id='session1'></a>\n",
    "## Generate data"
   ]
  },
  {
   "cell_type": "code",
   "execution_count": 3,
   "metadata": {},
   "outputs": [],
   "source": [
    "import numpy as np \n",
    "import random\n",
    "import math\n",
    "from matplotlib import pyplot as plt\n",
    "%matplotlib inline\n",
    "import os\n",
    "import copy\n",
    "from data_util import parse_bj_aq_data, generate_train_dev_set\n",
    "from data_util import generate_training_data_for_seq2seq, generate_dev_data_for_seq2seq\n",
    "from metrics import symmetric_mean_absolute_percentage_error"
   ]
  },
  {
   "cell_type": "code",
   "execution_count": 4,
   "metadata": {},
   "outputs": [
    {
     "name": "stdout",
     "output_type": "stream",
     "text": [
      "NaN in PM2.5 is 23459, 6.508615 %\n",
      "NaN in PM10 is 96175, 26.683406 %\n",
      "NaN in NO2 is 21720, 6.026135 %\n",
      "NaN in CO is 46144, 12.802486 %\n",
      "NaN in O3 is 23732, 6.584358 %\n",
      "NaN in SO2 is 21664, 6.010598 %\n",
      "There are 35 air quality stations in Beijing\n",
      "\n",
      "The stations in Beijing are:\n",
      " {'yanqin_aq', 'daxing_aq', 'nongzhanguan_aq', 'tongzhou_aq', 'pingchang_aq', 'qianmen_aq', 'miyunshuiku_aq', 'fangshan_aq', 'xizhimenbei_aq', 'nansanhuan_aq', 'pinggu_aq', 'fengtaihuayuan_aq', 'gucheng_aq', 'yongdingmennei_aq', 'beibuxinqu_aq', 'wanliu_aq', 'wanshouxigong_aq', 'donggaocun_aq', 'dongsi_aq', 'mentougou_aq', 'shunyi_aq', 'dongsihuan_aq', 'huairou_aq', 'guanyuan_aq', 'dingling_aq', 'tiantan_aq', 'yungang_aq', 'zhiwuyuan_aq', 'liulihe_aq', 'yongledian_aq', 'yizhuang_aq', 'yufa_aq', 'miyun_aq', 'badaling_aq', 'aotizhongxin_aq'}\n"
     ]
    },
    {
     "name": "stderr",
     "output_type": "stream",
     "text": [
      "/home/cvdev/air-quality-prediction/data_util.py:46: SettingWithCopyWarning: \n",
      "A value is trying to be set on a copy of a slice from a DataFrame\n",
      "\n",
      "See the caveats in the documentation: http://pandas.pydata.org/pandas-docs/stable/indexing.html#indexing-view-versus-copy\n",
      "  bj_aq_station.drop(\"utc_time\", axis=1, inplace=True)\n",
      "/home/cvdev/air-quality-prediction/data_util.py:47: SettingWithCopyWarning: \n",
      "A value is trying to be set on a copy of a slice from a DataFrame\n",
      "\n",
      "See the caveats in the documentation: http://pandas.pydata.org/pandas-docs/stable/indexing.html#indexing-view-versus-copy\n",
      "  bj_aq_station.drop(\"stationId\", axis=1, inplace=True)\n"
     ]
    }
   ],
   "source": [
    "# data\n",
    "bj_aq_data, stations, bj_aq_stations, bj_aq_stations_merged = parse_bj_aq_data()"
   ]
  },
  {
   "cell_type": "markdown",
   "metadata": {},
   "source": [
    "- generate data functions\n",
    "    - function `generate_training_data_for_seq2seq()` and `generate_dev_data_for_seq2seq()` are different\n",
    "    - `generate_training_data_for_seq2seq()` randomly generate batch_size training data at a time\n",
    "    - `generate_dev_data_for_seq2seq()` generate all dev_set at the same time"
   ]
  },
  {
   "cell_type": "code",
   "execution_count": 5,
   "metadata": {},
   "outputs": [
    {
     "name": "stdout",
     "output_type": "stream",
     "text": [
      "shape of training data sample is  (10, 300) (10, 48)\n",
      "There are 1711 dev_set data.\n",
      "shape of dev data sample is  (300,) (48,)\n"
     ]
    }
   ],
   "source": [
    "# dev_set_proportion\n",
    "dev_set_proportion = 0.2\n",
    "# length of input signals\n",
    "input_seq_len = 300\n",
    "# length of output signals\n",
    "output_seq_len = 48 \n",
    "\n",
    "# split training/dev dataset\n",
    "ts = bj_aq_stations_merged['pinggu_aq_PM2.5']\n",
    "training_set, dev_set = generate_train_dev_set(ts, dev_set_proportion)\n",
    "# generate training data sample\n",
    "training_input_seqs, training_output_seqs = generate_training_data_for_seq2seq(training_set, input_seq_len=input_seq_len, output_seq_len=output_seq_len)\n",
    "print(\"shape of training data sample is \", training_input_seqs.shape, training_output_seqs.shape)\n",
    "# generate dev set\n",
    "dev_set_list = generate_dev_data_for_seq2seq(dev_set, input_seq_len=input_seq_len, output_seq_len=output_seq_len)\n",
    "print(\"There are %d dev_set data.\" %(len(dev_set_list)))\n",
    "print(\"shape of dev data sample is \", dev_set_list[0][0].shape, dev_set_list[0][1].shape)"
   ]
  },
  {
   "cell_type": "code",
   "execution_count": 6,
   "metadata": {},
   "outputs": [
    {
     "data": {
      "image/png": "[encoded data removed]",
      "text/plain": [
       "<Figure size 432x288 with 1 Axes>"
      ]
     },
     "metadata": {},
     "output_type": "display_data"
    }
   ],
   "source": [
    "# draw an example of the generated data\n",
    "input_dim = training_input_seqs.shape[1]\n",
    "output_dim = training_output_seqs.shape[1]\n",
    "x = np.linspace(1, input_dim + output_dim, input_dim + output_dim)\n",
    "l1, = plt.plot(x[:input_dim], training_input_seqs[0], 'y', label = 'input sequence for one sample')\n",
    "l2, = plt.plot(x[input_dim:], training_output_seqs[0], 'c--', label = 'output sequence for one sample')\n",
    "plt.legend(handles = [l1, l2], loc = 'upper left')\n",
    "plt.show()"
   ]
  },
  {
   "cell_type": "markdown",
   "metadata": {},
   "source": [
    "## basic_rnn_seq2seq"
   ]
  },
  {
   "cell_type": "code",
   "execution_count": 7,
   "metadata": {},
   "outputs": [
    {
     "name": "stdout",
     "output_type": "stream",
     "text": [
      "number of training data is 7891\n"
     ]
    }
   ],
   "source": [
    "from seq2seq_model import * \n",
    "\n",
    "## Parameters\n",
    "learning_rate = 0.01\n",
    "lambda_l2_reg = 0.003  \n",
    "\n",
    "## Network Parameters\n",
    "# size of LSTM Cell\n",
    "hidden_dim = 64 \n",
    "# num of input signals\n",
    "input_dim = 1\n",
    "# num of output signals\n",
    "output_dim = 1\n",
    "# num of stacked lstm layers \n",
    "num_stacked_layers = 2 \n",
    "# gradient clipping - to avoid gradient exploding\n",
    "GRADIENT_CLIPPING = 2.5\n",
    "# tatal number of training data.\n",
    "print(\"number of training data is %d\" %(len(training_set)-input_seq_len-output_seq_len))"
   ]
  },
  {
   "cell_type": "markdown",
   "metadata": {},
   "source": [
    "## Training process"
   ]
  },
  {
   "cell_type": "code",
   "execution_count": 8,
   "metadata": {
    "scrolled": true
   },
   "outputs": [
    {
     "name": "stdout",
     "output_type": "stream",
     "text": [
      "iteraction : 0/1000, loss is 330550\n",
      "iteraction : 100/1000, loss is 67407\n",
      "iteraction : 200/1000, loss is 50458\n",
      "iteraction : 300/1000, loss is 40722\n",
      "iteraction : 400/1000, loss is 35133\n",
      "iteraction : 500/1000, loss is 43381\n",
      "iteraction : 600/1000, loss is 14654\n",
      "iteraction : 700/1000, loss is 14282\n",
      "iteraction : 800/1000, loss is 14496\n",
      "iteraction : 900/1000, loss is 16875\n",
      "Checkpoint saved at:  ./univariate_ts_model0\n"
     ]
    }
   ],
   "source": [
    "total_iteractions = 1000\n",
    "batch_size = 256\n",
    "KEEP_RATE = 0.5\n",
    "train_losses = []\n",
    "val_losses = []\n",
    "\n",
    "# x = np.linspace(0, 30, 105)\n",
    "# train_data_x = x[:85]\n",
    "\n",
    "rnn_model = build_graph(feed_previous=False)\n",
    "\n",
    "saver = tf.train.Saver()\n",
    "\n",
    "init = tf.global_variables_initializer()\n",
    "with tf.Session() as sess:\n",
    "\n",
    "    sess.run(init)\n",
    "    \n",
    "    for i in range(total_iteractions):\n",
    "        batch_input, batch_output = generate_training_data_for_seq2seq(ts, batch_size=batch_size, \n",
    "                                                                       input_seq_len=input_seq_len, output_seq_len=output_seq_len)\n",
    "        feed_dict = {rnn_model['enc_inp'][t]: batch_input[:,t].reshape(-1,input_dim) for t in range(input_seq_len)}\n",
    "        feed_dict.update({rnn_model['target_seq'][t]: batch_output[:,t].reshape(-1,output_dim) for t in range(output_seq_len)})\n",
    "        _, loss_t = sess.run([rnn_model['train_op'], rnn_model['loss']], feed_dict)\n",
    "        train_losses.append(loss_t)\n",
    "        if i % 100 == 0:\n",
    "            print(\"iteraction : %d/%d, loss is %d\" %(i, total_iteractions, loss_t))\n",
    "        \n",
    "    temp_saver = rnn_model['saver']()\n",
    "    save_path = temp_saver.save(sess, os.path.join('./', 'univariate_ts_model0'))\n",
    "        \n",
    "print(\"Checkpoint saved at: \", save_path)"
   ]
  },
  {
   "cell_type": "code",
   "execution_count": 9,
   "metadata": {},
   "outputs": [
    {
     "data": {
      "text/plain": [
       "[<matplotlib.lines.Line2D at 0x7f28f41cd898>]"
      ]
     },
     "execution_count": 9,
     "metadata": {},
     "output_type": "execute_result"
    },
    {
     "data": {
      "image/png": "[encoded data removed]",
      "text/plain": [
       "<Figure size 432x288 with 1 Axes>"
      ]
     },
     "metadata": {},
     "output_type": "display_data"
    }
   ],
   "source": [
    "plt.plot(train_losses)"
   ]
  },
  {
   "cell_type": "markdown",
   "metadata": {},
   "source": [
    "## Inference"
   ]
  },
  {
   "cell_type": "code",
   "execution_count": 10,
   "metadata": {},
   "outputs": [
    {
     "name": "stdout",
     "output_type": "stream",
     "text": [
      "(300,) (48,)\n"
     ]
    }
   ],
   "source": [
    "# ts should come from dev set\n",
    "test_input_seq, test_output_seq = generate_training_data_for_seq2seq(ts, batch_size=1, input_seq_len=input_seq_len, output_seq_len=output_seq_len)\n",
    "test_input_seq = np.squeeze(test_input_seq)\n",
    "test_output_seq = np.squeeze(test_output_seq)\n",
    "print(test_input_seq.shape, test_output_seq.shape)"
   ]
  },
  {
   "cell_type": "code",
   "execution_count": 11,
   "metadata": {},
   "outputs": [
    {
     "name": "stdout",
     "output_type": "stream",
     "text": [
      "INFO:tensorflow:Restoring parameters from ./univariate_ts_model0\n"
     ]
    }
   ],
   "source": [
    "rnn_model = build_graph(feed_previous=True)\n",
    "\n",
    "init = tf.global_variables_initializer()\n",
    "with tf.Session() as sess:\n",
    "\n",
    "    sess.run(init)\n",
    "    \n",
    "    saver = rnn_model['saver']().restore(sess, os.path.join('./', 'univariate_ts_model0'))\n",
    "    \n",
    "    feed_dict = {rnn_model['enc_inp'][t]: test_input_seq[t].reshape(1,1) for t in range(input_seq_len)}\n",
    "    feed_dict.update({rnn_model['target_seq'][t]: np.zeros([1, output_dim]) for t in range(output_seq_len)})\n",
    "    final_preds = sess.run(rnn_model['reshaped_outputs'], feed_dict)\n",
    "    \n",
    "    final_preds = np.concatenate(final_preds, axis = 1)"
   ]
  },
  {
   "cell_type": "markdown",
   "metadata": {},
   "source": [
    "## Plot  predictions"
   ]
  },
  {
   "cell_type": "code",
   "execution_count": 12,
   "metadata": {},
   "outputs": [
    {
     "name": "stdout",
     "output_type": "stream",
     "text": [
      "(48,)\n"
     ]
    }
   ],
   "source": [
    "final_preds = np.squeeze(final_preds)\n",
    "print(final_preds.shape)"
   ]
  },
  {
   "cell_type": "code",
   "execution_count": 13,
   "metadata": {},
   "outputs": [
    {
     "name": "stdout",
     "output_type": "stream",
     "text": [
      "300 348\n"
     ]
    }
   ],
   "source": [
    "x1 = len(test_input_seq)\n",
    "x2 = len(test_input_seq)+len(test_output_seq)\n",
    "print(x1, x2)"
   ]
  },
  {
   "cell_type": "code",
   "execution_count": 14,
   "metadata": {
    "scrolled": true
   },
   "outputs": [
    {
     "data": {
      "image/png": "[encoded data removed]",
      "text/plain": [
       "<Figure size 432x288 with 1 Axes>"
      ]
     },
     "metadata": {},
     "output_type": "display_data"
    }
   ],
   "source": [
    "l1, = plt.plot(range(x1), test_input_seq, label = 'Training truth')\n",
    "l2, = plt.plot(range(x1, x2), test_output_seq, 'yo', label = 'Test truth')\n",
    "l3, = plt.plot(range(x1, x2), final_preds, 'ro', label = 'Test predictions')\n",
    "plt.legend(handles = [l1, l2, l3], loc = 'lower left')\n",
    "plt.show()"
   ]
  },
  {
   "cell_type": "code",
   "execution_count": null,
   "metadata": {},
   "outputs": [],
   "source": []
  },
  {
   "cell_type": "markdown",
   "metadata": {},
   "source": [
    "## Eveluate"
   ]
  },
  {
   "cell_type": "code",
   "execution_count": 15,
   "metadata": {},
   "outputs": [
    {
     "data": {
      "text/plain": [
       "1711"
      ]
     },
     "execution_count": 15,
     "metadata": {},
     "output_type": "execute_result"
    }
   ],
   "source": [
    "len(dev_set_list)"
   ]
  },
  {
   "cell_type": "code",
   "execution_count": 16,
   "metadata": {},
   "outputs": [
    {
     "name": "stdout",
     "output_type": "stream",
     "text": [
      "INFO:tensorflow:Restoring parameters from ./univariate_ts_model0\n",
      "SMAPE value on the dev set is :  0.7060458603680088\n"
     ]
    }
   ],
   "source": [
    "rnn_model = build_graph(feed_previous=True)\n",
    "init = tf.global_variables_initializer()\n",
    "with tf.Session() as sess:\n",
    "    sess.run(init)    \n",
    "    saver = rnn_model['saver']().restore(sess, os.path.join('./', 'univariate_ts_model0'))\n",
    "    \n",
    "    length = len(dev_set_list)\n",
    "    smape = 0\n",
    "    for i in range(len(dev_set_list)):\n",
    "        dev_input_seq, dev_output_seq = dev_set_list[i]\n",
    "        feed_dict = {rnn_model['enc_inp'][t]: dev_input_seq[t].reshape(1,1) for t in range(input_seq_len)}\n",
    "        feed_dict.update({rnn_model['target_seq'][t]: np.zeros([1, output_dim]) for t in range(output_seq_len)})\n",
    "        final_preds = sess.run(rnn_model['reshaped_outputs'], feed_dict)\n",
    "        final_preds = np.concatenate(final_preds, axis = 1)\n",
    "        r = symmetric_mean_absolute_percentage_error(dev_output_seq, final_preds) # SMAPE on a single time series\n",
    "        smape += r\n",
    "    \n",
    "    smape = smape / length\n",
    "    print(\"SMAPE value on the dev set is : \", smape)"
   ]
  },
  {
   "cell_type": "code",
   "execution_count": null,
   "metadata": {},
   "outputs": [],
   "source": []
  },
  {
   "cell_type": "code",
   "execution_count": null,
   "metadata": {},
   "outputs": [],
   "source": []
  },
  {
   "cell_type": "code",
   "execution_count": null,
   "metadata": {},
   "outputs": [],
   "source": []
  }
 ],
 "metadata": {
  "kernelspec": {
   "display_name": "Python 3",
   "language": "python",
   "name": "python3"
  },
  "language_info": {
   "codemirror_mode": {
    "name": "ipython",
    "version": 3
   },
   "file_extension": ".py",
   "mimetype": "text/x-python",
   "name": "python",
   "nbconvert_exporter": "python",
   "pygments_lexer": "ipython3",
   "version": "3.5.2"
  }
 },
 "nbformat": 4,
 "nbformat_minor": 2
}
