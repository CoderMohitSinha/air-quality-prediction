{
 "cells": [
  {
   "cell_type": "markdown",
   "metadata": {},
   "source": [
    "使用之前5天的数据，对之后48小时的空气质量进行预测，模型如下"
   ]
  },
  {
   "cell_type": "markdown",
   "metadata": {},
   "source": [
    "![](http://p3rz3gu1u.bkt.clouddn.com/2018-04-19-seq2seq_model.png)\n",
    "<caption><center> **Figure 1**: lstm model</center></caption>"
   ]
  },
  {
   "cell_type": "code",
   "execution_count": 1,
   "metadata": {},
   "outputs": [
    {
     "name": "stderr",
     "output_type": "stream",
     "text": [
      "Using TensorFlow backend.\n"
     ]
    }
   ],
   "source": [
    "import os\n",
    "import pandas as pd\n",
    "import matplotlib.pyplot as plt\n",
    "%matplotlib inline\n",
    "import numpy as np \n",
    "import seaborn as sns\n",
    "import tensorflow as tf\n",
    "import keras.backend.tensorflow_backend as KTF\n",
    "\n",
    "from utils.plot_util import plot_forecast_and_actual_example\n",
    "from metrics.metrics import SMAPE_on_dataset_v1\n",
    "from seq2seq.seq2seq_data_util import get_training_statistics, generate_training_set, generate_dev_set\n",
    "from seq2seq.multi_variable_seq2seq_model_parameters import build_graph\n",
    "\n",
    "%load_ext autoreload\n",
    "%autoreload 2"
   ]
  },
  {
   "cell_type": "code",
   "execution_count": 2,
   "metadata": {
    "collapsed": true
   },
   "outputs": [],
   "source": [
    "os.environ['CUDA_VISIBLE_DEVICES'] = '1'\n",
    "\n",
    "gpu_config = tf.ConfigProto()\n",
    "gpu_config.gpu_options.allow_growth = True\n",
    "session = tf.Session(config=gpu_config)\n",
    "KTF.set_session(session)"
   ]
  },
  {
   "cell_type": "markdown",
   "metadata": {},
   "source": [
    "### 2. Args"
   ]
  },
  {
   "cell_type": "markdown",
   "metadata": {},
   "source": [
    "多变量版本"
   ]
  },
  {
   "cell_type": "code",
   "execution_count": 4,
   "metadata": {
    "collapsed": true
   },
   "outputs": [],
   "source": [
    "station_list = ['dongsi_aq','tiantan_aq','guanyuan_aq','wanshouxigong_aq','aotizhongxin_aq',\n",
    "            'nongzhanguan_aq','wanliu_aq','beibuxinqu_aq','zhiwuyuan_aq','fengtaihuayuan_aq',\n",
    "            'yungang_aq','gucheng_aq','fangshan_aq','daxing_aq','yizhuang_aq','tongzhou_aq',\n",
    "            'shunyi_aq','pingchang_aq','mentougou_aq','pinggu_aq','huairou_aq','miyun_aq',\n",
    "            'yanqin_aq','dingling_aq','badaling_aq','miyunshuiku_aq','donggaocun_aq',\n",
    "            'yongledian_aq','yufa_aq','liulihe_aq','qianmen_aq','yongdingmennei_aq',\n",
    "            'xizhimenbei_aq','nansanhuan_aq','dongsihuan_aq']            \n",
    "X_aq_list = [\"PM2.5\",\"PM10\",\"O3\",\"CO\",\"SO2\",\"NO2\"]  \n",
    "y_aq_list = [\"PM2.5\",\"PM10\",\"O3\"]\n",
    "X_meo_list = [\"temperature\",\"pressure\",\"humidity\",\"direction\",\"speed/kph\"]\n",
    "use_day=True\n",
    "pre_days=5\n",
    "batch_size=128"
   ]
  },
  {
   "cell_type": "markdown",
   "metadata": {},
   "source": [
    "少变量版本（测试）"
   ]
  },
  {
   "cell_type": "code",
   "execution_count": 5,
   "metadata": {
    "collapsed": true
   },
   "outputs": [],
   "source": [
    "# station_list = ['aotizhongxin_aq']            \n",
    "# X_aq_list = [\"PM2.5\",\"PM10\",\"O3\",\"CO\",\"SO2\",\"NO2\"]  \n",
    "# y_aq_list = [\"PM2.5\"]\n",
    "# X_meo_list = [\"temperature\",\"pressure\",\"humidity\",\"direction\",\"speed/kph\"]\n",
    "# use_day = True\n",
    "# pre_days = 5\n",
    "# batch_size = 128"
   ]
  },
  {
   "cell_type": "markdown",
   "metadata": {},
   "source": [
    "### 3. Prepare test datasets in 3-D format - (batch_size, time_step, feature_dim)"
   ]
  },
  {
   "cell_type": "code",
   "execution_count": 6,
   "metadata": {
    "collapsed": true
   },
   "outputs": [],
   "source": [
    "test_x, test_y = generate_dev_set(station_list=station_list,\n",
    "                                  X_aq_list=X_aq_list, \n",
    "                                  y_aq_list=y_aq_list, \n",
    "                                  X_meo_list=None,\n",
    "                                  pre_days=pre_days)"
   ]
  },
  {
   "cell_type": "code",
   "execution_count": 7,
   "metadata": {},
   "outputs": [
    {
     "name": "stdout",
     "output_type": "stream",
     "text": [
      "(17, 120, 210) (17, 48, 105)\n"
     ]
    }
   ],
   "source": [
    "print(test_x.shape, test_y.shape)"
   ]
  },
  {
   "cell_type": "markdown",
   "metadata": {},
   "source": [
    "尝试生成一个训练样本，确保是我们想要的尺寸。"
   ]
  },
  {
   "cell_type": "code",
   "execution_count": 8,
   "metadata": {},
   "outputs": [
    {
     "name": "stdout",
     "output_type": "stream",
     "text": [
      "(128, 120, 210) (128, 48, 105)\n"
     ]
    }
   ],
   "source": [
    "X_training_batch, y_training_batch = generate_training_set(station_list=station_list,\n",
    "                                                           X_aq_list=X_aq_list,\n",
    "                                                           y_aq_list=y_aq_list,\n",
    "                                                           pre_days=pre_days,\n",
    "                                                           X_meo_list=None,\n",
    "                                                           use_day=True,\n",
    "                                                           batch_size=batch_size)\n",
    "print(X_training_batch.shape, y_training_batch.shape)"
   ]
  },
  {
   "cell_type": "markdown",
   "metadata": {},
   "source": [
    "### 4. Build the model and train the model "
   ]
  },
  {
   "cell_type": "code",
   "execution_count": 17,
   "metadata": {
    "collapsed": true
   },
   "outputs": [],
   "source": [
    "input_seq_len = pre_days * 24\n",
    "output_seq_len = 48\n",
    "hidden_dim = 512\n",
    "input_dim = 210\n",
    "output_dim = 105\n",
    "num_stacked_layers = 3\n",
    "\n",
    "learning_rate=1e-3\n",
    "lambda_l2_reg=0.003\n",
    "GRADIENT_CLIPPING=2.5\n",
    "total_iteractions = 1000\n",
    "KEEP_RATE = 0.5"
   ]
  },
  {
   "cell_type": "code",
   "execution_count": 18,
   "metadata": {
    "collapsed": true
   },
   "outputs": [],
   "source": [
    "rnn_model = build_graph(feed_previous=False, \n",
    "                        input_seq_len=input_seq_len, \n",
    "                        output_seq_len=output_seq_len, \n",
    "                        hidden_dim=hidden_dim, \n",
    "                        input_dim=input_dim, \n",
    "                        output_dim=output_dim, \n",
    "                        num_stacked_layers=num_stacked_layers, \n",
    "                        learning_rate=learning_rate,\n",
    "                        lambda_l2_reg=lambda_l2_reg,\n",
    "                        GRADIENT_CLIPPING=GRADIENT_CLIPPING)"
   ]
  },
  {
   "cell_type": "code",
   "execution_count": 19,
   "metadata": {
    "scrolled": true
   },
   "outputs": [
    {
     "name": "stdout",
     "output_type": "stream",
     "text": [
      "Training losses: \n",
      "loss after 0/1000 iteractions : 154.331\n",
      "loss after 10/1000 iteractions : 78.756\n",
      "loss after 20/1000 iteractions : 72.685\n",
      "loss after 30/1000 iteractions : 69.706\n",
      "loss after 40/1000 iteractions : 67.978\n",
      "loss after 50/1000 iteractions : 64.692\n",
      "loss after 60/1000 iteractions : 62.056\n",
      "loss after 70/1000 iteractions : 61.443\n",
      "loss after 80/1000 iteractions : 59.323\n",
      "loss after 90/1000 iteractions : 58.165\n",
      "loss after 100/1000 iteractions : 57.159\n",
      "loss after 110/1000 iteractions : 55.477\n",
      "loss after 120/1000 iteractions : 53.894\n",
      "loss after 130/1000 iteractions : 53.048\n",
      "loss after 140/1000 iteractions : 51.305\n",
      "loss after 150/1000 iteractions : 49.798\n",
      "loss after 160/1000 iteractions : 48.752\n",
      "loss after 170/1000 iteractions : 47.069\n",
      "loss after 180/1000 iteractions : 45.455\n",
      "loss after 190/1000 iteractions : 44.557\n",
      "loss after 200/1000 iteractions : 43.695\n",
      "loss after 210/1000 iteractions : 42.269\n",
      "loss after 220/1000 iteractions : 41.123\n",
      "loss after 230/1000 iteractions : 40.366\n",
      "loss after 240/1000 iteractions : 39.659\n",
      "loss after 250/1000 iteractions : 38.484\n",
      "loss after 260/1000 iteractions : 37.323\n",
      "loss after 270/1000 iteractions : 36.240\n",
      "loss after 280/1000 iteractions : 35.253\n",
      "loss after 290/1000 iteractions : 34.126\n",
      "loss after 300/1000 iteractions : 33.255\n",
      "loss after 310/1000 iteractions : 32.133\n",
      "loss after 320/1000 iteractions : 31.214\n",
      "loss after 330/1000 iteractions : 30.453\n",
      "loss after 340/1000 iteractions : 29.401\n",
      "loss after 350/1000 iteractions : 28.476\n",
      "loss after 360/1000 iteractions : 27.779\n",
      "loss after 370/1000 iteractions : 26.961\n",
      "loss after 380/1000 iteractions : 26.215\n",
      "loss after 390/1000 iteractions : 25.634\n",
      "loss after 400/1000 iteractions : 24.590\n",
      "loss after 410/1000 iteractions : 23.773\n",
      "loss after 420/1000 iteractions : 23.542\n",
      "loss after 430/1000 iteractions : 22.324\n",
      "loss after 440/1000 iteractions : 21.799\n",
      "loss after 450/1000 iteractions : 21.470\n",
      "loss after 460/1000 iteractions : 20.350\n",
      "loss after 470/1000 iteractions : 19.804\n",
      "loss after 480/1000 iteractions : 19.134\n",
      "loss after 490/1000 iteractions : 18.546\n",
      "loss after 500/1000 iteractions : 18.078\n",
      "loss after 510/1000 iteractions : 17.390\n",
      "loss after 520/1000 iteractions : 16.909\n",
      "loss after 530/1000 iteractions : 16.320\n",
      "loss after 540/1000 iteractions : 15.845\n",
      "loss after 550/1000 iteractions : 15.294\n",
      "loss after 560/1000 iteractions : 14.775\n",
      "loss after 570/1000 iteractions : 14.196\n",
      "loss after 580/1000 iteractions : 13.844\n",
      "loss after 590/1000 iteractions : 13.301\n",
      "loss after 600/1000 iteractions : 12.881\n",
      "loss after 610/1000 iteractions : 12.486\n",
      "loss after 620/1000 iteractions : 12.043\n",
      "loss after 630/1000 iteractions : 11.666\n",
      "loss after 640/1000 iteractions : 11.258\n",
      "loss after 650/1000 iteractions : 10.939\n",
      "loss after 660/1000 iteractions : 10.566\n",
      "loss after 670/1000 iteractions : 10.329\n",
      "loss after 680/1000 iteractions : 9.938\n",
      "loss after 690/1000 iteractions : 9.636\n",
      "loss after 700/1000 iteractions : 9.309\n",
      "loss after 710/1000 iteractions : 9.033\n",
      "loss after 720/1000 iteractions : 8.860\n",
      "loss after 730/1000 iteractions : 8.608\n",
      "loss after 740/1000 iteractions : 8.232\n",
      "loss after 750/1000 iteractions : 7.955\n",
      "loss after 760/1000 iteractions : 7.743\n",
      "loss after 770/1000 iteractions : 7.473\n",
      "loss after 780/1000 iteractions : 7.228\n",
      "loss after 790/1000 iteractions : 7.061\n",
      "loss after 800/1000 iteractions : 6.875\n",
      "loss after 810/1000 iteractions : 6.644\n",
      "loss after 820/1000 iteractions : 6.440\n",
      "loss after 830/1000 iteractions : 6.249\n",
      "loss after 840/1000 iteractions : 6.052\n",
      "loss after 850/1000 iteractions : 5.897\n",
      "loss after 860/1000 iteractions : 5.724\n",
      "loss after 870/1000 iteractions : 5.598\n",
      "loss after 880/1000 iteractions : 5.439\n",
      "loss after 890/1000 iteractions : 5.268\n",
      "loss after 900/1000 iteractions : 5.157\n",
      "loss after 910/1000 iteractions : 5.002\n",
      "loss after 920/1000 iteractions : 4.956\n",
      "loss after 930/1000 iteractions : 4.833\n",
      "loss after 940/1000 iteractions : 4.681\n",
      "loss after 950/1000 iteractions : 4.481\n",
      "loss after 960/1000 iteractions : 4.336\n",
      "loss after 970/1000 iteractions : 4.209\n",
      "loss after 980/1000 iteractions : 4.108\n",
      "loss after 990/1000 iteractions : 3.950\n",
      "Checkpoint saved at:  ./seq2seq/new_multi_variable_model_results/multivariate_ts_pollution_case\n"
     ]
    }
   ],
   "source": [
    "train_losses = []\n",
    "val_losses = []\n",
    "\n",
    "saver = tf.train.Saver()\n",
    "\n",
    "init = tf.global_variables_initializer()\n",
    "with tf.Session() as sess:\n",
    "\n",
    "    sess.run(init)\n",
    "    losses = []\n",
    "    print(\"Training losses: \")\n",
    "    for i in range(total_iteractions):\n",
    "        batch_input, batch_output = generate_training_set(station_list,\n",
    "                                                          X_aq_list,\n",
    "                                                          y_aq_list,\n",
    "                                                          X_meo_list=None,\n",
    "                                                          use_day=use_day,\n",
    "                                                          pre_days=pre_days,\n",
    "                                                          batch_size=batch_size)\n",
    "\n",
    "        \n",
    "        feed_dict = {rnn_model['enc_inp'][t]: batch_input[:,t,:] for t in range(input_seq_len)}\n",
    "        feed_dict.update({rnn_model['target_seq'][t]: batch_output[:,t,:] for t in range(output_seq_len)})\n",
    "        _, loss_t = sess.run([rnn_model['train_op'], rnn_model['loss']], feed_dict) \n",
    "        \n",
    "        if i%10 == 0:\n",
    "            print(\"loss after %d/%d iteractions : %.3f\" %(i, total_iteractions, loss_t))\n",
    "            \n",
    "            # 想要对训练过程中训练集的 smape 进行监督，发现模型并不是处在“预测”的状态，因此放弃\n",
    "            # train_preds = sess.run(rnn_model['reshaped_outputs'], feed_dict)\n",
    "            # train_preds = [np.expand_dims(pred, 1) for pred in train_preds]\n",
    "            # train_preds = np.concatenate(train_preds, axis = 1)\n",
    "            \n",
    "        losses.append(loss_t)\n",
    "        \n",
    "    temp_saver = rnn_model['saver']()\n",
    "    save_path = temp_saver.save(sess, os.path.join('./seq2seq/new_multi_variable_model_results/', 'multivariate_ts_pollution_case'))\n",
    "        \n",
    "print(\"Checkpoint saved at: \", save_path)"
   ]
  },
  {
   "cell_type": "code",
   "execution_count": 20,
   "metadata": {},
   "outputs": [
    {
     "data": {
      "text/plain": [
       "[<matplotlib.lines.Line2D at 0x7f1b34fc8a90>]"
      ]
     },
     "execution_count": 20,
     "metadata": {},
     "output_type": "execute_result"
    },
    {
     "data": {
      "image/png": "[encoded data removed]",
      "text/plain": [
       "<Figure size 432x288 with 1 Axes>"
      ]
     },
     "metadata": {},
     "output_type": "display_data"
    }
   ],
   "source": [
    "%matplotlib inline\n",
    "plt.plot(losses)"
   ]
  },
  {
   "cell_type": "markdown",
   "metadata": {},
   "source": [
    "## Inference on test \n",
    "Notice the batch prediction which is different to previous"
   ]
  },
  {
   "cell_type": "code",
   "execution_count": 21,
   "metadata": {
    "collapsed": true
   },
   "outputs": [],
   "source": [
    "rnn_model = build_graph(feed_previous=True, \n",
    "                        input_seq_len=input_seq_len, \n",
    "                        output_seq_len=output_seq_len, \n",
    "                        hidden_dim=hidden_dim, \n",
    "                        input_dim=input_dim, \n",
    "                        output_dim=output_dim, \n",
    "                        num_stacked_layers=num_stacked_layers, \n",
    "                        learning_rate=learning_rate,\n",
    "                        lambda_l2_reg=lambda_l2_reg,\n",
    "                        GRADIENT_CLIPPING=GRADIENT_CLIPPING)"
   ]
  },
  {
   "cell_type": "code",
   "execution_count": 22,
   "metadata": {
    "scrolled": false
   },
   "outputs": [
    {
     "name": "stdout",
     "output_type": "stream",
     "text": [
      "INFO:tensorflow:Restoring parameters from ./seq2seq/new_multi_variable_model_results/multivariate_ts_pollution_case\n",
      "Test mse is:  2.1256423768378623\n"
     ]
    }
   ],
   "source": [
    "init = tf.global_variables_initializer()\n",
    "with tf.Session() as sess:\n",
    "\n",
    "    sess.run(init)\n",
    "    \n",
    "    saver = rnn_model['saver']().restore(sess,  os.path.join('./seq2seq/new_multi_variable_model_results/', 'multivariate_ts_pollution_case'))\n",
    "    \n",
    "    feed_dict = {rnn_model['enc_inp'][t]: test_x[:, t, :] for t in range(input_seq_len)} # batch prediction\n",
    "    feed_dict.update({rnn_model['target_seq'][t]: np.zeros([test_x.shape[0], output_dim], dtype=np.float32) for t in range(output_seq_len)})\n",
    "    final_preds = sess.run(rnn_model['reshaped_outputs'], feed_dict)\n",
    "    \n",
    "    final_preds = [np.expand_dims(pred, 1) for pred in final_preds]\n",
    "    final_preds = np.concatenate(final_preds, axis = 1)"
   ]
  },
  {
   "cell_type": "code",
   "execution_count": 23,
   "metadata": {},
   "outputs": [
    {
     "name": "stdout",
     "output_type": "stream",
     "text": [
      "Shape of predictions is  (17, 48, 105)\n"
     ]
    }
   ],
   "source": [
    "print(\"Shape of predictions is \",final_preds.shape)"
   ]
  },
  {
   "cell_type": "markdown",
   "metadata": {},
   "source": [
    "### Example of many featutres"
   ]
  },
  {
   "cell_type": "code",
   "execution_count": 9,
   "metadata": {
    "collapsed": true
   },
   "outputs": [],
   "source": [
    "output_features = []\n",
    "for station in station_list : \n",
    "    for aq_feature in y_aq_list :\n",
    "        output_features.append(station + \"_\" + aq_feature)\n",
    "\n",
    "output_features.sort()"
   ]
  },
  {
   "cell_type": "code",
   "execution_count": 13,
   "metadata": {},
   "outputs": [
    {
     "name": "stdout",
     "output_type": "stream",
     "text": [
      "['aotizhongxin_aq_O3', 'aotizhongxin_aq_PM10', 'aotizhongxin_aq_PM2.5', 'badaling_aq_O3', 'badaling_aq_PM10', 'badaling_aq_PM2.5', 'beibuxinqu_aq_O3', 'beibuxinqu_aq_PM10', 'beibuxinqu_aq_PM2.5', 'daxing_aq_O3', 'daxing_aq_PM10', 'daxing_aq_PM2.5', 'dingling_aq_O3', 'dingling_aq_PM10', 'dingling_aq_PM2.5', 'donggaocun_aq_O3', 'donggaocun_aq_PM10', 'donggaocun_aq_PM2.5', 'dongsi_aq_O3', 'dongsi_aq_PM10', 'dongsi_aq_PM2.5', 'dongsihuan_aq_O3', 'dongsihuan_aq_PM10', 'dongsihuan_aq_PM2.5', 'fangshan_aq_O3', 'fangshan_aq_PM10', 'fangshan_aq_PM2.5', 'fengtaihuayuan_aq_O3', 'fengtaihuayuan_aq_PM10', 'fengtaihuayuan_aq_PM2.5', 'guanyuan_aq_O3', 'guanyuan_aq_PM10', 'guanyuan_aq_PM2.5', 'gucheng_aq_O3', 'gucheng_aq_PM10', 'gucheng_aq_PM2.5', 'huairou_aq_O3', 'huairou_aq_PM10', 'huairou_aq_PM2.5', 'liulihe_aq_O3', 'liulihe_aq_PM10', 'liulihe_aq_PM2.5', 'mentougou_aq_O3', 'mentougou_aq_PM10', 'mentougou_aq_PM2.5', 'miyun_aq_O3', 'miyun_aq_PM10', 'miyun_aq_PM2.5', 'miyunshuiku_aq_O3', 'miyunshuiku_aq_PM10', 'miyunshuiku_aq_PM2.5', 'nansanhuan_aq_O3', 'nansanhuan_aq_PM10', 'nansanhuan_aq_PM2.5', 'nongzhanguan_aq_O3', 'nongzhanguan_aq_PM10', 'nongzhanguan_aq_PM2.5', 'pingchang_aq_O3', 'pingchang_aq_PM10', 'pingchang_aq_PM2.5', 'pinggu_aq_O3', 'pinggu_aq_PM10', 'pinggu_aq_PM2.5', 'qianmen_aq_O3', 'qianmen_aq_PM10', 'qianmen_aq_PM2.5', 'shunyi_aq_O3', 'shunyi_aq_PM10', 'shunyi_aq_PM2.5', 'tiantan_aq_O3', 'tiantan_aq_PM10', 'tiantan_aq_PM2.5', 'tongzhou_aq_O3', 'tongzhou_aq_PM10', 'tongzhou_aq_PM2.5', 'wanliu_aq_O3', 'wanliu_aq_PM10', 'wanliu_aq_PM2.5', 'wanshouxigong_aq_O3', 'wanshouxigong_aq_PM10', 'wanshouxigong_aq_PM2.5', 'xizhimenbei_aq_O3', 'xizhimenbei_aq_PM10', 'xizhimenbei_aq_PM2.5', 'yanqin_aq_O3', 'yanqin_aq_PM10', 'yanqin_aq_PM2.5', 'yizhuang_aq_O3', 'yizhuang_aq_PM10', 'yizhuang_aq_PM2.5', 'yongdingmennei_aq_O3', 'yongdingmennei_aq_PM10', 'yongdingmennei_aq_PM2.5', 'yongledian_aq_O3', 'yongledian_aq_PM10', 'yongledian_aq_PM2.5', 'yufa_aq_O3', 'yufa_aq_PM10', 'yufa_aq_PM2.5', 'yungang_aq_O3', 'yungang_aq_PM10', 'yungang_aq_PM2.5', 'zhiwuyuan_aq_O3', 'zhiwuyuan_aq_PM10', 'zhiwuyuan_aq_PM2.5']\n",
      "Number of features is :  105\n"
     ]
    }
   ],
   "source": [
    "print(output_features)\n",
    "print(\"Number of features is : \", len(output_features))"
   ]
  },
  {
   "cell_type": "code",
   "execution_count": 14,
   "metadata": {
    "scrolled": true
   },
   "outputs": [
    {
     "ename": "NameError",
     "evalue": "name 'final_preds' is not defined",
     "output_type": "error",
     "traceback": [
      "\u001b[0;31m---------------------------------------------------------------------------\u001b[0m",
      "\u001b[0;31mNameError\u001b[0m                                 Traceback (most recent call last)",
      "\u001b[0;32m<ipython-input-14-24a8ddfe4a80>\u001b[0m in \u001b[0;36m<module>\u001b[0;34m()\u001b[0m\n\u001b[1;32m      1\u001b[0m \u001b[0;31m# 预测值普遍在 O3 上表现较好，另外两个参数　PM2.5 和　PM10 上通常捕捉不到高频分量\u001b[0m\u001b[0;34m\u001b[0m\u001b[0;34m\u001b[0m\u001b[0m\n\u001b[1;32m      2\u001b[0m \u001b[0;32mfor\u001b[0m \u001b[0mi\u001b[0m \u001b[0;32min\u001b[0m \u001b[0mrange\u001b[0m\u001b[0;34m(\u001b[0m\u001b[0mlen\u001b[0m\u001b[0;34m(\u001b[0m\u001b[0moutput_features\u001b[0m\u001b[0;34m)\u001b[0m\u001b[0;34m)\u001b[0m\u001b[0;34m:\u001b[0m\u001b[0;34m\u001b[0m\u001b[0m\n\u001b[0;32m----> 3\u001b[0;31m     \u001b[0mplot_forecast_and_actual_example\u001b[0m\u001b[0;34m(\u001b[0m\u001b[0mtest_x\u001b[0m\u001b[0;34m,\u001b[0m \u001b[0mtest_y\u001b[0m\u001b[0;34m,\u001b[0m \u001b[0mfinal_preds\u001b[0m\u001b[0;34m,\u001b[0m \u001b[0moutput_features\u001b[0m\u001b[0;34m,\u001b[0m \u001b[0mindex\u001b[0m\u001b[0;34m=\u001b[0m\u001b[0;36m0\u001b[0m\u001b[0;34m,\u001b[0m \u001b[0mfeature_index\u001b[0m\u001b[0;34m=\u001b[0m\u001b[0mi\u001b[0m\u001b[0;34m)\u001b[0m\u001b[0;34m\u001b[0m\u001b[0m\n\u001b[0m",
      "\u001b[0;31mNameError\u001b[0m: name 'final_preds' is not defined"
     ]
    }
   ],
   "source": [
    "# 预测值普遍在 O3 上表现较好，另外两个参数　PM2.5 和　PM10 上通常捕捉不到高频分量\n",
    "for i in range(len(output_features)):\n",
    "    plot_forecast_and_actual_example(test_x, test_y, final_preds, output_features, index=0, feature_index=i)"
   ]
  },
  {
   "cell_type": "markdown",
   "metadata": {},
   "source": [
    "### 某个特征在整个dev数据集时间跨度上的表现"
   ]
  },
  {
   "cell_type": "code",
   "execution_count": 16,
   "metadata": {},
   "outputs": [
    {
     "data": {
      "image/png": "[encoded data removed]",
      "text/plain": [
       "<Figure size 432x288 with 1 Axes>"
      ]
     },
     "metadata": {},
     "output_type": "display_data"
    }
   ],
   "source": [
    "feature_index = 0\n",
    "test_y_expand = np.concatenate([test_y[i,:,feature_index] for i in range(0, test_y.shape[0])], axis = 0)\n",
    "final_preds_expand = np.concatenate([final_preds[i,:,feature_index] for i in range(0, final_preds.shape[0])], axis = 0)\n",
    "plt.plot(final_preds_expand, color = 'orange', label = 'predicted')\n",
    "plt.plot(test_y_expand, color = 'blue', label = 'actual')\n",
    "plt.title(\"test data - one month\")\n",
    "plt.legend(loc=\"upper left\")\n",
    "plt.show()"
   ]
  },
  {
   "cell_type": "markdown",
   "metadata": {},
   "source": [
    "### Smapes of all features"
   ]
  },
  {
   "cell_type": "markdown",
   "metadata": {},
   "source": [
    "载入训练样本的统计量"
   ]
  },
  {
   "cell_type": "code",
   "execution_count": 2,
   "metadata": {
    "collapsed": true
   },
   "outputs": [],
   "source": [
    "statistics = get_training_statistics()"
   ]
  },
  {
   "cell_type": "code",
   "execution_count": 3,
   "metadata": {},
   "outputs": [
    {
     "data": {
      "text/html": [
       "<div>\n",
       "<style>\n",
       "    .dataframe thead tr:only-child th {\n",
       "        text-align: right;\n",
       "    }\n",
       "\n",
       "    .dataframe thead th {\n",
       "        text-align: left;\n",
       "    }\n",
       "\n",
       "    .dataframe tbody tr th {\n",
       "        vertical-align: top;\n",
       "    }\n",
       "</style>\n",
       "<table border=\"1\" class=\"dataframe\">\n",
       "  <thead>\n",
       "    <tr style=\"text-align: right;\">\n",
       "      <th></th>\n",
       "      <th>nongzhanguan_aq_PM2.5</th>\n",
       "      <th>nongzhanguan_aq_PM10</th>\n",
       "      <th>nongzhanguan_aq_NO2</th>\n",
       "      <th>nongzhanguan_aq_CO</th>\n",
       "      <th>nongzhanguan_aq_O3</th>\n",
       "      <th>nongzhanguan_aq_SO2</th>\n",
       "      <th>guanyuan_aq_PM2.5</th>\n",
       "      <th>guanyuan_aq_PM10</th>\n",
       "      <th>guanyuan_aq_NO2</th>\n",
       "      <th>guanyuan_aq_CO</th>\n",
       "      <th>...</th>\n",
       "      <th>yongledian_aq_temperature</th>\n",
       "      <th>yongledian_aq_pressure</th>\n",
       "      <th>yongledian_aq_humidity</th>\n",
       "      <th>yongledian_aq_wind_direction</th>\n",
       "      <th>yongledian_aq_wind_speed/kph</th>\n",
       "      <th>pinggu_aq_temperature</th>\n",
       "      <th>pinggu_aq_pressure</th>\n",
       "      <th>pinggu_aq_humidity</th>\n",
       "      <th>pinggu_aq_wind_direction</th>\n",
       "      <th>pinggu_aq_wind_speed/kph</th>\n",
       "    </tr>\n",
       "    <tr>\n",
       "      <th>label</th>\n",
       "      <th></th>\n",
       "      <th></th>\n",
       "      <th></th>\n",
       "      <th></th>\n",
       "      <th></th>\n",
       "      <th></th>\n",
       "      <th></th>\n",
       "      <th></th>\n",
       "      <th></th>\n",
       "      <th></th>\n",
       "      <th></th>\n",
       "      <th></th>\n",
       "      <th></th>\n",
       "      <th></th>\n",
       "      <th></th>\n",
       "      <th></th>\n",
       "      <th></th>\n",
       "      <th></th>\n",
       "      <th></th>\n",
       "      <th></th>\n",
       "      <th></th>\n",
       "    </tr>\n",
       "  </thead>\n",
       "  <tbody>\n",
       "    <tr>\n",
       "      <th>mean</th>\n",
       "      <td>60.270570</td>\n",
       "      <td>86.508707</td>\n",
       "      <td>49.520916</td>\n",
       "      <td>0.899456</td>\n",
       "      <td>54.615590</td>\n",
       "      <td>9.481894</td>\n",
       "      <td>59.297337</td>\n",
       "      <td>82.459596</td>\n",
       "      <td>50.657468</td>\n",
       "      <td>0.842730</td>\n",
       "      <td>...</td>\n",
       "      <td>11.554599</td>\n",
       "      <td>1016.679121</td>\n",
       "      <td>39.773854</td>\n",
       "      <td>197.015301</td>\n",
       "      <td>10.927671</td>\n",
       "      <td>10.591484</td>\n",
       "      <td>1001.588230</td>\n",
       "      <td>41.778629</td>\n",
       "      <td>193.124596</td>\n",
       "      <td>9.122660</td>\n",
       "    </tr>\n",
       "    <tr>\n",
       "      <th>std</th>\n",
       "      <td>65.838131</td>\n",
       "      <td>101.805670</td>\n",
       "      <td>31.605348</td>\n",
       "      <td>0.939021</td>\n",
       "      <td>53.782121</td>\n",
       "      <td>11.688182</td>\n",
       "      <td>62.905273</td>\n",
       "      <td>99.656668</td>\n",
       "      <td>30.790255</td>\n",
       "      <td>0.811781</td>\n",
       "      <td>...</td>\n",
       "      <td>11.763167</td>\n",
       "      <td>10.291141</td>\n",
       "      <td>21.658970</td>\n",
       "      <td>102.824005</td>\n",
       "      <td>6.459728</td>\n",
       "      <td>11.806261</td>\n",
       "      <td>9.558372</td>\n",
       "      <td>20.982975</td>\n",
       "      <td>111.122848</td>\n",
       "      <td>6.125807</td>\n",
       "    </tr>\n",
       "  </tbody>\n",
       "</table>\n",
       "<p>2 rows × 385 columns</p>\n",
       "</div>"
      ],
      "text/plain": [
       "       nongzhanguan_aq_PM2.5  nongzhanguan_aq_PM10  nongzhanguan_aq_NO2  \\\n",
       "label                                                                     \n",
       "mean               60.270570             86.508707            49.520916   \n",
       "std                65.838131            101.805670            31.605348   \n",
       "\n",
       "       nongzhanguan_aq_CO  nongzhanguan_aq_O3  nongzhanguan_aq_SO2  \\\n",
       "label                                                                \n",
       "mean             0.899456           54.615590             9.481894   \n",
       "std              0.939021           53.782121            11.688182   \n",
       "\n",
       "       guanyuan_aq_PM2.5  guanyuan_aq_PM10  guanyuan_aq_NO2  guanyuan_aq_CO  \\\n",
       "label                                                                         \n",
       "mean           59.297337         82.459596        50.657468        0.842730   \n",
       "std            62.905273         99.656668        30.790255        0.811781   \n",
       "\n",
       "                 ...             yongledian_aq_temperature  \\\n",
       "label            ...                                         \n",
       "mean             ...                             11.554599   \n",
       "std              ...                             11.763167   \n",
       "\n",
       "       yongledian_aq_pressure  yongledian_aq_humidity  \\\n",
       "label                                                   \n",
       "mean              1016.679121               39.773854   \n",
       "std                 10.291141               21.658970   \n",
       "\n",
       "       yongledian_aq_wind_direction  yongledian_aq_wind_speed/kph  \\\n",
       "label                                                               \n",
       "mean                     197.015301                     10.927671   \n",
       "std                      102.824005                      6.459728   \n",
       "\n",
       "       pinggu_aq_temperature  pinggu_aq_pressure  pinggu_aq_humidity  \\\n",
       "label                                                                  \n",
       "mean               10.591484         1001.588230           41.778629   \n",
       "std                11.806261            9.558372           20.982975   \n",
       "\n",
       "       pinggu_aq_wind_direction  pinggu_aq_wind_speed/kph  \n",
       "label                                                      \n",
       "mean                 193.124596                  9.122660  \n",
       "std                  111.122848                  6.125807  \n",
       "\n",
       "[2 rows x 385 columns]"
      ]
     },
     "execution_count": 3,
     "metadata": {},
     "output_type": "execute_result"
    }
   ],
   "source": [
    "statistics"
   ]
  },
  {
   "cell_type": "markdown",
   "metadata": {},
   "source": [
    "计算 smape"
   ]
  },
  {
   "cell_type": "code",
   "execution_count": 42,
   "metadata": {
    "scrolled": false
   },
   "outputs": [
    {
     "ename": "NameError",
     "evalue": "name 'y_mean' is not defined",
     "output_type": "error",
     "traceback": [
      "\u001b[0;31m---------------------------------------------------------------------------\u001b[0m",
      "\u001b[0;31mNameError\u001b[0m                                 Traceback (most recent call last)",
      "\u001b[0;32m<ipython-input-42-da55bfb806b5>\u001b[0m in \u001b[0;36m<module>\u001b[0;34m()\u001b[0m\n\u001b[0;32m----> 1\u001b[0;31m \u001b[0maver_smapes\u001b[0m\u001b[0;34m,\u001b[0m \u001b[0msmapes_of_features\u001b[0m \u001b[0;34m=\u001b[0m \u001b[0mSMAPE_on_dataset\u001b[0m\u001b[0;34m(\u001b[0m\u001b[0mtest_y\u001b[0m\u001b[0;34m,\u001b[0m \u001b[0mfinal_preds\u001b[0m\u001b[0;34m,\u001b[0m \u001b[0moutput_features\u001b[0m\u001b[0;34m,\u001b[0m \u001b[0my_mean\u001b[0m\u001b[0;34m,\u001b[0m \u001b[0my_std\u001b[0m\u001b[0;34m,\u001b[0m \u001b[0;36m24\u001b[0m\u001b[0;34m)\u001b[0m\u001b[0;34m\u001b[0m\u001b[0m\n\u001b[0m",
      "\u001b[0;31mNameError\u001b[0m: name 'y_mean' is not defined"
     ]
    }
   ],
   "source": [
    "aver_smapes, smapes_of_features = SMAPE_on_dataset(test_y, final_preds, output_features, statistics, 24)"
   ]
  },
  {
   "cell_type": "code",
   "execution_count": 26,
   "metadata": {
    "collapsed": true
   },
   "outputs": [
    {
     "data": {
      "text/plain": [
       "{'aotizhongxin_aq_O3': 0.9033747953147865,\n",
       " 'aotizhongxin_aq_PM10': 0.5718946270291979,\n",
       " 'aotizhongxin_aq_PM2.5': 0.7457085716015857,\n",
       " 'badaling_aq_O3': 0.8041749469633239,\n",
       " 'badaling_aq_PM10': 0.5564821160654873,\n",
       " 'badaling_aq_PM2.5': 0.7049697537670129,\n",
       " 'beibuxinqu_aq_O3': 1.0420253121274101,\n",
       " 'beibuxinqu_aq_PM10': 0.5902215043625896,\n",
       " 'beibuxinqu_aq_PM2.5': 0.7866312659997835,\n",
       " 'daxing_aq_O3': 0.9610806103375031,\n",
       " 'daxing_aq_PM10': 0.5462000516832216,\n",
       " 'daxing_aq_PM2.5': 0.7143493858469224,\n",
       " 'dingling_aq_O3': 0.6047706707798631,\n",
       " 'dingling_aq_PM10': 0.5550950702163014,\n",
       " 'dingling_aq_PM2.5': 0.8088193923510388,\n",
       " 'donggaocun_aq_O3': 0.6080458117167155,\n",
       " 'donggaocun_aq_PM10': 0.5778800265374652,\n",
       " 'donggaocun_aq_PM2.5': 0.705846603198253,\n",
       " 'dongsi_aq_O3': 0.9123188588253756,\n",
       " 'dongsi_aq_PM10': 0.5068988974290636,\n",
       " 'dongsi_aq_PM2.5': 0.6625081860635338,\n",
       " 'dongsihuan_aq_O3': 1.0957649180244609,\n",
       " 'dongsihuan_aq_PM10': 0.7569836099165018,\n",
       " 'dongsihuan_aq_PM2.5': 0.7288406831512004,\n",
       " 'fangshan_aq_O3': 0.8492580147747525,\n",
       " 'fangshan_aq_PM10': 0.5362559423393226,\n",
       " 'fangshan_aq_PM2.5': 0.6644765439110802,\n",
       " 'fengtaihuayuan_aq_O3': 1.003846935173673,\n",
       " 'fengtaihuayuan_aq_PM10': 0.551752432203898,\n",
       " 'fengtaihuayuan_aq_PM2.5': 0.687744457956737,\n",
       " 'guanyuan_aq_O3': 0.9719995434619216,\n",
       " 'guanyuan_aq_PM10': 0.5690199667892145,\n",
       " 'guanyuan_aq_PM2.5': 0.7132882445667695,\n",
       " 'gucheng_aq_O3': 0.909223468288269,\n",
       " 'gucheng_aq_PM10': 0.5663789321309736,\n",
       " 'gucheng_aq_PM2.5': 0.6803990343292052,\n",
       " 'huairou_aq_O3': 0.5802696830261344,\n",
       " 'huairou_aq_PM10': 0.5561100789398733,\n",
       " 'huairou_aq_PM2.5': 0.8603334572979998,\n",
       " 'liulihe_aq_O3': 0.7977973723139163,\n",
       " 'liulihe_aq_PM10': 0.5531138034891675,\n",
       " 'liulihe_aq_PM2.5': 0.7004253516554328,\n",
       " 'mentougou_aq_O3': 0.7503189397230879,\n",
       " 'mentougou_aq_PM10': 0.5118430919625613,\n",
       " 'mentougou_aq_PM2.5': 0.6781060611469277,\n",
       " 'miyun_aq_O3': 0.7517974775667824,\n",
       " 'miyun_aq_PM10': 0.5720041332388016,\n",
       " 'miyun_aq_PM2.5': 0.750998922409996,\n",
       " 'miyunshuiku_aq_O3': 0.5200777152208674,\n",
       " 'miyunshuiku_aq_PM10': 0.6750911593921888,\n",
       " 'miyunshuiku_aq_PM2.5': 0.7424036046305588,\n",
       " 'nansanhuan_aq_O3': 0.9772105703209396,\n",
       " 'nansanhuan_aq_PM10': 0.510411690312652,\n",
       " 'nansanhuan_aq_PM2.5': 0.7645283747963796,\n",
       " 'nongzhanguan_aq_O3': 0.9035608144607169,\n",
       " 'nongzhanguan_aq_PM10': 0.5683286617408375,\n",
       " 'nongzhanguan_aq_PM2.5': 0.6949633444241264,\n",
       " 'pingchang_aq_O3': 0.7815834699904917,\n",
       " 'pingchang_aq_PM10': 0.6095905591376577,\n",
       " 'pingchang_aq_PM2.5': 0.7627113625476434,\n",
       " 'pinggu_aq_O3': 0.6440688324295769,\n",
       " 'pinggu_aq_PM10': 0.47431074240461174,\n",
       " 'pinggu_aq_PM2.5': 0.6908644737182587,\n",
       " 'qianmen_aq_O3': 0.8784460569496207,\n",
       " 'qianmen_aq_PM10': 0.5651074224881806,\n",
       " 'qianmen_aq_PM2.5': 0.6918327669176191,\n",
       " 'shunyi_aq_O3': 0.6928484396443801,\n",
       " 'shunyi_aq_PM10': 0.5493245225229699,\n",
       " 'shunyi_aq_PM2.5': 0.7592032078753354,\n",
       " 'tiantan_aq_O3': 0.8721444198393012,\n",
       " 'tiantan_aq_PM10': 0.6737699043108106,\n",
       " 'tiantan_aq_PM2.5': 0.7117689158751451,\n",
       " 'tongzhou_aq_O3': 0.8704845593836329,\n",
       " 'tongzhou_aq_PM10': 0.5210575908007969,\n",
       " 'tongzhou_aq_PM2.5': 0.7004055640616172,\n",
       " 'wanliu_aq_O3': 0.8595400219296572,\n",
       " 'wanliu_aq_PM10': 0.5318353932272494,\n",
       " 'wanliu_aq_PM2.5': 0.6902264321795174,\n",
       " 'wanshouxigong_aq_O3': 0.9019263818349911,\n",
       " 'wanshouxigong_aq_PM10': 0.5201467189872863,\n",
       " 'wanshouxigong_aq_PM2.5': 0.7391251594394334,\n",
       " 'xizhimenbei_aq_O3': 0.9968329287260439,\n",
       " 'xizhimenbei_aq_PM10': 0.5265753516519688,\n",
       " 'xizhimenbei_aq_PM2.5': 0.7181248154283768,\n",
       " 'yanqin_aq_O3': 0.6974976475644342,\n",
       " 'yanqin_aq_PM10': 0.5594930212898243,\n",
       " 'yanqin_aq_PM2.5': 0.6521945438085203,\n",
       " 'yizhuang_aq_O3': 0.8372649912170221,\n",
       " 'yizhuang_aq_PM10': 0.5409093813337205,\n",
       " 'yizhuang_aq_PM2.5': 0.6605662118843939,\n",
       " 'yongdingmennei_aq_O3': 0.967973431378442,\n",
       " 'yongdingmennei_aq_PM10': 0.5581431085978893,\n",
       " 'yongdingmennei_aq_PM2.5': 0.7262465424824406,\n",
       " 'yongledian_aq_O3': 1.0042632790661716,\n",
       " 'yongledian_aq_PM10': 0.5854089078535107,\n",
       " 'yongledian_aq_PM2.5': 0.6177550502476202,\n",
       " 'yufa_aq_O3': 0.8371016100003708,\n",
       " 'yufa_aq_PM10': 0.6085226903866429,\n",
       " 'yufa_aq_PM2.5': 0.6392574523701587,\n",
       " 'yungang_aq_O3': 0.6570755800864471,\n",
       " 'yungang_aq_PM10': 0.5061220730925287,\n",
       " 'yungang_aq_PM2.5': 0.6571416453893543,\n",
       " 'zhiwuyuan_aq_O3': 0.7825131339910726,\n",
       " 'zhiwuyuan_aq_PM10': 0.8647723234788893,\n",
       " 'zhiwuyuan_aq_PM2.5': 1.2028103760911886}"
      ]
     },
     "execution_count": 26,
     "metadata": {},
     "output_type": "execute_result"
    }
   ],
   "source": [
    "# smape value on all features\n",
    "smapes_of_features"
   ]
  },
  {
   "cell_type": "code",
   "execution_count": 27,
   "metadata": {},
   "outputs": [
    {
     "name": "stdout",
     "output_type": "stream",
     "text": [
      "The average smape on all features in the dev set is :  0.7111534524687351\n"
     ]
    }
   ],
   "source": [
    "print(\"The average smape on all features in the dev set is : \",aver_smapes)"
   ]
  },
  {
   "cell_type": "markdown",
   "metadata": {
    "collapsed": true
   },
   "source": [
    "# ChangeLog\n",
    "- 0427 v0\n",
    "    - 完成了第一版本模型"
   ]
  },
  {
   "cell_type": "code",
   "execution_count": null,
   "metadata": {
    "collapsed": true
   },
   "outputs": [],
   "source": []
  }
 ],
 "metadata": {
  "kernelspec": {
   "display_name": "Python 3",
   "language": "python",
   "name": "python3"
  },
  "language_info": {
   "codemirror_mode": {
    "name": "ipython",
    "version": 3
   },
   "file_extension": ".py",
   "mimetype": "text/x-python",
   "name": "python",
   "nbconvert_exporter": "python",
   "pygments_lexer": "ipython3",
   "version": "3.5.2"
  }
 },
 "nbformat": 4,
 "nbformat_minor": 2
}
