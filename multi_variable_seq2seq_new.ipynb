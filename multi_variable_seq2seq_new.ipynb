{
 "cells": [
  {
   "cell_type": "markdown",
   "metadata": {},
   "source": [
    "## 0. seq2seq Model\n",
    "- 使用之前5天的数据，对之后48小时的空气质量进行预测，模型如下"
   ]
  },
  {
   "cell_type": "markdown",
   "metadata": {},
   "source": [
    "![](http://p3rz3gu1u.bkt.clouddn.com/2018-04-19-seq2seq_model.png)\n",
    "<caption><center> **Figure 1**: lstm model</center></caption>"
   ]
  },
  {
   "cell_type": "code",
   "execution_count": 1,
   "metadata": {},
   "outputs": [
    {
     "name": "stderr",
     "output_type": "stream",
     "text": [
      "/home/cvdev/tf/lib/python3.5/site-packages/h5py/__init__.py:36: FutureWarning: Conversion of the second argument of issubdtype from `float` to `np.floating` is deprecated. In future, it will be treated as `np.float64 == np.dtype(float).type`.\n",
      "  from ._conv import register_converters as _register_converters\n",
      "Using TensorFlow backend.\n"
     ]
    }
   ],
   "source": [
    "import os\n",
    "import pandas as pd\n",
    "import matplotlib.pyplot as plt\n",
    "%matplotlib inline\n",
    "import numpy as np \n",
    "import seaborn as sns\n",
    "import tensorflow as tf\n",
    "import keras.backend.tensorflow_backend as KTF\n",
    "\n",
    "from utils.plot_util import plot_forecast_and_actual_example\n",
    "from metrics.metrics import SMAPE_on_dataset\n",
    "from seq2seq.seq2seq_data_util import get_training_statistics, generate_training_set, generate_dev_set\n",
    "from seq2seq.multi_variable_seq2seq_model_parameters import build_graph\n",
    "\n",
    "%load_ext autoreload\n",
    "%autoreload 2"
   ]
  },
  {
   "cell_type": "code",
   "execution_count": 2,
   "metadata": {},
   "outputs": [],
   "source": [
    "os.environ['CUDA_VISIBLE_DEVICES'] = '1'\n",
    "\n",
    "gpu_config = tf.ConfigProto()\n",
    "gpu_config.gpu_options.allow_growth = True\n",
    "session = tf.Session(config=gpu_config)\n",
    "KTF.set_session(session)"
   ]
  },
  {
   "cell_type": "markdown",
   "metadata": {},
   "source": [
    "## Preprocessing"
   ]
  },
  {
   "cell_type": "markdown",
   "metadata": {},
   "source": [
    "多变量版本"
   ]
  },
  {
   "cell_type": "code",
   "execution_count": 3,
   "metadata": {},
   "outputs": [],
   "source": [
    "station_list = ['dongsi_aq','tiantan_aq','guanyuan_aq','wanshouxigong_aq','aotizhongxin_aq',\n",
    "            'nongzhanguan_aq','wanliu_aq','beibuxinqu_aq','zhiwuyuan_aq','fengtaihuayuan_aq',\n",
    "            'yungang_aq','gucheng_aq','fangshan_aq','daxing_aq','yizhuang_aq','tongzhou_aq',\n",
    "            'shunyi_aq','pingchang_aq','mentougou_aq','pinggu_aq','huairou_aq','miyun_aq',\n",
    "            'yanqin_aq','dingling_aq','badaling_aq','miyunshuiku_aq','donggaocun_aq',\n",
    "            'yongledian_aq','yufa_aq','liulihe_aq','qianmen_aq','yongdingmennei_aq',\n",
    "            'xizhimenbei_aq','nansanhuan_aq','dongsihuan_aq']            \n",
    "X_aq_list = [\"PM2.5\",\"PM10\",\"O3\",\"CO\",\"SO2\",\"NO2\"]  \n",
    "y_aq_list = [\"PM2.5\",\"PM10\",\"O3\"]\n",
    "X_meo_list = [\"temperature\",\"pressure\",\"humidity\",\"direction\",\"speed/kph\"]\n",
    "use_day=True\n",
    "pre_days=5\n",
    "batch_size=128"
   ]
  },
  {
   "cell_type": "markdown",
   "metadata": {},
   "source": [
    "少变量版本（测试）"
   ]
  },
  {
   "cell_type": "code",
   "execution_count": 3,
   "metadata": {},
   "outputs": [],
   "source": [
    "station_list = ['aotizhongxin_aq']            \n",
    "X_aq_list = [\"PM2.5\",\"PM10\",\"O3\",\"CO\",\"SO2\",\"NO2\"]  \n",
    "y_aq_list = [\"PM2.5\"]\n",
    "X_meo_list = [\"temperature\",\"pressure\",\"humidity\",\"direction\",\"speed/kph\"]\n",
    "use_day = True\n",
    "pre_days = 5\n",
    "batch_size = 128"
   ]
  },
  {
   "cell_type": "markdown",
   "metadata": {},
   "source": [
    "## Prepare training and test datasets in 3-D format - (batch_size, time_step, feature_dim)"
   ]
  },
  {
   "cell_type": "code",
   "execution_count": 4,
   "metadata": {},
   "outputs": [],
   "source": [
    "test_x, test_y = generate_dev_set(station_list=station_list,\n",
    "                                  X_aq_list=X_aq_list, \n",
    "                                  y_aq_list=y_aq_list, \n",
    "                                  X_meo_list=None,\n",
    "                                  pre_days=pre_days)"
   ]
  },
  {
   "cell_type": "code",
   "execution_count": 5,
   "metadata": {},
   "outputs": [
    {
     "name": "stdout",
     "output_type": "stream",
     "text": [
      "(17, 120, 210) (17, 48, 105)\n"
     ]
    }
   ],
   "source": [
    "print(test_x.shape, test_y.shape)"
   ]
  },
  {
   "cell_type": "code",
   "execution_count": 6,
   "metadata": {},
   "outputs": [],
   "source": [
    "X_training_batch, y_training_batch = generate_training_set(station_list=station_list,\n",
    "                                                           X_aq_list=X_aq_list,\n",
    "                                                           y_aq_list=y_aq_list,\n",
    "                                                           pre_days=pre_days,\n",
    "                                                           X_meo_list=None,\n",
    "                                                           use_day=True,\n",
    "                                                           batch_size=batch_size)"
   ]
  },
  {
   "cell_type": "code",
   "execution_count": 7,
   "metadata": {},
   "outputs": [
    {
     "name": "stdout",
     "output_type": "stream",
     "text": [
      "(128, 120, 210) (128, 48, 105)\n"
     ]
    }
   ],
   "source": [
    "print(X_training_batch.shape, y_training_batch.shape)"
   ]
  },
  {
   "cell_type": "markdown",
   "metadata": {},
   "source": [
    "## Build the model and train the model "
   ]
  },
  {
   "cell_type": "code",
   "execution_count": 17,
   "metadata": {},
   "outputs": [],
   "source": [
    "input_seq_len = pre_days * 24\n",
    "output_seq_len = 48\n",
    "hidden_dim = 512\n",
    "input_dim = 210\n",
    "output_dim = 105\n",
    "num_stacked_layers = 3\n",
    "\n",
    "learning_rate=1e-3\n",
    "lambda_l2_reg=0.003\n",
    "GRADIENT_CLIPPING=2.5\n",
    "total_iteractions = 200\n",
    "KEEP_RATE = 0.5"
   ]
  },
  {
   "cell_type": "code",
   "execution_count": 18,
   "metadata": {},
   "outputs": [],
   "source": [
    "rnn_model = build_graph(feed_previous=False, \n",
    "                        input_seq_len=input_seq_len, \n",
    "                        output_seq_len=output_seq_len, \n",
    "                        hidden_dim=hidden_dim, \n",
    "                        input_dim=input_dim, \n",
    "                        output_dim=output_dim, \n",
    "                        num_stacked_layers=num_stacked_layers, \n",
    "                        learning_rate=learning_rate,\n",
    "                        lambda_l2_reg=lambda_l2_reg,\n",
    "                        GRADIENT_CLIPPING=GRADIENT_CLIPPING)"
   ]
  },
  {
   "cell_type": "code",
   "execution_count": 19,
   "metadata": {
    "scrolled": false
   },
   "outputs": [
    {
     "name": "stdout",
     "output_type": "stream",
     "text": [
      "Training losses: \n",
      "loss after 0/200 iteractions : 158.702\n",
      "loss after 10/200 iteractions : 86.617\n",
      "loss after 20/200 iteractions : 71.293\n",
      "loss after 30/200 iteractions : 69.648\n",
      "loss after 40/200 iteractions : 69.275\n",
      "loss after 50/200 iteractions : 65.696\n",
      "loss after 60/200 iteractions : 63.780\n",
      "loss after 70/200 iteractions : 62.339\n",
      "loss after 80/200 iteractions : 60.576\n",
      "loss after 90/200 iteractions : 58.569\n",
      "loss after 100/200 iteractions : 56.999\n",
      "loss after 110/200 iteractions : 56.508\n",
      "loss after 120/200 iteractions : 54.037\n",
      "loss after 130/200 iteractions : 52.962\n",
      "loss after 140/200 iteractions : 51.999\n",
      "loss after 150/200 iteractions : 50.269\n",
      "loss after 160/200 iteractions : 49.495\n",
      "loss after 170/200 iteractions : 47.555\n",
      "loss after 180/200 iteractions : 46.251\n",
      "loss after 190/200 iteractions : 45.018\n",
      "Checkpoint saved at:  ./seq2seq/new_multi_variable_model_results/multivariate_ts_pollution_case\n"
     ]
    }
   ],
   "source": [
    "train_losses = []\n",
    "val_losses = []\n",
    "\n",
    "saver = tf.train.Saver()\n",
    "\n",
    "init = tf.global_variables_initializer()\n",
    "with tf.Session() as sess:\n",
    "\n",
    "    sess.run(init)\n",
    "    losses = []\n",
    "    print(\"Training losses: \")\n",
    "    for i in range(total_iteractions):\n",
    "        batch_input, batch_output = generate_training_set(station_list,\n",
    "                                                          X_aq_list,\n",
    "                                                          y_aq_list,\n",
    "                                                          X_meo_list=None,\n",
    "                                                          use_day=use_day,\n",
    "                                                          pre_days=pre_days,\n",
    "                                                          batch_size=batch_size)\n",
    "\n",
    "        \n",
    "        feed_dict = {rnn_model['enc_inp'][t]: batch_input[:,t,:] for t in range(input_seq_len)}\n",
    "        feed_dict.update({rnn_model['target_seq'][t]: batch_output[:,t,:] for t in range(output_seq_len)})\n",
    "        _, loss_t = sess.run([rnn_model['train_op'], rnn_model['loss']], feed_dict)\n",
    "        if i%10 == 0:\n",
    "            print(\"loss after %d/%d iteractions : %.3f\" %(i, total_iteractions, loss_t))\n",
    "        losses.append(loss_t)\n",
    "        \n",
    "    temp_saver = rnn_model['saver']()\n",
    "    save_path = temp_saver.save(sess, os.path.join('./seq2seq/new_multi_variable_model_results/', 'multivariate_ts_pollution_case'))\n",
    "        \n",
    "print(\"Checkpoint saved at: \", save_path)"
   ]
  },
  {
   "cell_type": "code",
   "execution_count": 20,
   "metadata": {},
   "outputs": [
    {
     "data": {
      "text/plain": [
       "[<matplotlib.lines.Line2D at 0x7fbbdd2bc5c0>]"
      ]
     },
     "execution_count": 20,
     "metadata": {},
     "output_type": "execute_result"
    },
    {
     "data": {
      "image/png": "[encoded data removed]",
      "text/plain": [
       "<Figure size 432x288 with 1 Axes>"
      ]
     },
     "metadata": {},
     "output_type": "display_data"
    }
   ],
   "source": [
    "%matplotlib inline\n",
    "plt.plot(losses)"
   ]
  },
  {
   "cell_type": "markdown",
   "metadata": {},
   "source": [
    "## Inference on test \n",
    "Notice the batch prediction which is different to previous"
   ]
  },
  {
   "cell_type": "code",
   "execution_count": 21,
   "metadata": {},
   "outputs": [],
   "source": [
    "rnn_model = build_graph(feed_previous=True, \n",
    "                        input_seq_len=input_seq_len, \n",
    "                        output_seq_len=output_seq_len, \n",
    "                        hidden_dim=hidden_dim, \n",
    "                        input_dim=input_dim, \n",
    "                        output_dim=output_dim, \n",
    "                        num_stacked_layers=num_stacked_layers, \n",
    "                        learning_rate=learning_rate,\n",
    "                        lambda_l2_reg=lambda_l2_reg,\n",
    "                        GRADIENT_CLIPPING=GRADIENT_CLIPPING)"
   ]
  },
  {
   "cell_type": "code",
   "execution_count": 22,
   "metadata": {
    "scrolled": false
   },
   "outputs": [
    {
     "name": "stdout",
     "output_type": "stream",
     "text": [
      "INFO:tensorflow:Restoring parameters from ./seq2seq/new_multi_variable_model_results/multivariate_ts_pollution_case\n",
      "Test mse is:  2.9879998071315845\n"
     ]
    }
   ],
   "source": [
    "init = tf.global_variables_initializer()\n",
    "with tf.Session() as sess:\n",
    "\n",
    "    sess.run(init)\n",
    "    \n",
    "    saver = rnn_model['saver']().restore(sess,  os.path.join('./seq2seq/new_multi_variable_model_results/', 'multivariate_ts_pollution_case'))\n",
    "    \n",
    "    feed_dict = {rnn_model['enc_inp'][t]: test_x[:, t, :] for t in range(input_seq_len)} # batch prediction\n",
    "    feed_dict.update({rnn_model['target_seq'][t]: np.zeros([test_x.shape[0], output_dim], dtype=np.float32) for t in range(output_seq_len)})\n",
    "    final_preds = sess.run(rnn_model['reshaped_outputs'], feed_dict)\n",
    "    \n",
    "    final_preds = [np.expand_dims(pred, 1) for pred in final_preds]\n",
    "    final_preds = np.concatenate(final_preds, axis = 1)\n",
    "    print(\"Test mse is: \", np.mean((final_preds - test_y)**2))"
   ]
  },
  {
   "cell_type": "code",
   "execution_count": 23,
   "metadata": {},
   "outputs": [
    {
     "name": "stdout",
     "output_type": "stream",
     "text": [
      "Shape of predictions is  (17, 48, 105)\n"
     ]
    }
   ],
   "source": [
    "print(\"Shape of predictions is \",final_preds.shape)"
   ]
  },
  {
   "cell_type": "markdown",
   "metadata": {},
   "source": [
    "### Example of many featutres"
   ]
  },
  {
   "cell_type": "code",
   "execution_count": null,
   "metadata": {},
   "outputs": [],
   "source": [
    "output_ = []\n",
    "for station in station_list : \n",
    "    for aq_feature in y_aq_list :\n",
    "        output_features.append(station + \"_\" + aq_feature)"
   ]
  },
  {
   "cell_type": "code",
   "execution_count": null,
   "metadata": {},
   "outputs": [],
   "source": [
    "print(output_features)"
   ]
  },
  {
   "cell_type": "code",
   "execution_count": 15,
   "metadata": {
    "scrolled": false
   },
   "outputs": [
    {
     "data": {
      "image/png": "[encoded data removed]",
      "text/plain": [
       "<Figure size 432x288 with 1 Axes>"
      ]
     },
     "metadata": {},
     "output_type": "display_data"
    },
    {
     "data": {
      "image/png": "[encoded data removed]",
      "text/plain": [
       "<Figure size 432x288 with 1 Axes>"
      ]
     },
     "metadata": {},
     "output_type": "display_data"
    },
    {
     "data": {
      "image/png": "[encoded data removed]",
      "text/plain": [
       "<Figure size 432x288 with 1 Axes>"
      ]
     },
     "metadata": {},
     "output_type": "display_data"
    }
   ],
   "source": [
    "# 预测值普遍在 O3 上表现较好，另外两个参数　PM2.5 和　PM10 上通常捕捉不到高频分量\n",
    "for i in range(len(output_features)):\n",
    "    plot_forecast_and_actual_example(test_x, test_y, final_preds, output_features, index=0, feature_index=i)"
   ]
  },
  {
   "cell_type": "markdown",
   "metadata": {},
   "source": [
    "### 某个特征在整个dev数据集时间跨度上的表现"
   ]
  },
  {
   "cell_type": "code",
   "execution_count": 16,
   "metadata": {},
   "outputs": [
    {
     "data": {
      "image/png": "[encoded data removed]",
      "text/plain": [
       "<Figure size 432x288 with 1 Axes>"
      ]
     },
     "metadata": {},
     "output_type": "display_data"
    }
   ],
   "source": [
    "## remove duplicate hours and concatenate into one long array\n",
    "feature_index = 0\n",
    "test_y_expand = np.concatenate([test_y[i,:,feature_index] for i in range(0, test_y.shape[0], output_seq_len)], axis = 0)\n",
    "final_preds_expand = np.concatenate([final_preds[i,:,feature_index] for i in range(0, final_preds.shape[0], output_seq_len)], axis = 0)\n",
    "plt.plot(final_preds_expand, color = 'orange', label = 'predicted')\n",
    "plt.plot(test_y_expand, color = 'blue', label = 'actual')\n",
    "plt.title(\"test data - one month\")\n",
    "plt.legend(loc=\"upper left\")\n",
    "plt.show()"
   ]
  },
  {
   "cell_type": "markdown",
   "metadata": {},
   "source": [
    "### Smapes of all features"
   ]
  },
  {
   "cell_type": "code",
   "execution_count": 42,
   "metadata": {
    "scrolled": false
   },
   "outputs": [
    {
     "ename": "NameError",
     "evalue": "name 'y_mean' is not defined",
     "output_type": "error",
     "traceback": [
      "\u001b[0;31m---------------------------------------------------------------------------\u001b[0m",
      "\u001b[0;31mNameError\u001b[0m                                 Traceback (most recent call last)",
      "\u001b[0;32m<ipython-input-42-da55bfb806b5>\u001b[0m in \u001b[0;36m<module>\u001b[0;34m()\u001b[0m\n\u001b[0;32m----> 1\u001b[0;31m \u001b[0maver_smapes\u001b[0m\u001b[0;34m,\u001b[0m \u001b[0msmapes_of_features\u001b[0m \u001b[0;34m=\u001b[0m \u001b[0mSMAPE_on_dataset\u001b[0m\u001b[0;34m(\u001b[0m\u001b[0mtest_y\u001b[0m\u001b[0;34m,\u001b[0m \u001b[0mfinal_preds\u001b[0m\u001b[0;34m,\u001b[0m \u001b[0moutput_features\u001b[0m\u001b[0;34m,\u001b[0m \u001b[0my_mean\u001b[0m\u001b[0;34m,\u001b[0m \u001b[0my_std\u001b[0m\u001b[0;34m,\u001b[0m \u001b[0;36m24\u001b[0m\u001b[0;34m)\u001b[0m\u001b[0;34m\u001b[0m\u001b[0m\n\u001b[0m",
      "\u001b[0;31mNameError\u001b[0m: name 'y_mean' is not defined"
     ]
    }
   ],
   "source": [
    "aver_smapes, smapes_of_features = SMAPE_on_dataset(test_y, final_preds, output_features, y_mean, y_std, 24)"
   ]
  },
  {
   "cell_type": "code",
   "execution_count": 26,
   "metadata": {
    "scrolled": false
   },
   "outputs": [
    {
     "data": {
      "text/plain": [
       "{'aotizhongxin_aq_O3': 0.9033747953147865,\n",
       " 'aotizhongxin_aq_PM10': 0.5718946270291979,\n",
       " 'aotizhongxin_aq_PM2.5': 0.7457085716015857,\n",
       " 'badaling_aq_O3': 0.8041749469633239,\n",
       " 'badaling_aq_PM10': 0.5564821160654873,\n",
       " 'badaling_aq_PM2.5': 0.7049697537670129,\n",
       " 'beibuxinqu_aq_O3': 1.0420253121274101,\n",
       " 'beibuxinqu_aq_PM10': 0.5902215043625896,\n",
       " 'beibuxinqu_aq_PM2.5': 0.7866312659997835,\n",
       " 'daxing_aq_O3': 0.9610806103375031,\n",
       " 'daxing_aq_PM10': 0.5462000516832216,\n",
       " 'daxing_aq_PM2.5': 0.7143493858469224,\n",
       " 'dingling_aq_O3': 0.6047706707798631,\n",
       " 'dingling_aq_PM10': 0.5550950702163014,\n",
       " 'dingling_aq_PM2.5': 0.8088193923510388,\n",
       " 'donggaocun_aq_O3': 0.6080458117167155,\n",
       " 'donggaocun_aq_PM10': 0.5778800265374652,\n",
       " 'donggaocun_aq_PM2.5': 0.705846603198253,\n",
       " 'dongsi_aq_O3': 0.9123188588253756,\n",
       " 'dongsi_aq_PM10': 0.5068988974290636,\n",
       " 'dongsi_aq_PM2.5': 0.6625081860635338,\n",
       " 'dongsihuan_aq_O3': 1.0957649180244609,\n",
       " 'dongsihuan_aq_PM10': 0.7569836099165018,\n",
       " 'dongsihuan_aq_PM2.5': 0.7288406831512004,\n",
       " 'fangshan_aq_O3': 0.8492580147747525,\n",
       " 'fangshan_aq_PM10': 0.5362559423393226,\n",
       " 'fangshan_aq_PM2.5': 0.6644765439110802,\n",
       " 'fengtaihuayuan_aq_O3': 1.003846935173673,\n",
       " 'fengtaihuayuan_aq_PM10': 0.551752432203898,\n",
       " 'fengtaihuayuan_aq_PM2.5': 0.687744457956737,\n",
       " 'guanyuan_aq_O3': 0.9719995434619216,\n",
       " 'guanyuan_aq_PM10': 0.5690199667892145,\n",
       " 'guanyuan_aq_PM2.5': 0.7132882445667695,\n",
       " 'gucheng_aq_O3': 0.909223468288269,\n",
       " 'gucheng_aq_PM10': 0.5663789321309736,\n",
       " 'gucheng_aq_PM2.5': 0.6803990343292052,\n",
       " 'huairou_aq_O3': 0.5802696830261344,\n",
       " 'huairou_aq_PM10': 0.5561100789398733,\n",
       " 'huairou_aq_PM2.5': 0.8603334572979998,\n",
       " 'liulihe_aq_O3': 0.7977973723139163,\n",
       " 'liulihe_aq_PM10': 0.5531138034891675,\n",
       " 'liulihe_aq_PM2.5': 0.7004253516554328,\n",
       " 'mentougou_aq_O3': 0.7503189397230879,\n",
       " 'mentougou_aq_PM10': 0.5118430919625613,\n",
       " 'mentougou_aq_PM2.5': 0.6781060611469277,\n",
       " 'miyun_aq_O3': 0.7517974775667824,\n",
       " 'miyun_aq_PM10': 0.5720041332388016,\n",
       " 'miyun_aq_PM2.5': 0.750998922409996,\n",
       " 'miyunshuiku_aq_O3': 0.5200777152208674,\n",
       " 'miyunshuiku_aq_PM10': 0.6750911593921888,\n",
       " 'miyunshuiku_aq_PM2.5': 0.7424036046305588,\n",
       " 'nansanhuan_aq_O3': 0.9772105703209396,\n",
       " 'nansanhuan_aq_PM10': 0.510411690312652,\n",
       " 'nansanhuan_aq_PM2.5': 0.7645283747963796,\n",
       " 'nongzhanguan_aq_O3': 0.9035608144607169,\n",
       " 'nongzhanguan_aq_PM10': 0.5683286617408375,\n",
       " 'nongzhanguan_aq_PM2.5': 0.6949633444241264,\n",
       " 'pingchang_aq_O3': 0.7815834699904917,\n",
       " 'pingchang_aq_PM10': 0.6095905591376577,\n",
       " 'pingchang_aq_PM2.5': 0.7627113625476434,\n",
       " 'pinggu_aq_O3': 0.6440688324295769,\n",
       " 'pinggu_aq_PM10': 0.47431074240461174,\n",
       " 'pinggu_aq_PM2.5': 0.6908644737182587,\n",
       " 'qianmen_aq_O3': 0.8784460569496207,\n",
       " 'qianmen_aq_PM10': 0.5651074224881806,\n",
       " 'qianmen_aq_PM2.5': 0.6918327669176191,\n",
       " 'shunyi_aq_O3': 0.6928484396443801,\n",
       " 'shunyi_aq_PM10': 0.5493245225229699,\n",
       " 'shunyi_aq_PM2.5': 0.7592032078753354,\n",
       " 'tiantan_aq_O3': 0.8721444198393012,\n",
       " 'tiantan_aq_PM10': 0.6737699043108106,\n",
       " 'tiantan_aq_PM2.5': 0.7117689158751451,\n",
       " 'tongzhou_aq_O3': 0.8704845593836329,\n",
       " 'tongzhou_aq_PM10': 0.5210575908007969,\n",
       " 'tongzhou_aq_PM2.5': 0.7004055640616172,\n",
       " 'wanliu_aq_O3': 0.8595400219296572,\n",
       " 'wanliu_aq_PM10': 0.5318353932272494,\n",
       " 'wanliu_aq_PM2.5': 0.6902264321795174,\n",
       " 'wanshouxigong_aq_O3': 0.9019263818349911,\n",
       " 'wanshouxigong_aq_PM10': 0.5201467189872863,\n",
       " 'wanshouxigong_aq_PM2.5': 0.7391251594394334,\n",
       " 'xizhimenbei_aq_O3': 0.9968329287260439,\n",
       " 'xizhimenbei_aq_PM10': 0.5265753516519688,\n",
       " 'xizhimenbei_aq_PM2.5': 0.7181248154283768,\n",
       " 'yanqin_aq_O3': 0.6974976475644342,\n",
       " 'yanqin_aq_PM10': 0.5594930212898243,\n",
       " 'yanqin_aq_PM2.5': 0.6521945438085203,\n",
       " 'yizhuang_aq_O3': 0.8372649912170221,\n",
       " 'yizhuang_aq_PM10': 0.5409093813337205,\n",
       " 'yizhuang_aq_PM2.5': 0.6605662118843939,\n",
       " 'yongdingmennei_aq_O3': 0.967973431378442,\n",
       " 'yongdingmennei_aq_PM10': 0.5581431085978893,\n",
       " 'yongdingmennei_aq_PM2.5': 0.7262465424824406,\n",
       " 'yongledian_aq_O3': 1.0042632790661716,\n",
       " 'yongledian_aq_PM10': 0.5854089078535107,\n",
       " 'yongledian_aq_PM2.5': 0.6177550502476202,\n",
       " 'yufa_aq_O3': 0.8371016100003708,\n",
       " 'yufa_aq_PM10': 0.6085226903866429,\n",
       " 'yufa_aq_PM2.5': 0.6392574523701587,\n",
       " 'yungang_aq_O3': 0.6570755800864471,\n",
       " 'yungang_aq_PM10': 0.5061220730925287,\n",
       " 'yungang_aq_PM2.5': 0.6571416453893543,\n",
       " 'zhiwuyuan_aq_O3': 0.7825131339910726,\n",
       " 'zhiwuyuan_aq_PM10': 0.8647723234788893,\n",
       " 'zhiwuyuan_aq_PM2.5': 1.2028103760911886}"
      ]
     },
     "execution_count": 26,
     "metadata": {},
     "output_type": "execute_result"
    }
   ],
   "source": [
    "# smape value on all features\n",
    "smapes_of_features"
   ]
  },
  {
   "cell_type": "code",
   "execution_count": 27,
   "metadata": {},
   "outputs": [
    {
     "name": "stdout",
     "output_type": "stream",
     "text": [
      "The average smape on all features in the dev set is :  0.7111534524687351\n"
     ]
    }
   ],
   "source": [
    "print(\"The average smape on all features in the dev set is : \",aver_smapes)"
   ]
  },
  {
   "cell_type": "markdown",
   "metadata": {
    "collapsed": true
   },
   "source": [
    "# ChangeLog\n",
    "- 0419 \n",
    "    - 修正了 SMAPE 计算方法，将 正则化的因素考虑进去\n",
    "    - 整理了多变量 seq2seq 模型，验证集上 SMAPE 为 0.709  "
   ]
  },
  {
   "cell_type": "code",
   "execution_count": null,
   "metadata": {
    "collapsed": true
   },
   "outputs": [],
   "source": []
  }
 ],
 "metadata": {
  "kernelspec": {
   "display_name": "Python 3",
   "language": "python",
   "name": "python3"
  },
  "language_info": {
   "codemirror_mode": {
    "name": "ipython",
    "version": 3
   },
   "file_extension": ".py",
   "mimetype": "text/x-python",
   "name": "python",
   "nbconvert_exporter": "python",
   "pygments_lexer": "ipython3",
   "version": "3.5.2"
  }
 },
 "nbformat": 4,
 "nbformat_minor": 2
}
