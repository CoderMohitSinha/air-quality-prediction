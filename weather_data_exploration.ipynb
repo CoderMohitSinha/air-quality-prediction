{
 "cells": [
  {
   "cell_type": "markdown",
   "metadata": {},
   "source": [
    "- 观测气象数据\n",
    "    - 8782 data for every meo station, 158048 data for all 18 stations\n",
    "    - 2017:01:30 16:00 - 2018:01:31 15:00 \n",
    "- 网格气象数据\n",
    "    - 10806 data for every grid meo station, 7034706 for all 651 grid points\n",
    "    - 2017:01:01 0:00 - 2018:03:27 5:00 \n",
    "- 空气质量数据\n",
    "    - 10298 data for 35 stations\n",
    "    - 2017:01:01 14:00 - 2018:03:31 15:00 "
   ]
  },
  {
   "cell_type": "code",
   "execution_count": 55,
   "metadata": {},
   "outputs": [
    {
     "name": "stdout",
     "output_type": "stream",
     "text": [
      "The autoreload extension is already loaded. To reload it, use:\n",
      "  %reload_ext autoreload\n"
     ]
    }
   ],
   "source": [
    "%load_ext autoreload\n",
    "%autoreload 2\n",
    "\n",
    "import datetime\n",
    "import numpy as np\n",
    "import pandas as pd\n",
    "from matplotlib import pyplot as plt\n",
    "\n",
    "from utils.weather_data_util import get_station_locations, get_location_lists\n",
    "from utils.weather_data_util import find_nearst_meo_station_name, get_related_meo_dfs\n",
    "from utils.data_util import parse_bj_aq_data\n",
    "\n",
    "%matplotlib inline"
   ]
  },
  {
   "cell_type": "code",
   "execution_count": 2,
   "metadata": {
    "collapsed": true
   },
   "outputs": [],
   "source": [
    "# 观测气象数据\n",
    "bj_meo_all = pd.read_csv(\"./KDD_CUP_2018/Beijing/meo/beijing_17_18_meo.csv\")\n",
    "# 网格气象数据\n",
    "bj_grid_meo_all = pd.read_csv(\"./KDD_CUP_2018/Beijing/grid_meo/Beijing_historical_meo_grid.csv\")\n",
    "# 空气质量站点\n",
    "aq_station_locations = pd.read_excel(\"./KDD_CUP_2018/Beijing/location/Beijing_AirQuality_Stations_locations.xlsx\", sheet_name=1)"
   ]
  },
  {
   "cell_type": "code",
   "execution_count": 3,
   "metadata": {},
   "outputs": [
    {
     "name": "stdout",
     "output_type": "stream",
     "text": [
      "(158047, 10) (7034706, 9)\n"
     ]
    }
   ],
   "source": [
    "print(bj_meo_all.shape, bj_grid_meo_all.shape)"
   ]
  },
  {
   "cell_type": "code",
   "execution_count": 4,
   "metadata": {},
   "outputs": [
    {
     "data": {
      "text/html": [
       "<div>\n",
       "<style>\n",
       "    .dataframe thead tr:only-child th {\n",
       "        text-align: right;\n",
       "    }\n",
       "\n",
       "    .dataframe thead th {\n",
       "        text-align: left;\n",
       "    }\n",
       "\n",
       "    .dataframe tbody tr th {\n",
       "        vertical-align: top;\n",
       "    }\n",
       "</style>\n",
       "<table border=\"1\" class=\"dataframe\">\n",
       "  <thead>\n",
       "    <tr style=\"text-align: right;\">\n",
       "      <th></th>\n",
       "      <th>stationName</th>\n",
       "      <th>longitude</th>\n",
       "      <th>latitude</th>\n",
       "    </tr>\n",
       "  </thead>\n",
       "  <tbody>\n",
       "    <tr>\n",
       "      <th>0</th>\n",
       "      <td>dongsi_aq</td>\n",
       "      <td>116.417</td>\n",
       "      <td>39.929</td>\n",
       "    </tr>\n",
       "    <tr>\n",
       "      <th>1</th>\n",
       "      <td>tiantan_aq</td>\n",
       "      <td>116.407</td>\n",
       "      <td>39.886</td>\n",
       "    </tr>\n",
       "    <tr>\n",
       "      <th>2</th>\n",
       "      <td>guanyuan_aq</td>\n",
       "      <td>116.339</td>\n",
       "      <td>39.929</td>\n",
       "    </tr>\n",
       "    <tr>\n",
       "      <th>3</th>\n",
       "      <td>wanshouxigong_aq</td>\n",
       "      <td>116.352</td>\n",
       "      <td>39.878</td>\n",
       "    </tr>\n",
       "    <tr>\n",
       "      <th>4</th>\n",
       "      <td>aotizhongxin_aq</td>\n",
       "      <td>116.397</td>\n",
       "      <td>39.982</td>\n",
       "    </tr>\n",
       "  </tbody>\n",
       "</table>\n",
       "</div>"
      ],
      "text/plain": [
       "        stationName  longitude  latitude\n",
       "0         dongsi_aq    116.417    39.929\n",
       "1        tiantan_aq    116.407    39.886\n",
       "2       guanyuan_aq    116.339    39.929\n",
       "3  wanshouxigong_aq    116.352    39.878\n",
       "4   aotizhongxin_aq    116.397    39.982"
      ]
     },
     "execution_count": 4,
     "metadata": {},
     "output_type": "execute_result"
    }
   ],
   "source": [
    "aq_station_locations.head()"
   ]
  },
  {
   "cell_type": "code",
   "execution_count": 5,
   "metadata": {},
   "outputs": [
    {
     "data": {
      "text/html": [
       "<div>\n",
       "<style>\n",
       "    .dataframe thead tr:only-child th {\n",
       "        text-align: right;\n",
       "    }\n",
       "\n",
       "    .dataframe thead th {\n",
       "        text-align: left;\n",
       "    }\n",
       "\n",
       "    .dataframe tbody tr th {\n",
       "        vertical-align: top;\n",
       "    }\n",
       "</style>\n",
       "<table border=\"1\" class=\"dataframe\">\n",
       "  <thead>\n",
       "    <tr style=\"text-align: right;\">\n",
       "      <th></th>\n",
       "      <th>station_id</th>\n",
       "      <th>longitude</th>\n",
       "      <th>latitude</th>\n",
       "      <th>utc_time</th>\n",
       "      <th>temperature</th>\n",
       "      <th>pressure</th>\n",
       "      <th>humidity</th>\n",
       "      <th>wind_direction</th>\n",
       "      <th>wind_speed</th>\n",
       "      <th>weather</th>\n",
       "    </tr>\n",
       "  </thead>\n",
       "  <tbody>\n",
       "    <tr>\n",
       "      <th>0</th>\n",
       "      <td>shunyi_meo</td>\n",
       "      <td>116.615278</td>\n",
       "      <td>40.126667</td>\n",
       "      <td>2017-01-30 16:00:00</td>\n",
       "      <td>-1.7</td>\n",
       "      <td>1028.7</td>\n",
       "      <td>15</td>\n",
       "      <td>215.0</td>\n",
       "      <td>1.6</td>\n",
       "      <td>Sunny/clear</td>\n",
       "    </tr>\n",
       "    <tr>\n",
       "      <th>1</th>\n",
       "      <td>shunyi_meo</td>\n",
       "      <td>116.615278</td>\n",
       "      <td>40.126667</td>\n",
       "      <td>2017-01-30 17:00:00</td>\n",
       "      <td>-3.5</td>\n",
       "      <td>1028.4</td>\n",
       "      <td>24</td>\n",
       "      <td>16.0</td>\n",
       "      <td>1.0</td>\n",
       "      <td>Haze</td>\n",
       "    </tr>\n",
       "    <tr>\n",
       "      <th>2</th>\n",
       "      <td>shunyi_meo</td>\n",
       "      <td>116.615278</td>\n",
       "      <td>40.126667</td>\n",
       "      <td>2017-01-30 18:00:00</td>\n",
       "      <td>-3.7</td>\n",
       "      <td>1028.1</td>\n",
       "      <td>27</td>\n",
       "      <td>32.0</td>\n",
       "      <td>1.1</td>\n",
       "      <td>Haze</td>\n",
       "    </tr>\n",
       "    <tr>\n",
       "      <th>3</th>\n",
       "      <td>shunyi_meo</td>\n",
       "      <td>116.615278</td>\n",
       "      <td>40.126667</td>\n",
       "      <td>2017-01-30 19:00:00</td>\n",
       "      <td>-3.9</td>\n",
       "      <td>1027.6</td>\n",
       "      <td>27</td>\n",
       "      <td>21.0</td>\n",
       "      <td>0.9</td>\n",
       "      <td>Haze</td>\n",
       "    </tr>\n",
       "    <tr>\n",
       "      <th>4</th>\n",
       "      <td>shunyi_meo</td>\n",
       "      <td>116.615278</td>\n",
       "      <td>40.126667</td>\n",
       "      <td>2017-01-30 20:00:00</td>\n",
       "      <td>-4.1</td>\n",
       "      <td>1026.7</td>\n",
       "      <td>26</td>\n",
       "      <td>17.0</td>\n",
       "      <td>1.1</td>\n",
       "      <td>Haze</td>\n",
       "    </tr>\n",
       "  </tbody>\n",
       "</table>\n",
       "</div>"
      ],
      "text/plain": [
       "   station_id   longitude   latitude             utc_time  temperature  \\\n",
       "0  shunyi_meo  116.615278  40.126667  2017-01-30 16:00:00         -1.7   \n",
       "1  shunyi_meo  116.615278  40.126667  2017-01-30 17:00:00         -3.5   \n",
       "2  shunyi_meo  116.615278  40.126667  2017-01-30 18:00:00         -3.7   \n",
       "3  shunyi_meo  116.615278  40.126667  2017-01-30 19:00:00         -3.9   \n",
       "4  shunyi_meo  116.615278  40.126667  2017-01-30 20:00:00         -4.1   \n",
       "\n",
       "   pressure  humidity  wind_direction  wind_speed      weather  \n",
       "0    1028.7        15           215.0         1.6  Sunny/clear  \n",
       "1    1028.4        24            16.0         1.0         Haze  \n",
       "2    1028.1        27            32.0         1.1         Haze  \n",
       "3    1027.6        27            21.0         0.9         Haze  \n",
       "4    1026.7        26            17.0         1.1         Haze  "
      ]
     },
     "execution_count": 5,
     "metadata": {},
     "output_type": "execute_result"
    }
   ],
   "source": [
    "bj_meo_all.head()"
   ]
  },
  {
   "cell_type": "code",
   "execution_count": 6,
   "metadata": {
    "scrolled": true
   },
   "outputs": [
    {
     "data": {
      "text/html": [
       "<div>\n",
       "<style>\n",
       "    .dataframe thead tr:only-child th {\n",
       "        text-align: right;\n",
       "    }\n",
       "\n",
       "    .dataframe thead th {\n",
       "        text-align: left;\n",
       "    }\n",
       "\n",
       "    .dataframe tbody tr th {\n",
       "        vertical-align: top;\n",
       "    }\n",
       "</style>\n",
       "<table border=\"1\" class=\"dataframe\">\n",
       "  <thead>\n",
       "    <tr style=\"text-align: right;\">\n",
       "      <th></th>\n",
       "      <th>stationName</th>\n",
       "      <th>longitude</th>\n",
       "      <th>latitude</th>\n",
       "      <th>utc_time</th>\n",
       "      <th>temperature</th>\n",
       "      <th>pressure</th>\n",
       "      <th>humidity</th>\n",
       "      <th>wind_direction</th>\n",
       "      <th>wind_speed/kph</th>\n",
       "    </tr>\n",
       "  </thead>\n",
       "  <tbody>\n",
       "    <tr>\n",
       "      <th>0</th>\n",
       "      <td>beijing_grid_000</td>\n",
       "      <td>115.0</td>\n",
       "      <td>39.0</td>\n",
       "      <td>2017-01-01 00:00:00</td>\n",
       "      <td>-5.47</td>\n",
       "      <td>984.73</td>\n",
       "      <td>76.60</td>\n",
       "      <td>53.71</td>\n",
       "      <td>3.53</td>\n",
       "    </tr>\n",
       "    <tr>\n",
       "      <th>1</th>\n",
       "      <td>beijing_grid_001</td>\n",
       "      <td>115.0</td>\n",
       "      <td>39.1</td>\n",
       "      <td>2017-01-01 00:00:00</td>\n",
       "      <td>-5.53</td>\n",
       "      <td>979.33</td>\n",
       "      <td>75.40</td>\n",
       "      <td>43.59</td>\n",
       "      <td>3.11</td>\n",
       "    </tr>\n",
       "    <tr>\n",
       "      <th>2</th>\n",
       "      <td>beijing_grid_002</td>\n",
       "      <td>115.0</td>\n",
       "      <td>39.2</td>\n",
       "      <td>2017-01-01 00:00:00</td>\n",
       "      <td>-5.70</td>\n",
       "      <td>963.14</td>\n",
       "      <td>71.80</td>\n",
       "      <td>0.97</td>\n",
       "      <td>2.75</td>\n",
       "    </tr>\n",
       "    <tr>\n",
       "      <th>3</th>\n",
       "      <td>beijing_grid_003</td>\n",
       "      <td>115.0</td>\n",
       "      <td>39.3</td>\n",
       "      <td>2017-01-01 00:00:00</td>\n",
       "      <td>-5.88</td>\n",
       "      <td>946.94</td>\n",
       "      <td>68.20</td>\n",
       "      <td>327.65</td>\n",
       "      <td>3.84</td>\n",
       "    </tr>\n",
       "    <tr>\n",
       "      <th>4</th>\n",
       "      <td>beijing_grid_004</td>\n",
       "      <td>115.0</td>\n",
       "      <td>39.4</td>\n",
       "      <td>2017-01-01 00:00:00</td>\n",
       "      <td>-5.34</td>\n",
       "      <td>928.80</td>\n",
       "      <td>58.81</td>\n",
       "      <td>317.85</td>\n",
       "      <td>6.14</td>\n",
       "    </tr>\n",
       "  </tbody>\n",
       "</table>\n",
       "</div>"
      ],
      "text/plain": [
       "        stationName  longitude  latitude             utc_time  temperature  \\\n",
       "0  beijing_grid_000      115.0      39.0  2017-01-01 00:00:00        -5.47   \n",
       "1  beijing_grid_001      115.0      39.1  2017-01-01 00:00:00        -5.53   \n",
       "2  beijing_grid_002      115.0      39.2  2017-01-01 00:00:00        -5.70   \n",
       "3  beijing_grid_003      115.0      39.3  2017-01-01 00:00:00        -5.88   \n",
       "4  beijing_grid_004      115.0      39.4  2017-01-01 00:00:00        -5.34   \n",
       "\n",
       "   pressure  humidity  wind_direction  wind_speed/kph  \n",
       "0    984.73     76.60           53.71            3.53  \n",
       "1    979.33     75.40           43.59            3.11  \n",
       "2    963.14     71.80            0.97            2.75  \n",
       "3    946.94     68.20          327.65            3.84  \n",
       "4    928.80     58.81          317.85            6.14  "
      ]
     },
     "execution_count": 6,
     "metadata": {},
     "output_type": "execute_result"
    }
   ],
   "source": [
    "bj_grid_meo_all.head()"
   ]
  },
  {
   "cell_type": "code",
   "execution_count": 7,
   "metadata": {},
   "outputs": [
    {
     "data": {
      "text/html": [
       "<div>\n",
       "<style>\n",
       "    .dataframe thead tr:only-child th {\n",
       "        text-align: right;\n",
       "    }\n",
       "\n",
       "    .dataframe thead th {\n",
       "        text-align: left;\n",
       "    }\n",
       "\n",
       "    .dataframe tbody tr th {\n",
       "        vertical-align: top;\n",
       "    }\n",
       "</style>\n",
       "<table border=\"1\" class=\"dataframe\">\n",
       "  <thead>\n",
       "    <tr style=\"text-align: right;\">\n",
       "      <th></th>\n",
       "      <th>stationName</th>\n",
       "      <th>longitude</th>\n",
       "      <th>latitude</th>\n",
       "      <th>utc_time</th>\n",
       "      <th>temperature</th>\n",
       "      <th>pressure</th>\n",
       "      <th>humidity</th>\n",
       "      <th>wind_direction</th>\n",
       "      <th>wind_speed/kph</th>\n",
       "    </tr>\n",
       "  </thead>\n",
       "  <tbody>\n",
       "    <tr>\n",
       "      <th>7034703</th>\n",
       "      <td>beijing_grid_648</td>\n",
       "      <td>118.0</td>\n",
       "      <td>40.8</td>\n",
       "      <td>2018-03-27 05:00:00</td>\n",
       "      <td>22.64</td>\n",
       "      <td>945.85</td>\n",
       "      <td>23.57</td>\n",
       "      <td>206.12</td>\n",
       "      <td>16.94</td>\n",
       "    </tr>\n",
       "    <tr>\n",
       "      <th>7034704</th>\n",
       "      <td>beijing_grid_649</td>\n",
       "      <td>118.0</td>\n",
       "      <td>40.9</td>\n",
       "      <td>2018-03-27 05:00:00</td>\n",
       "      <td>22.71</td>\n",
       "      <td>943.67</td>\n",
       "      <td>22.23</td>\n",
       "      <td>213.17</td>\n",
       "      <td>18.38</td>\n",
       "    </tr>\n",
       "    <tr>\n",
       "      <th>7034705</th>\n",
       "      <td>beijing_grid_650</td>\n",
       "      <td>118.0</td>\n",
       "      <td>41.0</td>\n",
       "      <td>2018-03-27 05:00:00</td>\n",
       "      <td>22.73</td>\n",
       "      <td>942.95</td>\n",
       "      <td>21.78</td>\n",
       "      <td>215.27</td>\n",
       "      <td>18.91</td>\n",
       "    </tr>\n",
       "  </tbody>\n",
       "</table>\n",
       "</div>"
      ],
      "text/plain": [
       "              stationName  longitude  latitude             utc_time  \\\n",
       "7034703  beijing_grid_648      118.0      40.8  2018-03-27 05:00:00   \n",
       "7034704  beijing_grid_649      118.0      40.9  2018-03-27 05:00:00   \n",
       "7034705  beijing_grid_650      118.0      41.0  2018-03-27 05:00:00   \n",
       "\n",
       "         temperature  pressure  humidity  wind_direction  wind_speed/kph  \n",
       "7034703        22.64    945.85     23.57          206.12           16.94  \n",
       "7034704        22.71    943.67     22.23          213.17           18.38  \n",
       "7034705        22.73    942.95     21.78          215.27           18.91  "
      ]
     },
     "execution_count": 7,
     "metadata": {},
     "output_type": "execute_result"
    }
   ],
   "source": [
    "bj_grid_meo_all.tail(3)"
   ]
  },
  {
   "cell_type": "code",
   "execution_count": 8,
   "metadata": {
    "collapsed": true,
    "scrolled": true
   },
   "outputs": [],
   "source": [
    "# 暂时使用 0 替换缺失的风向\n",
    "bj_meo_all.replace(999017,0, inplace=True)"
   ]
  },
  {
   "cell_type": "markdown",
   "metadata": {},
   "source": [
    "### 2. 站点位置"
   ]
  },
  {
   "cell_type": "code",
   "execution_count": 9,
   "metadata": {},
   "outputs": [
    {
     "name": "stdout",
     "output_type": "stream",
     "text": [
      "There are 18 meo stations in Beijing.\n",
      "There are 651 grid meo stations in Beijing.\n",
      "There are 35 air quality stations in Beijing.\n"
     ]
    }
   ],
   "source": [
    "bj_grid_meo = bj_grid_meo_all.head(651)  # 因为一共只有 651 个 grid\n",
    "\n",
    "meo_locations = get_station_locations(bj_meo_all)\n",
    "grid_meo_locations = get_station_locations(bj_grid_meo)\n",
    "aq_locations = get_station_locations(aq_station_locations)\n",
    "\n",
    "\n",
    "print(\"There are %d meo stations in Beijing.\" %(len(meo_locations)))\n",
    "print(\"There are %d grid meo stations in Beijing.\" %(len(grid_meo_locations)))\n",
    "print(\"There are %d air quality stations in Beijing.\" %(len(aq_locations)))"
   ]
  },
  {
   "cell_type": "code",
   "execution_count": 10,
   "metadata": {
    "collapsed": true
   },
   "outputs": [],
   "source": [
    "meo_locations_longitudes, meo_locations_latitudes = get_location_lists(meo_locations)\n",
    "grid_meo_locations_longitudes, grid_meo_locations_latitudes = get_location_lists(grid_meo_locations)\n",
    "aq_locations_longitudes, aq_locations_latitudes = get_location_lists(aq_locations)"
   ]
  },
  {
   "cell_type": "code",
   "execution_count": 11,
   "metadata": {},
   "outputs": [
    {
     "data": {
      "image/png": "[encoded data removed]",
      "text/plain": [
       "<matplotlib.figure.Figure at 0x7f5d20a8ba58>"
      ]
     },
     "metadata": {},
     "output_type": "display_data"
    }
   ],
   "source": [
    "plt.rc(\"figure\", figsize=(15,15));\n",
    "plt.plot(meo_locations_longitudes, meo_locations_latitudes, \"go\", label=\"meo_station\");\n",
    "plt.plot(grid_meo_locations_longitudes, grid_meo_locations_latitudes, \"bo\", label=\"grid_meo\");\n",
    "plt.plot(aq_locations_longitudes, aq_locations_latitudes, \"ro\", label=\"aq_station\");\n",
    "plt.legend();"
   ]
  },
  {
   "cell_type": "markdown",
   "metadata": {},
   "source": [
    "- 由于点非常密集，暂时不使用插值的方式，而是直接选用和 aq_station 最近的 meo_station 的天气值作为 aq_station 的天气值\n",
    "- 同时，由于`观测气象数据`采集的时间短于空气质量数据，因此只使用`网格气象数据`\n",
    "- 注意，与`观测气象数据`相比，`网格气象数据`没有`weather`属性"
   ]
  },
  {
   "cell_type": "code",
   "execution_count": 12,
   "metadata": {
    "collapsed": true
   },
   "outputs": [],
   "source": [
    "aq_station_nearest_meo_station = {}\n",
    "\n",
    "# 暂时只使用 网格气象数据\n",
    "# stations = meo_locations + grid_meo_locations\n",
    "stations = grid_meo_locations\n",
    "\n",
    "for aq_station in aq_locations:\n",
    "    nearest_meo_station_name = find_nearst_meo_station_name(aq_station, stations)\n",
    "    aq_station_nearest_meo_station[aq_station[0]] = nearest_meo_station_name"
   ]
  },
  {
   "cell_type": "code",
   "execution_count": 13,
   "metadata": {},
   "outputs": [
    {
     "data": {
      "text/plain": [
       "{'aotizhongxin_aq': 'beijing_grid_304',\n",
       " 'badaling_aq': 'beijing_grid_224',\n",
       " 'beibuxinqu_aq': 'beijing_grid_263',\n",
       " 'daxing_aq': 'beijing_grid_301',\n",
       " 'dingling_aq': 'beijing_grid_265',\n",
       " 'donggaocun_aq': 'beijing_grid_452',\n",
       " 'dongsi_aq': 'beijing_grid_303',\n",
       " 'dongsihuan_aq': 'beijing_grid_324',\n",
       " 'fangshan_aq': 'beijing_grid_238',\n",
       " 'fengtaihuayuan_aq': 'beijing_grid_282',\n",
       " 'guanyuan_aq': 'beijing_grid_282',\n",
       " 'gucheng_aq': 'beijing_grid_261',\n",
       " 'huairou_aq': 'beijing_grid_349',\n",
       " 'liulihe_aq': 'beijing_grid_216',\n",
       " 'mentougou_aq': 'beijing_grid_240',\n",
       " 'miyun_aq': 'beijing_grid_392',\n",
       " 'miyunshuiku_aq': 'beijing_grid_414',\n",
       " 'nansanhuan_aq': 'beijing_grid_303',\n",
       " 'nongzhanguan_aq': 'beijing_grid_324',\n",
       " 'pingchang_aq': 'beijing_grid_264',\n",
       " 'pinggu_aq': 'beijing_grid_452',\n",
       " 'qianmen_aq': 'beijing_grid_303',\n",
       " 'shunyi_aq': 'beijing_grid_368',\n",
       " 'tiantan_aq': 'beijing_grid_303',\n",
       " 'tongzhou_aq': 'beijing_grid_366',\n",
       " 'wanliu_aq': 'beijing_grid_283',\n",
       " 'wanshouxigong_aq': 'beijing_grid_303',\n",
       " 'xizhimenbei_aq': 'beijing_grid_283',\n",
       " 'yanqin_aq': 'beijing_grid_225',\n",
       " 'yizhuang_aq': 'beijing_grid_323',\n",
       " 'yongdingmennei_aq': 'beijing_grid_303',\n",
       " 'yongledian_aq': 'beijing_grid_385',\n",
       " 'yufa_aq': 'beijing_grid_278',\n",
       " 'yungang_aq': 'beijing_grid_239',\n",
       " 'zhiwuyuan_aq': 'beijing_grid_262'}"
      ]
     },
     "execution_count": 13,
     "metadata": {},
     "output_type": "execute_result"
    }
   ],
   "source": [
    "# 空气质量站点 与 天气站点\n",
    "aq_station_nearest_meo_station"
   ]
  },
  {
   "cell_type": "markdown",
   "metadata": {},
   "source": [
    "对于上述字典中的键对应的 aq_station，直接使用对应的 value 作为其天气数据"
   ]
  },
  {
   "cell_type": "markdown",
   "metadata": {},
   "source": [
    "### 3. 将天气dataframe添加到空气质量dataframe"
   ]
  },
  {
   "cell_type": "code",
   "execution_count": 39,
   "metadata": {
    "collapsed": true
   },
   "outputs": [],
   "source": [
    "# related_meo_dfs : dict with aq_station_name as key and meo df as value\n",
    "related_meo_dfs = get_related_meo_dfs(aq_station_nearest_meo_station, bj_meo_all, bj_grid_meo_all)"
   ]
  },
  {
   "cell_type": "code",
   "execution_count": 44,
   "metadata": {},
   "outputs": [
    {
     "name": "stderr",
     "output_type": "stream",
     "text": [
      "/usr/local/lib/python3.5/dist-packages/ipykernel_launcher.py:6: SettingWithCopyWarning: \n",
      "A value is trying to be set on a copy of a slice from a DataFrame\n",
      "\n",
      "See the caveats in the documentation: http://pandas.pydata.org/pandas-docs/stable/indexing.html#indexing-view-versus-copy\n",
      "  \n",
      "/usr/local/lib/python3.5/dist-packages/ipykernel_launcher.py:9: SettingWithCopyWarning: \n",
      "A value is trying to be set on a copy of a slice from a DataFrame.\n",
      "Try using .loc[row_indexer,col_indexer] = value instead\n",
      "\n",
      "See the caveats in the documentation: http://pandas.pydata.org/pandas-docs/stable/indexing.html#indexing-view-versus-copy\n",
      "  if __name__ == '__main__':\n",
      "/usr/local/lib/python3.5/dist-packages/ipykernel_launcher.py:11: SettingWithCopyWarning: \n",
      "A value is trying to be set on a copy of a slice from a DataFrame\n",
      "\n",
      "See the caveats in the documentation: http://pandas.pydata.org/pandas-docs/stable/indexing.html#indexing-view-versus-copy\n",
      "  # This is added back by InteractiveShellApp.init_path()\n",
      "/usr/local/lib/python3.5/dist-packages/pandas/core/frame.py:2746: SettingWithCopyWarning: \n",
      "A value is trying to be set on a copy of a slice from a DataFrame\n",
      "\n",
      "See the caveats in the documentation: http://pandas.pydata.org/pandas-docs/stable/indexing.html#indexing-view-versus-copy\n",
      "  **kwargs)\n"
     ]
    }
   ],
   "source": [
    "# 对每一个表做一些处理，删掉没用的列，并对列名进行修改\n",
    "for key, df in related_meo_dfs.items():\n",
    "    \n",
    "    drop_list = [\"stationName\", \"longitude\", \"latitude\"]\n",
    "    for item in drop_list:\n",
    "        if item in df.columns:\n",
    "            df.drop(item, axis=1, inplace=True)\n",
    "    \n",
    "    # 将 string 类型的日期转换为 datetime 类型\n",
    "    df['format_time'] = pd.to_datetime(df['utc_time'], format='%Y-%m-%d %H:%M:%S')\n",
    "    df.set_index(\"format_time\", inplace=True)\n",
    "    df.drop(\"utc_time\", axis=1, inplace=True)\n",
    "    \n",
    "    original_names = df.columns.values.tolist()\n",
    "    names_dict = {original_name : key.split(\"_\")[0] +\"_\"+original_name for original_name in original_names}\n",
    "    df.rename(index=str, columns=names_dict, inplace=True)"
   ]
  },
  {
   "cell_type": "code",
   "execution_count": 161,
   "metadata": {
    "collapsed": true
   },
   "outputs": [],
   "source": [
    "# 融合成一个整表\n",
    "meo_merged = pd.concat(list(related_meo_dfs.values()), axis=1)"
   ]
  },
  {
   "cell_type": "code",
   "execution_count": 162,
   "metadata": {},
   "outputs": [
    {
     "name": "stdout",
     "output_type": "stream",
     "text": [
      "(10806, 175)\n"
     ]
    },
    {
     "data": {
      "text/html": [
       "<div>\n",
       "<style>\n",
       "    .dataframe thead tr:only-child th {\n",
       "        text-align: right;\n",
       "    }\n",
       "\n",
       "    .dataframe thead th {\n",
       "        text-align: left;\n",
       "    }\n",
       "\n",
       "    .dataframe tbody tr th {\n",
       "        vertical-align: top;\n",
       "    }\n",
       "</style>\n",
       "<table border=\"1\" class=\"dataframe\">\n",
       "  <thead>\n",
       "    <tr style=\"text-align: right;\">\n",
       "      <th></th>\n",
       "      <th>shunyi_temperature</th>\n",
       "      <th>shunyi_pressure</th>\n",
       "      <th>shunyi_humidity</th>\n",
       "      <th>shunyi_wind_direction</th>\n",
       "      <th>shunyi_wind_speed/kph</th>\n",
       "      <th>wanliu_temperature</th>\n",
       "      <th>wanliu_pressure</th>\n",
       "      <th>wanliu_humidity</th>\n",
       "      <th>wanliu_wind_direction</th>\n",
       "      <th>wanliu_wind_speed/kph</th>\n",
       "      <th>...</th>\n",
       "      <th>guanyuan_temperature</th>\n",
       "      <th>guanyuan_pressure</th>\n",
       "      <th>guanyuan_humidity</th>\n",
       "      <th>guanyuan_wind_direction</th>\n",
       "      <th>guanyuan_wind_speed/kph</th>\n",
       "      <th>yongledian_temperature</th>\n",
       "      <th>yongledian_pressure</th>\n",
       "      <th>yongledian_humidity</th>\n",
       "      <th>yongledian_wind_direction</th>\n",
       "      <th>yongledian_wind_speed/kph</th>\n",
       "    </tr>\n",
       "    <tr>\n",
       "      <th>format_time</th>\n",
       "      <th></th>\n",
       "      <th></th>\n",
       "      <th></th>\n",
       "      <th></th>\n",
       "      <th></th>\n",
       "      <th></th>\n",
       "      <th></th>\n",
       "      <th></th>\n",
       "      <th></th>\n",
       "      <th></th>\n",
       "      <th></th>\n",
       "      <th></th>\n",
       "      <th></th>\n",
       "      <th></th>\n",
       "      <th></th>\n",
       "      <th></th>\n",
       "      <th></th>\n",
       "      <th></th>\n",
       "      <th></th>\n",
       "      <th></th>\n",
       "      <th></th>\n",
       "    </tr>\n",
       "  </thead>\n",
       "  <tbody>\n",
       "    <tr>\n",
       "      <th>2017-01-01 00:00:00</th>\n",
       "      <td>-7.27</td>\n",
       "      <td>1023.39</td>\n",
       "      <td>77.77</td>\n",
       "      <td>187.44</td>\n",
       "      <td>2.76</td>\n",
       "      <td>-5.85</td>\n",
       "      <td>1015.90</td>\n",
       "      <td>68.60</td>\n",
       "      <td>127.99</td>\n",
       "      <td>3.54</td>\n",
       "      <td>...</td>\n",
       "      <td>-5.60</td>\n",
       "      <td>1018.74</td>\n",
       "      <td>70.31</td>\n",
       "      <td>117.25</td>\n",
       "      <td>4.01</td>\n",
       "      <td>-6.31</td>\n",
       "      <td>1024.83</td>\n",
       "      <td>84.56</td>\n",
       "      <td>332.72</td>\n",
       "      <td>0.86</td>\n",
       "    </tr>\n",
       "    <tr>\n",
       "      <th>2017-01-01 01:00:00</th>\n",
       "      <td>-4.29</td>\n",
       "      <td>1023.24</td>\n",
       "      <td>64.29</td>\n",
       "      <td>203.94</td>\n",
       "      <td>3.11</td>\n",
       "      <td>-3.11</td>\n",
       "      <td>1015.78</td>\n",
       "      <td>58.00</td>\n",
       "      <td>136.80</td>\n",
       "      <td>3.32</td>\n",
       "      <td>...</td>\n",
       "      <td>-3.04</td>\n",
       "      <td>1018.64</td>\n",
       "      <td>59.58</td>\n",
       "      <td>123.40</td>\n",
       "      <td>3.69</td>\n",
       "      <td>-3.84</td>\n",
       "      <td>1024.73</td>\n",
       "      <td>71.76</td>\n",
       "      <td>304.70</td>\n",
       "      <td>1.62</td>\n",
       "    </tr>\n",
       "    <tr>\n",
       "      <th>2017-01-01 02:00:00</th>\n",
       "      <td>-1.31</td>\n",
       "      <td>1023.08</td>\n",
       "      <td>50.80</td>\n",
       "      <td>216.29</td>\n",
       "      <td>3.67</td>\n",
       "      <td>-0.37</td>\n",
       "      <td>1015.65</td>\n",
       "      <td>47.40</td>\n",
       "      <td>146.58</td>\n",
       "      <td>3.19</td>\n",
       "      <td>...</td>\n",
       "      <td>-0.48</td>\n",
       "      <td>1018.53</td>\n",
       "      <td>48.86</td>\n",
       "      <td>130.62</td>\n",
       "      <td>3.42</td>\n",
       "      <td>-1.37</td>\n",
       "      <td>1024.62</td>\n",
       "      <td>58.96</td>\n",
       "      <td>295.43</td>\n",
       "      <td>2.51</td>\n",
       "    </tr>\n",
       "    <tr>\n",
       "      <th>2017-01-01 03:00:00</th>\n",
       "      <td>1.68</td>\n",
       "      <td>1022.92</td>\n",
       "      <td>37.32</td>\n",
       "      <td>225.13</td>\n",
       "      <td>4.34</td>\n",
       "      <td>2.37</td>\n",
       "      <td>1015.52</td>\n",
       "      <td>36.80</td>\n",
       "      <td>156.85</td>\n",
       "      <td>3.16</td>\n",
       "      <td>...</td>\n",
       "      <td>2.08</td>\n",
       "      <td>1018.42</td>\n",
       "      <td>38.13</td>\n",
       "      <td>138.92</td>\n",
       "      <td>3.22</td>\n",
       "      <td>1.10</td>\n",
       "      <td>1024.51</td>\n",
       "      <td>46.16</td>\n",
       "      <td>291.08</td>\n",
       "      <td>3.43</td>\n",
       "    </tr>\n",
       "    <tr>\n",
       "      <th>2017-01-01 04:00:00</th>\n",
       "      <td>2.73</td>\n",
       "      <td>1022.26</td>\n",
       "      <td>35.32</td>\n",
       "      <td>215.03</td>\n",
       "      <td>4.36</td>\n",
       "      <td>3.50</td>\n",
       "      <td>1014.84</td>\n",
       "      <td>34.36</td>\n",
       "      <td>148.91</td>\n",
       "      <td>4.01</td>\n",
       "      <td>...</td>\n",
       "      <td>3.21</td>\n",
       "      <td>1017.74</td>\n",
       "      <td>35.57</td>\n",
       "      <td>139.44</td>\n",
       "      <td>3.96</td>\n",
       "      <td>2.17</td>\n",
       "      <td>1023.83</td>\n",
       "      <td>43.39</td>\n",
       "      <td>285.96</td>\n",
       "      <td>2.99</td>\n",
       "    </tr>\n",
       "  </tbody>\n",
       "</table>\n",
       "<p>5 rows × 175 columns</p>\n",
       "</div>"
      ],
      "text/plain": [
       "                     shunyi_temperature  shunyi_pressure  shunyi_humidity  \\\n",
       "format_time                                                                 \n",
       "2017-01-01 00:00:00               -7.27          1023.39            77.77   \n",
       "2017-01-01 01:00:00               -4.29          1023.24            64.29   \n",
       "2017-01-01 02:00:00               -1.31          1023.08            50.80   \n",
       "2017-01-01 03:00:00                1.68          1022.92            37.32   \n",
       "2017-01-01 04:00:00                2.73          1022.26            35.32   \n",
       "\n",
       "                     shunyi_wind_direction  shunyi_wind_speed/kph  \\\n",
       "format_time                                                         \n",
       "2017-01-01 00:00:00                 187.44                   2.76   \n",
       "2017-01-01 01:00:00                 203.94                   3.11   \n",
       "2017-01-01 02:00:00                 216.29                   3.67   \n",
       "2017-01-01 03:00:00                 225.13                   4.34   \n",
       "2017-01-01 04:00:00                 215.03                   4.36   \n",
       "\n",
       "                     wanliu_temperature  wanliu_pressure  wanliu_humidity  \\\n",
       "format_time                                                                 \n",
       "2017-01-01 00:00:00               -5.85          1015.90            68.60   \n",
       "2017-01-01 01:00:00               -3.11          1015.78            58.00   \n",
       "2017-01-01 02:00:00               -0.37          1015.65            47.40   \n",
       "2017-01-01 03:00:00                2.37          1015.52            36.80   \n",
       "2017-01-01 04:00:00                3.50          1014.84            34.36   \n",
       "\n",
       "                     wanliu_wind_direction  wanliu_wind_speed/kph  \\\n",
       "format_time                                                         \n",
       "2017-01-01 00:00:00                 127.99                   3.54   \n",
       "2017-01-01 01:00:00                 136.80                   3.32   \n",
       "2017-01-01 02:00:00                 146.58                   3.19   \n",
       "2017-01-01 03:00:00                 156.85                   3.16   \n",
       "2017-01-01 04:00:00                 148.91                   4.01   \n",
       "\n",
       "                               ...              guanyuan_temperature  \\\n",
       "format_time                    ...                                     \n",
       "2017-01-01 00:00:00            ...                             -5.60   \n",
       "2017-01-01 01:00:00            ...                             -3.04   \n",
       "2017-01-01 02:00:00            ...                             -0.48   \n",
       "2017-01-01 03:00:00            ...                              2.08   \n",
       "2017-01-01 04:00:00            ...                              3.21   \n",
       "\n",
       "                     guanyuan_pressure  guanyuan_humidity  \\\n",
       "format_time                                                 \n",
       "2017-01-01 00:00:00            1018.74              70.31   \n",
       "2017-01-01 01:00:00            1018.64              59.58   \n",
       "2017-01-01 02:00:00            1018.53              48.86   \n",
       "2017-01-01 03:00:00            1018.42              38.13   \n",
       "2017-01-01 04:00:00            1017.74              35.57   \n",
       "\n",
       "                     guanyuan_wind_direction  guanyuan_wind_speed/kph  \\\n",
       "format_time                                                             \n",
       "2017-01-01 00:00:00                   117.25                     4.01   \n",
       "2017-01-01 01:00:00                   123.40                     3.69   \n",
       "2017-01-01 02:00:00                   130.62                     3.42   \n",
       "2017-01-01 03:00:00                   138.92                     3.22   \n",
       "2017-01-01 04:00:00                   139.44                     3.96   \n",
       "\n",
       "                     yongledian_temperature  yongledian_pressure  \\\n",
       "format_time                                                        \n",
       "2017-01-01 00:00:00                   -6.31              1024.83   \n",
       "2017-01-01 01:00:00                   -3.84              1024.73   \n",
       "2017-01-01 02:00:00                   -1.37              1024.62   \n",
       "2017-01-01 03:00:00                    1.10              1024.51   \n",
       "2017-01-01 04:00:00                    2.17              1023.83   \n",
       "\n",
       "                     yongledian_humidity  yongledian_wind_direction  \\\n",
       "format_time                                                           \n",
       "2017-01-01 00:00:00                84.56                     332.72   \n",
       "2017-01-01 01:00:00                71.76                     304.70   \n",
       "2017-01-01 02:00:00                58.96                     295.43   \n",
       "2017-01-01 03:00:00                46.16                     291.08   \n",
       "2017-01-01 04:00:00                43.39                     285.96   \n",
       "\n",
       "                     yongledian_wind_speed/kph  \n",
       "format_time                                     \n",
       "2017-01-01 00:00:00                       0.86  \n",
       "2017-01-01 01:00:00                       1.62  \n",
       "2017-01-01 02:00:00                       2.51  \n",
       "2017-01-01 03:00:00                       3.43  \n",
       "2017-01-01 04:00:00                       2.99  \n",
       "\n",
       "[5 rows x 175 columns]"
      ]
     },
     "execution_count": 162,
     "metadata": {},
     "output_type": "execute_result"
    }
   ],
   "source": [
    "print(meo_merged.shape)\n",
    "meo_merged.head()"
   ]
  },
  {
   "cell_type": "markdown",
   "metadata": {},
   "source": [
    "## 将天气表和空气质量表的时间调整成统一的"
   ]
  },
  {
   "cell_type": "markdown",
   "metadata": {},
   "source": [
    "- 网格气象数据\n",
    "    - 2017:01:01 0:00 - 2018:03:27 5:00 \n",
    "- 空气质量数据\n",
    "    - 2017:01:01 14:00 - 2018:03:31 15:00\n",
    "- 考虑选择整天的数据\n",
    "    - 选择2017:01:02 00:00 - 2018:03:26 23:00"
   ]
  },
  {
   "cell_type": "code",
   "execution_count": 164,
   "metadata": {},
   "outputs": [
    {
     "name": "stdout",
     "output_type": "stream",
     "text": [
      "There should be 10776 hours\n"
     ]
    }
   ],
   "source": [
    "t1 = datetime.datetime(2017,1,2,0,0,0)\n",
    "t2 = datetime.datetime(2018,3,26,23,0,0)\n",
    "dd = t2 - t1\n",
    "print(\"There should be %d hours\" %((dd.total_seconds() / 3600) + 1))"
   ]
  },
  {
   "cell_type": "code",
   "execution_count": 151,
   "metadata": {
    "scrolled": true
   },
   "outputs": [
    {
     "name": "stdout",
     "output_type": "stream",
     "text": [
      "NaN in PM2.5 is 23459, 6.508615 %\n",
      "NaN in PM10 is 96175, 26.683406 %\n",
      "NaN in NO2 is 21720, 6.026135 %\n",
      "NaN in CO is 46144, 12.802486 %\n",
      "NaN in O3 is 23732, 6.584358 %\n",
      "NaN in SO2 is 21664, 6.010598 %\n",
      "There are 35 air quality stations in Beijing\n",
      "\n",
      "The stations in Beijing are:\n",
      " {'yufa_aq', 'miyun_aq', 'fengtaihuayuan_aq', 'donggaocun_aq', 'yungang_aq', 'liulihe_aq', 'badaling_aq', 'yanqin_aq', 'daxing_aq', 'beibuxinqu_aq', 'tongzhou_aq', 'wanshouxigong_aq', 'nongzhanguan_aq', 'tiantan_aq', 'mentougou_aq', 'shunyi_aq', 'wanliu_aq', 'nansanhuan_aq', 'fangshan_aq', 'yizhuang_aq', 'aotizhongxin_aq', 'dingling_aq', 'gucheng_aq', 'guanyuan_aq', 'xizhimenbei_aq', 'pinggu_aq', 'qianmen_aq', 'dongsi_aq', 'miyunshuiku_aq', 'huairou_aq', 'pingchang_aq', 'zhiwuyuan_aq', 'yongdingmennei_aq', 'dongsihuan_aq', 'yongledian_aq'}\n"
     ]
    },
    {
     "name": "stderr",
     "output_type": "stream",
     "text": [
      "/notebooks/KDD_Cup_2018/utils/data_util.py:46: SettingWithCopyWarning: \n",
      "A value is trying to be set on a copy of a slice from a DataFrame\n",
      "\n",
      "See the caveats in the documentation: http://pandas.pydata.org/pandas-docs/stable/indexing.html#indexing-view-versus-copy\n",
      "  bj_aq_station.drop(\"utc_time\", axis=1, inplace=True)\n",
      "/notebooks/KDD_Cup_2018/utils/data_util.py:47: SettingWithCopyWarning: \n",
      "A value is trying to be set on a copy of a slice from a DataFrame\n",
      "\n",
      "See the caveats in the documentation: http://pandas.pydata.org/pandas-docs/stable/indexing.html#indexing-view-versus-copy\n",
      "  bj_aq_station.drop(\"stationId\", axis=1, inplace=True)\n"
     ]
    }
   ],
   "source": [
    "_, _, _, aq_merged = parse_bj_aq_data()"
   ]
  },
  {
   "cell_type": "code",
   "execution_count": 152,
   "metadata": {},
   "outputs": [
    {
     "name": "stdout",
     "output_type": "stream",
     "text": [
      "(10176, 210)\n"
     ]
    }
   ],
   "source": [
    "aq_merged = aq_merged[aq_merged.index < '2018-03-27 00:00:00']\n",
    "aq_merged = aq_merged[aq_merged.index > '2017-01-01 23:00:00']\n",
    "print(aq_merged.shape)"
   ]
  },
  {
   "cell_type": "code",
   "execution_count": 165,
   "metadata": {},
   "outputs": [
    {
     "data": {
      "text/plain": [
       "(10776, 175)"
      ]
     },
     "execution_count": 165,
     "metadata": {},
     "output_type": "execute_result"
    }
   ],
   "source": [
    "meo_merged = meo_merged[meo_merged.index < '2018-03-27 00:00:00']\n",
    "meo_merged = meo_merged[meo_merged.index > '2017-01-01 23:00:00']\n",
    "meo_merged.shape"
   ]
  },
  {
   "cell_type": "markdown",
   "metadata": {},
   "source": [
    "由上可知，meo_merged 完全没有空缺，但是 aq_merged 有一定程度的日期缺失"
   ]
  },
  {
   "cell_type": "markdown",
   "metadata": {},
   "source": [
    "统计一些缺少哪些"
   ]
  },
  {
   "cell_type": "code",
   "execution_count": 171,
   "metadata": {},
   "outputs": [
    {
     "name": "stdout",
     "output_type": "stream",
     "text": [
      "(10176, 210) (10776, 175)\n"
     ]
    }
   ],
   "source": [
    "print(aq_merged.shape, meo_merged.shape)"
   ]
  },
  {
   "cell_type": "code",
   "execution_count": 172,
   "metadata": {
    "collapsed": true,
    "scrolled": false
   },
   "outputs": [],
   "source": [
    "empty = []\n",
    "for index in meo_merged.index:\n",
    "    if index not in aq_merged.index : \n",
    "        # print(index)\n",
    "        empty.append(index)"
   ]
  },
  {
   "cell_type": "code",
   "execution_count": 175,
   "metadata": {},
   "outputs": [
    {
     "data": {
      "text/plain": [
       "(785, 10776)"
      ]
     },
     "execution_count": 175,
     "metadata": {},
     "output_type": "execute_result"
    }
   ],
   "source": [
    "len(empty), len(meo_merged.index)"
   ]
  },
  {
   "cell_type": "code",
   "execution_count": 177,
   "metadata": {
    "collapsed": true,
    "scrolled": false
   },
   "outputs": [],
   "source": [
    "# 这里为什么 长度 和 上述长度差值 不统一？？？？？？\n",
    "l = [i[:10] for i in empty]"
   ]
  },
  {
   "cell_type": "code",
   "execution_count": 186,
   "metadata": {
    "collapsed": true
   },
   "outputs": [],
   "source": [
    "from collections import Counter\n",
    "c = Counter(l)"
   ]
  },
  {
   "cell_type": "code",
   "execution_count": 194,
   "metadata": {},
   "outputs": [
    {
     "data": {
      "text/plain": [
       "Counter({'2017-01-23': 2,\n",
       "         '2017-01-24': 7,\n",
       "         '2017-01-25': 10,\n",
       "         '2017-01-26': 14,\n",
       "         '2017-01-27': 2,\n",
       "         '2017-02-05': 1,\n",
       "         '2017-02-06': 5,\n",
       "         '2017-02-07': 3,\n",
       "         '2017-02-08': 11,\n",
       "         '2017-02-09': 4,\n",
       "         '2017-02-19': 4,\n",
       "         '2017-02-20': 7,\n",
       "         '2017-02-21': 3,\n",
       "         '2017-03-07': 2,\n",
       "         '2017-03-08': 1,\n",
       "         '2017-03-09': 12,\n",
       "         '2017-03-10': 11,\n",
       "         '2017-03-11': 18,\n",
       "         '2017-03-12': 16,\n",
       "         '2017-03-13': 20,\n",
       "         '2017-03-14': 16,\n",
       "         '2017-03-15': 8,\n",
       "         '2017-03-16': 6,\n",
       "         '2017-03-28': 6,\n",
       "         '2017-03-29': 1,\n",
       "         '2017-04-19': 5,\n",
       "         '2017-04-20': 12,\n",
       "         '2017-04-21': 13,\n",
       "         '2017-04-22': 10,\n",
       "         '2017-04-23': 21,\n",
       "         '2017-04-24': 1,\n",
       "         '2017-05-13': 1,\n",
       "         '2017-05-18': 15,\n",
       "         '2017-05-19': 24,\n",
       "         '2017-05-20': 24,\n",
       "         '2017-05-21': 24,\n",
       "         '2017-05-22': 24,\n",
       "         '2017-05-23': 24,\n",
       "         '2017-05-24': 24,\n",
       "         '2017-05-25': 24,\n",
       "         '2017-05-26': 24,\n",
       "         '2017-05-27': 24,\n",
       "         '2017-05-28': 15,\n",
       "         '2017-05-29': 8,\n",
       "         '2017-05-30': 24,\n",
       "         '2017-05-31': 13,\n",
       "         '2017-06-01': 7,\n",
       "         '2017-06-02': 8,\n",
       "         '2017-06-03': 1,\n",
       "         '2017-06-04': 7,\n",
       "         '2017-06-05': 4,\n",
       "         '2017-06-06': 1,\n",
       "         '2017-07-01': 8,\n",
       "         '2017-07-02': 24,\n",
       "         '2017-07-03': 24,\n",
       "         '2017-07-04': 24,\n",
       "         '2017-07-05': 24,\n",
       "         '2017-07-06': 24,\n",
       "         '2017-07-07': 24,\n",
       "         '2017-07-08': 16,\n",
       "         '2017-07-09': 12,\n",
       "         '2017-07-22': 6,\n",
       "         '2017-07-23': 1,\n",
       "         '2017-08-05': 2,\n",
       "         '2017-08-25': 5,\n",
       "         '2017-09-02': 1,\n",
       "         '2017-09-28': 1,\n",
       "         '2017-10-27': 3,\n",
       "         '2017-11-24': 4,\n",
       "         '2017-11-29': 2,\n",
       "         '2017-12-08': 2,\n",
       "         '2017-12-21': 2,\n",
       "         '2018-02-23': 4})"
      ]
     },
     "execution_count": 194,
     "metadata": {},
     "output_type": "execute_result"
    }
   ],
   "source": [
    "c"
   ]
  },
  {
   "cell_type": "code",
   "execution_count": 192,
   "metadata": {
    "collapsed": true
   },
   "outputs": [],
   "source": [
    "num = Counter(c.values())"
   ]
  },
  {
   "cell_type": "code",
   "execution_count": 193,
   "metadata": {},
   "outputs": [
    {
     "data": {
      "text/plain": [
       "<Container object of 19 artists>"
      ]
     },
     "execution_count": 193,
     "metadata": {},
     "output_type": "execute_result"
    },
    {
     "data": {
      "image/png": "[encoded data removed]",
      "text/plain": [
       "<matplotlib.figure.Figure at 0x7f5d0c32c9e8>"
      ]
     },
     "metadata": {},
     "output_type": "display_data"
    }
   ],
   "source": [
    "# 柱状图\n",
    "plt.bar(range(len(num.values())), num.values())"
   ]
  },
  {
   "cell_type": "code",
   "execution_count": 96,
   "metadata": {
    "collapsed": true
   },
   "outputs": [],
   "source": [
    "# all_merged = pd.concat([aq_merged, meo_merged], axis=1)"
   ]
  }
 ],
 "metadata": {
  "kernelspec": {
   "display_name": "Python 3",
   "language": "python",
   "name": "python3"
  },
  "language_info": {
   "codemirror_mode": {
    "name": "ipython",
    "version": 3
   },
   "file_extension": ".py",
   "mimetype": "text/x-python",
   "name": "python",
   "nbconvert_exporter": "python",
   "pygments_lexer": "ipython3",
   "version": "3.5.2"
  }
 },
 "nbformat": 4,
 "nbformat_minor": 2
}
