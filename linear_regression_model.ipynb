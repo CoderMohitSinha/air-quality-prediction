{
 "cells": [
  {
   "cell_type": "code",
   "execution_count": 14,
   "metadata": {
    "collapsed": true
   },
   "outputs": [],
   "source": [
    "import numpy as np\n",
    "import tensorflow as tf\n",
    "from data_util import parse_bj_aq_data, generate_model_data"
   ]
  },
  {
   "cell_type": "code",
   "execution_count": 15,
   "metadata": {},
   "outputs": [
    {
     "name": "stdout",
     "output_type": "stream",
     "text": [
      "NaN in PM2.5 is 23459, 6.508615 %\n",
      "NaN in PM10 is 96175, 26.683406 %\n",
      "NaN in NO2 is 21720, 6.026135 %\n",
      "NaN in CO is 46144, 12.802486 %\n",
      "NaN in O3 is 23732, 6.584358 %\n",
      "NaN in SO2 is 21664, 6.010598 %\n",
      "There are 35 air quality stations in Beijing\n",
      "\n",
      "The stations in Beijing are:\n",
      " {'xizhimenbei_aq', 'wanliu_aq', 'fengtaihuayuan_aq', 'dongsihuan_aq', 'mentougou_aq', 'nongzhanguan_aq', 'yufa_aq', 'guanyuan_aq', 'miyunshuiku_aq', 'dongsi_aq', 'qianmen_aq', 'tiantan_aq', 'yanqin_aq', 'tongzhou_aq', 'fangshan_aq', 'miyun_aq', 'yongledian_aq', 'pingchang_aq', 'daxing_aq', 'yongdingmennei_aq', 'beibuxinqu_aq', 'pinggu_aq', 'zhiwuyuan_aq', 'gucheng_aq', 'dingling_aq', 'yizhuang_aq', 'shunyi_aq', 'huairou_aq', 'wanshouxigong_aq', 'nansanhuan_aq', 'yungang_aq', 'badaling_aq', 'liulihe_aq', 'donggaocun_aq', 'aotizhongxin_aq'}\n"
     ]
    },
    {
     "name": "stderr",
     "output_type": "stream",
     "text": [
      "/notebooks/KDD_Cup_2018/data_util.py:47: SettingWithCopyWarning: \n",
      "A value is trying to be set on a copy of a slice from a DataFrame\n",
      "\n",
      "See the caveats in the documentation: http://pandas.pydata.org/pandas-docs/stable/indexing.html#indexing-view-versus-copy\n",
      "  bj_aq_station.drop(\"utc_time\", axis=1, inplace=True)\n",
      "/notebooks/KDD_Cup_2018/data_util.py:48: SettingWithCopyWarning: \n",
      "A value is trying to be set on a copy of a slice from a DataFrame\n",
      "\n",
      "See the caveats in the documentation: http://pandas.pydata.org/pandas-docs/stable/indexing.html#indexing-view-versus-copy\n",
      "  bj_aq_station.drop(\"stationId\", axis=1, inplace=True)\n"
     ]
    }
   ],
   "source": [
    "bj_aq_data, stations, bj_aq_stations, bj_aq_stations_merged = parse_bj_aq_data()"
   ]
  },
  {
   "cell_type": "code",
   "execution_count": null,
   "metadata": {
    "collapsed": true
   },
   "outputs": [],
   "source": [
    "X_dataset, Y_dataset = generate_model_data(bj_aq_stations_merged, 1, 120)"
   ]
  },
  {
   "cell_type": "code",
   "execution_count": null,
   "metadata": {
    "collapsed": true
   },
   "outputs": [],
   "source": [
    "data_length = len(X_dataset)"
   ]
  },
  {
   "cell_type": "code",
   "execution_count": null,
   "metadata": {
    "collapsed": true
   },
   "outputs": [],
   "source": []
  },
  {
   "cell_type": "code",
   "execution_count": null,
   "metadata": {
    "collapsed": true
   },
   "outputs": [],
   "source": []
  },
  {
   "cell_type": "code",
   "execution_count": 4,
   "metadata": {
    "collapsed": true
   },
   "outputs": [],
   "source": [
    "# parameters of the model\n",
    "num_x_hours = 120\n",
    "num_y_hours = 48\n",
    "num_features = 210\n",
    "num_epochs = 100"
   ]
  },
  {
   "cell_type": "code",
   "execution_count": 10,
   "metadata": {},
   "outputs": [],
   "source": [
    "# X = tf.placeholder(dtype=tf.float32, shape=(None, num_x_hours, num_features))\n",
    "# Y = tf.placeholder(dtype=tf.float32, shape=(None, num_y_hours, num_features))\n",
    "\n",
    "# not use mini-batch right now\n",
    "X = tf.placeholder(dtype=tf.float32, shape=(num_x_hours, num_features))\n",
    "Y = tf.placeholder(dtype=tf.float32, shape=(num_y_hours, num_features))"
   ]
  },
  {
   "cell_type": "code",
   "execution_count": 11,
   "metadata": {
    "collapsed": true
   },
   "outputs": [],
   "source": [
    "# initial values\n",
    "initial_W_value = np.random.randn(num_y_hours, num_x_hours)\n",
    "initial_b_value = np.random.randn(num_y_hours, num_features)\n",
    "\n",
    "# Variables\n",
    "W = tf.Variable(initial_W_value, name=\"W\", dtype=\"float32\")\n",
    "b = tf.Variable(initial_b_value, name=\"b\", dtype=\"float32\")"
   ]
  },
  {
   "cell_type": "code",
   "execution_count": 12,
   "metadata": {},
   "outputs": [],
   "source": [
    "# computation graph\n",
    "Y_pred = tf.add(tf.matmul(W, X), b)\n",
    "Loss = tf.reduce_mean(tf.nn.l2_loss(Y_pred - Y))\n",
    "\n",
    "# optimizer\n",
    "Optimizer = tf.train.AdamOptimizer().minimize(Loss)"
   ]
  },
  {
   "cell_type": "code",
   "execution_count": null,
   "metadata": {
    "collapsed": true
   },
   "outputs": [],
   "source": [
    "Loss = Y_pred - Y\n",
    "\n",
    "losses = []\n",
    "with tf.Session() as sess:\n",
    "    sess.run(tf.global_variables_initializer())\n",
    "    for epoch in num_epochs:\n",
    "        for i in range(data_length):\n",
    "            _, loss = sess.run([Optimizer, Loss], feed_dict={X:,Y:})\n",
    "            print(loss)\n",
    "            losses.append(loss)"
   ]
  },
  {
   "cell_type": "code",
   "execution_count": null,
   "metadata": {
    "collapsed": true
   },
   "outputs": [],
   "source": [
    "# 划分数据集"
   ]
  }
 ],
 "metadata": {
  "kernelspec": {
   "display_name": "Python 3",
   "language": "python",
   "name": "python3"
  },
  "language_info": {
   "codemirror_mode": {
    "name": "ipython",
    "version": 3
   },
   "file_extension": ".py",
   "mimetype": "text/x-python",
   "name": "python",
   "nbconvert_exporter": "python",
   "pygments_lexer": "ipython3",
   "version": "3.5.2"
  }
 },
 "nbformat": 4,
 "nbformat_minor": 2
}
