{
 "cells": [
  {
   "cell_type": "code",
   "execution_count": 1,
   "metadata": {},
   "outputs": [
    {
     "name": "stderr",
     "output_type": "stream",
     "text": [
      "/home/cvdev/tf/lib/python3.5/site-packages/h5py/__init__.py:36: FutureWarning: Conversion of the second argument of issubdtype from `float` to `np.floating` is deprecated. In future, it will be treated as `np.float64 == np.dtype(float).type`.\n",
      "  from ._conv import register_converters as _register_converters\n"
     ]
    }
   ],
   "source": [
    "import numpy as np\n",
    "import tensorflow as tf\n",
    "from data_util import parse_bj_aq_data, generate_model_data"
   ]
  },
  {
   "cell_type": "code",
   "execution_count": 2,
   "metadata": {},
   "outputs": [
    {
     "name": "stdout",
     "output_type": "stream",
     "text": [
      "NaN in PM2.5 is 23459, 6.508615 %\n",
      "NaN in PM10 is 96175, 26.683406 %\n",
      "NaN in NO2 is 21720, 6.026135 %\n",
      "NaN in CO is 46144, 12.802486 %\n",
      "NaN in O3 is 23732, 6.584358 %\n",
      "NaN in SO2 is 21664, 6.010598 %\n",
      "There are 35 air quality stations in Beijing\n",
      "\n",
      "The stations in Beijing are:\n",
      " {'liulihe_aq', 'huairou_aq', 'nongzhanguan_aq', 'nansanhuan_aq', 'badaling_aq', 'yufa_aq', 'yungang_aq', 'wanshouxigong_aq', 'miyun_aq', 'beibuxinqu_aq', 'tiantan_aq', 'yongledian_aq', 'yanqin_aq', 'gucheng_aq', 'guanyuan_aq', 'dingling_aq', 'wanliu_aq', 'yizhuang_aq', 'shunyi_aq', 'daxing_aq', 'dongsi_aq', 'aotizhongxin_aq', 'yongdingmennei_aq', 'dongsihuan_aq', 'miyunshuiku_aq', 'mentougou_aq', 'tongzhou_aq', 'fengtaihuayuan_aq', 'donggaocun_aq', 'fangshan_aq', 'pinggu_aq', 'xizhimenbei_aq', 'zhiwuyuan_aq', 'qianmen_aq', 'pingchang_aq'}\n"
     ]
    },
    {
     "name": "stderr",
     "output_type": "stream",
     "text": [
      "/home/cvdev/air-quality-prediction/data_util.py:46: SettingWithCopyWarning: \n",
      "A value is trying to be set on a copy of a slice from a DataFrame\n",
      "\n",
      "See the caveats in the documentation: http://pandas.pydata.org/pandas-docs/stable/indexing.html#indexing-view-versus-copy\n",
      "  bj_aq_station.drop(\"utc_time\", axis=1, inplace=True)\n",
      "/home/cvdev/air-quality-prediction/data_util.py:47: SettingWithCopyWarning: \n",
      "A value is trying to be set on a copy of a slice from a DataFrame\n",
      "\n",
      "See the caveats in the documentation: http://pandas.pydata.org/pandas-docs/stable/indexing.html#indexing-view-versus-copy\n",
      "  bj_aq_station.drop(\"stationId\", axis=1, inplace=True)\n"
     ]
    }
   ],
   "source": [
    "bj_aq_data, stations, bj_aq_stations, bj_aq_stations_merged = parse_bj_aq_data()"
   ]
  },
  {
   "cell_type": "code",
   "execution_count": 3,
   "metadata": {},
   "outputs": [],
   "source": [
    "X_dataset, Y_dataset = generate_model_data(bj_aq_stations_merged, 1, 120)"
   ]
  },
  {
   "cell_type": "code",
   "execution_count": 20,
   "metadata": {},
   "outputs": [],
   "source": [
    "# parameters of the model\n",
    "num_x_hours = 120\n",
    "num_y_hours = 48\n",
    "num_features = 210\n",
    "num_epochs = 1000\n",
    "\n",
    "data_length = len(X_dataset)"
   ]
  },
  {
   "cell_type": "code",
   "execution_count": 21,
   "metadata": {},
   "outputs": [],
   "source": [
    "# X = tf.placeholder(dtype=tf.float32, shape=(None, num_x_hours, num_features))\n",
    "# Y = tf.placeholder(dtype=tf.float32, shape=(None, num_y_hours, num_features))\n",
    "\n",
    "# not use mini-batch right now\n",
    "X = tf.placeholder(dtype=tf.float32, shape=(num_x_hours, num_features))\n",
    "Y = tf.placeholder(dtype=tf.float32, shape=(num_y_hours, num_features))"
   ]
  },
  {
   "cell_type": "code",
   "execution_count": 22,
   "metadata": {
    "scrolled": true
   },
   "outputs": [],
   "source": [
    "# initial values\n",
    "initial_W_value = np.random.randn(num_y_hours, num_x_hours) * 1e-10\n",
    "initial_b_value = np.random.randn(num_y_hours, num_features) * 1e-10\n",
    "\n",
    "# Variables\n",
    "W = tf.Variable(initial_W_value, name=\"W\", dtype=\"float32\")\n",
    "b = tf.Variable(initial_b_value, name=\"b\", dtype=\"float32\")\n",
    "# W = tf.get_variable(name=\"W\", shape=(num_y_hours, num_x_hours), dtype=tf.float32, initializer=tf.contrib.layers.xavier_initializer())\n",
    "# b = tf.get_variable(name=\"b\", shape=(num_y_hours, num_features), dtype=tf.float32, initializer=tf.contrib.layers.xavier_initializer())"
   ]
  },
  {
   "cell_type": "code",
   "execution_count": 23,
   "metadata": {},
   "outputs": [
    {
     "name": "stdout",
     "output_type": "stream",
     "text": [
      "Tensor(\"Mean_5:0\", shape=(), dtype=float32)\n"
     ]
    }
   ],
   "source": [
    "# computation graph\n",
    "Y_pred = tf.add(tf.matmul(W, X), b)\n",
    "Loss = tf.reduce_mean(tf.nn.l2_loss(Y_pred - Y))\n",
    "print(Loss)\n",
    "\n",
    "# optimizer\n",
    "Optimizer = tf.train.AdamOptimizer(learning_rate=0.1).minimize(Loss)"
   ]
  },
  {
   "cell_type": "code",
   "execution_count": null,
   "metadata": {},
   "outputs": [],
   "source": [
    "losses = []\n",
    "\n",
    "with tf.Session() as sess:\n",
    "    sess.run(tf.global_variables_initializer())\n",
    "    for epoch in range(num_epochs):\n",
    "        for i in range(data_length):\n",
    "            _, loss = sess.run([Optimizer, Loss], feed_dict={X:X_dataset[i],Y:Y_dataset[i]})\n",
    "        print(loss)\n",
    "        losses.append(loss)"
   ]
  },
  {
   "cell_type": "code",
   "execution_count": null,
   "metadata": {},
   "outputs": [],
   "source": []
  },
  {
   "cell_type": "code",
   "execution_count": null,
   "metadata": {},
   "outputs": [],
   "source": []
  },
  {
   "cell_type": "code",
   "execution_count": null,
   "metadata": {},
   "outputs": [],
   "source": []
  },
  {
   "cell_type": "code",
   "execution_count": null,
   "metadata": {},
   "outputs": [],
   "source": []
  },
  {
   "cell_type": "code",
   "execution_count": null,
   "metadata": {},
   "outputs": [],
   "source": []
  },
  {
   "cell_type": "code",
   "execution_count": null,
   "metadata": {
    "collapsed": true
   },
   "outputs": [],
   "source": [
    "# 划分数据集"
   ]
  }
 ],
 "metadata": {
  "kernelspec": {
   "display_name": "Python 3",
   "language": "python",
   "name": "python3"
  },
  "language_info": {
   "codemirror_mode": {
    "name": "ipython",
    "version": 3
   },
   "file_extension": ".py",
   "mimetype": "text/x-python",
   "name": "python",
   "nbconvert_exporter": "python",
   "pygments_lexer": "ipython3",
   "version": "3.5.2"
  }
 },
 "nbformat": 4,
 "nbformat_minor": 2
}
