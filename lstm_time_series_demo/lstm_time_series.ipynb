{
 "cells": [
  {
   "cell_type": "code",
   "execution_count": 1,
   "metadata": {},
   "outputs": [
    {
     "name": "stderr",
     "output_type": "stream",
     "text": [
      "/home/cvdev/tf/lib/python3.5/site-packages/h5py/__init__.py:36: FutureWarning: Conversion of the second argument of issubdtype from `float` to `np.floating` is deprecated. In future, it will be treated as `np.float64 == np.dtype(float).type`.\n",
      "  from ._conv import register_converters as _register_converters\n"
     ]
    }
   ],
   "source": [
    "from tensorflow.contrib.timeseries.python.timeseries.estimators import TimeSeriesRegressor"
   ]
  },
  {
   "cell_type": "code",
   "execution_count": 1,
   "metadata": {
    "collapsed": true
   },
   "outputs": [],
   "source": [
    "# coding : utf-8\n",
    "from __future__ import print_function\n",
    "import numpy as np\n",
    "import matplotlib\n",
    "matplotlib.use(\"agg\")\n",
    "%matplotlib inline\n",
    "import matplotlib.pyplot as plt\n",
    "import tensorflow as tf\n",
    "from tensorflow.contrib.timeseries.python.timeseries import NumpyReader"
   ]
  },
  {
   "cell_type": "code",
   "execution_count": 2,
   "metadata": {},
   "outputs": [
    {
     "data": {
      "text/plain": [
       "[<matplotlib.lines.Line2D at 0x7f512c698eb8>]"
      ]
     },
     "execution_count": 2,
     "metadata": {},
     "output_type": "execute_result"
    },
    {
     "data": {
      "image/png": "[encoded data removed]",
      "text/plain": [
       "<matplotlib.figure.Figure at 0x7f512e6e4dd8>"
      ]
     },
     "metadata": {},
     "output_type": "display_data"
    }
   ],
   "source": [
    "x = np.array(range(1000))\n",
    "noise = np.random.uniform(-0.2,0.2,1000)\n",
    "y = np.sin(np.pi * x / 100) + x/200. + noise\n",
    "plt.plot(x,y)"
   ]
  },
  {
   "cell_type": "code",
   "execution_count": 3,
   "metadata": {
    "collapsed": true
   },
   "outputs": [],
   "source": [
    "data = {\"times\":x, \"values\":y}"
   ]
  },
  {
   "cell_type": "code",
   "execution_count": 4,
   "metadata": {
    "collapsed": true
   },
   "outputs": [],
   "source": [
    "reader = NumpyReader(data)"
   ]
  },
  {
   "cell_type": "code",
   "execution_count": 5,
   "metadata": {},
   "outputs": [
    {
     "data": {
      "text/plain": [
       "<tensorflow.contrib.timeseries.python.timeseries.input_pipeline.NumpyReader at 0x7f512c65eeb8>"
      ]
     },
     "execution_count": 5,
     "metadata": {},
     "output_type": "execute_result"
    }
   ],
   "source": [
    "reader"
   ]
  },
  {
   "cell_type": "code",
   "execution_count": 7,
   "metadata": {},
   "outputs": [],
   "source": [
    "with tf.Session() as sess:\n",
    "    full_data = reader.read_full() # 生成队列\n",
    "    # print(sess.run(full_data))\n",
    "    coord = tf.train.Coordinator()\n",
    "    threads = tf.train.start_queue_runners(sess=sess, coord=coord) # 启动队列\n",
    "    r = sess.run(full_data)"
   ]
  },
  {
   "cell_type": "code",
   "execution_count": 9,
   "metadata": {},
   "outputs": [
    {
     "data": {
      "text/plain": [
       "dict"
      ]
     },
     "execution_count": 9,
     "metadata": {},
     "output_type": "execute_result"
    }
   ],
   "source": [
    "type(r)"
   ]
  },
  {
   "cell_type": "code",
   "execution_count": 11,
   "metadata": {},
   "outputs": [],
   "source": [
    "train_input_fn = tf.contrib.timeseries.RandomWindowInputFn(reader, batch_size=2, window_size=20)"
   ]
  },
  {
   "cell_type": "code",
   "execution_count": 30,
   "metadata": {},
   "outputs": [
    {
     "name": "stdout",
     "output_type": "stream",
     "text": [
      "<class 'tuple'>\n",
      "2\n",
      "one_batch_data: {'times': array([[20, 21, 22, 23, 24, 25, 26, 27, 28, 29, 30, 31, 32, 33, 34, 35, 36,\n",
      "        37, 38, 39],\n",
      "       [41, 42, 43, 44, 45, 46, 47, 48, 49, 50, 51, 52, 53, 54, 55, 56, 57,\n",
      "        58, 59, 60]]), 'values': array([[[ 0.61365848],\n",
      "        [ 0.68848007],\n",
      "        [ 0.57163741],\n",
      "        [ 0.9030405 ],\n",
      "        [ 0.69422892],\n",
      "        [ 0.94334761],\n",
      "        [ 0.89070837],\n",
      "        [ 1.08154223],\n",
      "        [ 0.91630086],\n",
      "        [ 1.01631187],\n",
      "        [ 0.95427912],\n",
      "        [ 1.01176581],\n",
      "        [ 1.05266998],\n",
      "        [ 0.95943676],\n",
      "        [ 1.05425156],\n",
      "        [ 1.08316101],\n",
      "        [ 1.16107351],\n",
      "        [ 1.15430356],\n",
      "        [ 0.97021056],\n",
      "        [ 0.9459921 ]],\n",
      "\n",
      "       [[ 1.31639958],\n",
      "        [ 1.15197451],\n",
      "        [ 1.05744256],\n",
      "        [ 1.0471289 ],\n",
      "        [ 1.19406867],\n",
      "        [ 1.39336611],\n",
      "        [ 1.20794486],\n",
      "        [ 1.30151866],\n",
      "        [ 1.05011309],\n",
      "        [ 1.2271387 ],\n",
      "        [ 1.26891719],\n",
      "        [ 1.15209808],\n",
      "        [ 1.32565949],\n",
      "        [ 1.2645822 ],\n",
      "        [ 1.45076795],\n",
      "        [ 1.43311952],\n",
      "        [ 1.08929481],\n",
      "        [ 1.39285552],\n",
      "        [ 1.29441632],\n",
      "        [ 1.44965413]]])}\n",
      "(2, 20)\n"
     ]
    }
   ],
   "source": [
    "with tf.Session() as sess:\n",
    "    batch_data = train_input_fn.create_batch()\n",
    "    coord = tf.train.Coordinator()\n",
    "    threads = tf.train.start_queue_runners(sess=sess, coord=coord)\n",
    "    one_batch = sess.run(batch_data[0])\n",
    "    # x = sess.run(batch_data[1])\n",
    "    print(type(batch_data))\n",
    "    print(len(batch_data))\n",
    "    \n",
    "    coord.request_stop()\n",
    "\n",
    "print('one_batch_data:', one_batch)\n",
    "print(one_batch[\"times\"].shape) # (batch_size, Tx)"
   ]
  },
  {
   "cell_type": "code",
   "execution_count": null,
   "metadata": {
    "collapsed": true
   },
   "outputs": [],
   "source": []
  }
 ],
 "metadata": {
  "kernelspec": {
   "display_name": "Python 3",
   "language": "python",
   "name": "python3"
  },
  "language_info": {
   "codemirror_mode": {
    "name": "ipython",
    "version": 3
   },
   "file_extension": ".py",
   "mimetype": "text/x-python",
   "name": "python",
   "nbconvert_exporter": "python",
   "pygments_lexer": "ipython3",
   "version": "3.5.2"
  }
 },
 "nbformat": 4,
 "nbformat_minor": 2
}
