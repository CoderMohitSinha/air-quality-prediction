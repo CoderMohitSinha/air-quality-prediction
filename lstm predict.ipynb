{
 "cells": [
  {
   "cell_type": "code",
   "execution_count": 44,
   "metadata": {},
   "outputs": [],
   "source": [
    "import tensorflow as tf\n",
    "import pandas as pd\n",
    "import numpy as np\n",
    "import os\n",
    "import matplotlib\n",
    "import matplotlib.pyplot as plt\n",
    "%matplotlib inline\n",
    "import random\n",
    "import shutil\n",
    "import tensorflow.contrib.learn as tflearn\n",
    "import tensorflow.contrib.layers as tflayers\n",
    "from tensorflow.contrib.learn.python.learn import learn_runner\n",
    "import tensorflow.contrib.metrics as metrics\n",
    "import tensorflow.contrib.rnn as rnn"
   ]
  },
  {
   "cell_type": "code",
   "execution_count": 142,
   "metadata": {
    "collapsed": true
   },
   "outputs": [],
   "source": [
    "num_periods = 120\n",
    "f_horizon = 48\n",
    "samples = 10020"
   ]
  },
  {
   "cell_type": "code",
   "execution_count": 143,
   "metadata": {},
   "outputs": [],
   "source": [
    "# data 1 :随机数据\n",
    "# random.seed(111)\n",
    "# rng = pd.date_range(start='2000', periods=809, freq='M')\n",
    "# ts = pd.Series(np.random.uniform(-10, 10, size=len(rng)), rng).cumsum()\n",
    "# ts.plot(c='b', title='Example Time Series')\n",
    "# plt.show()\n",
    "# ts.head(10)"
   ]
  },
  {
   "cell_type": "code",
   "execution_count": 144,
   "metadata": {},
   "outputs": [],
   "source": [
    "# data 2 : t*sin(t)/3 + 2*sin(5*t)\n",
    "t = np.linspace(0,100,num=samples)\n",
    "ts = t*np.sin(t)/3 + 2.*np.sin(5.*t)"
   ]
  },
  {
   "cell_type": "code",
   "execution_count": 145,
   "metadata": {},
   "outputs": [
    {
     "data": {
      "image/png": "[encoded data removed]",
      "text/plain": [
       "<matplotlib.figure.Figure at 0x7fe545404828>"
      ]
     },
     "metadata": {},
     "output_type": "display_data"
    }
   ],
   "source": [
    "plt.plot(t,ts);"
   ]
  },
  {
   "cell_type": "code",
   "execution_count": 146,
   "metadata": {},
   "outputs": [
    {
     "data": {
      "text/plain": [
       "9960"
      ]
     },
     "execution_count": 146,
     "metadata": {},
     "output_type": "execute_result"
    }
   ],
   "source": [
    "(len(TS)-(len(TS) % num_periods))"
   ]
  },
  {
   "cell_type": "code",
   "execution_count": 147,
   "metadata": {},
   "outputs": [
    {
     "data": {
      "text/plain": [
       "10008"
      ]
     },
     "execution_count": 147,
     "metadata": {},
     "output_type": "execute_result"
    }
   ],
   "source": [
    "(len(TS)-(len(TS) % num_periods)+f_horizon)"
   ]
  },
  {
   "cell_type": "code",
   "execution_count": 148,
   "metadata": {
    "scrolled": true
   },
   "outputs": [
    {
     "name": "stdout",
     "output_type": "stream",
     "text": [
      "(9960,)\n",
      "(9960,)\n",
      "(83, 120, 1)\n"
     ]
    }
   ],
   "source": [
    "TS = np.array(ts)\n",
    "\n",
    "x_data = TS[:(len(TS)-(len(TS) % num_periods))]\n",
    "y_data = TS[f_horizon : (len(TS)-(len(TS) % num_periods)+f_horizon)]\n",
    "print(x_data.shape)\n",
    "print(y_data.shape)\n",
    "\n",
    "x_batches = x_data.reshape(-1,num_periods,1)\n",
    "y_batches = y_data.reshape(-1,num_periods,1)\n",
    "\n",
    "print(x_batches.shape)"
   ]
  },
  {
   "cell_type": "code",
   "execution_count": 149,
   "metadata": {},
   "outputs": [],
   "source": [
    "def test_data(TS, forecast, num_periods):\n",
    "    test_x_setup = TS[-(num_periods + forecast):]\n",
    "    testX = test_x_setup[:num_periods].reshape(-1,num_periods,1) \n",
    "    testY = TS[-(num_periods):].reshape(-1,num_periods,1)\n",
    "    return testX, testY"
   ]
  },
  {
   "cell_type": "code",
   "execution_count": 150,
   "metadata": {},
   "outputs": [
    {
     "name": "stdout",
     "output_type": "stream",
     "text": [
      "(1, 120, 1)\n",
      "[[[-24.54312698]\n",
      "  [-24.73961064]\n",
      "  [-24.9384413 ]\n",
      "  [-25.13957923]\n",
      "  [-25.34297258]\n",
      "  [-25.54855755]\n",
      "  [-25.75625844]\n",
      "  [-25.96598783]\n",
      "  [-26.17764675]\n",
      "  [-26.39112487]\n",
      "  [-26.60630073]\n",
      "  [-26.82304202]\n",
      "  [-27.04120585]\n",
      "  [-27.26063908]\n",
      "  [-27.48117864]\n",
      "  [-27.70265191]\n",
      "  [-27.92487712]\n",
      "  [-28.14766375]\n",
      "  [-28.37081295]\n",
      "  [-28.59411806]\n",
      "  [-28.817365  ]\n",
      "  [-29.04033286]\n",
      "  [-29.26279434]\n",
      "  [-29.48451633]\n",
      "  [-29.70526041]\n",
      "  [-29.92478348]\n",
      "  [-30.14283827]\n",
      "  [-30.35917395]\n",
      "  [-30.57353672]\n",
      "  [-30.78567043]\n",
      "  [-30.99531714]\n",
      "  [-31.2022178 ]\n",
      "  [-31.40611282]\n",
      "  [-31.6067427 ]\n",
      "  [-31.80384867]\n",
      "  [-31.99717325]\n",
      "  [-32.18646096]\n",
      "  [-32.37145886]\n",
      "  [-32.55191715]\n",
      "  [-32.72758985]\n",
      "  [-32.89823529]\n",
      "  [-33.06361675]\n",
      "  [-33.22350305]\n",
      "  [-33.37766902]\n",
      "  [-33.52589613]\n",
      "  [-33.66797297]\n",
      "  [-33.80369578]\n",
      "  [-33.93286891]\n",
      "  [-34.05530534]\n",
      "  [-34.17082708]\n",
      "  [-34.27926564]\n",
      "  [-34.3804624 ]\n",
      "  [-34.47426903]\n",
      "  [-34.56054782]\n",
      "  [-34.63917201]\n",
      "  [-34.71002612]\n",
      "  [-34.7730062 ]\n",
      "  [-34.82802011]\n",
      "  [-34.87498771]\n",
      "  [-34.91384107]\n",
      "  [-34.94452464]\n",
      "  [-34.96699536]\n",
      "  [-34.98122277]\n",
      "  [-34.9871891 ]\n",
      "  [-34.98488929]\n",
      "  [-34.97433102]\n",
      "  [-34.95553465]\n",
      "  [-34.92853321]\n",
      "  [-34.89337232]\n",
      "  [-34.85011002]\n",
      "  [-34.7988167 ]\n",
      "  [-34.73957487]\n",
      "  [-34.672479  ]\n",
      "  [-34.59763526]\n",
      "  [-34.51516125]\n",
      "  [-34.42518577]\n",
      "  [-34.32784844]\n",
      "  [-34.22329938]\n",
      "  [-34.11169888]\n",
      "  [-33.99321694]\n",
      "  [-33.86803293]\n",
      "  [-33.7363351 ]\n",
      "  [-33.59832015]\n",
      "  [-33.45419271]\n",
      "  [-33.30416493]\n",
      "  [-33.14845587]\n",
      "  [-32.987291  ]\n",
      "  [-32.82090171]\n",
      "  [-32.64952464]\n",
      "  [-32.4734012 ]\n",
      "  [-32.29277697]\n",
      "  [-32.10790104]\n",
      "  [-31.91902551]\n",
      "  [-31.72640478]\n",
      "  [-31.53029503]\n",
      "  [-31.33095353]\n",
      "  [-31.12863805]\n",
      "  [-30.92360625]\n",
      "  [-30.71611506]\n",
      "  [-30.50642002]\n",
      "  [-30.29477475]\n",
      "  [-30.08143026]\n",
      "  [-29.86663439]\n",
      "  [-29.65063125]\n",
      "  [-29.43366057]\n",
      "  [-29.2159572 ]\n",
      "  [-28.99775048]\n",
      "  [-28.7792638 ]\n",
      "  [-28.56071396]\n",
      "  [-28.34231076]\n",
      "  [-28.12425643]\n",
      "  [-27.90674522]\n",
      "  [-27.68996293]\n",
      "  [-27.47408644]\n",
      "  [-27.25928339]\n",
      "  [-27.0457117 ]\n",
      "  [-26.83351931]\n",
      "  [-26.62284376]\n",
      "  [-26.41381195]\n",
      "  [-26.20653983]]]\n"
     ]
    }
   ],
   "source": [
    "X_test, Y_test = test_data(TS, f_horizon, num_periods)\n",
    "print(X_test.shape)\n",
    "print(X_test)"
   ]
  },
  {
   "cell_type": "markdown",
   "metadata": {},
   "source": [
    "### rnn cell"
   ]
  },
  {
   "cell_type": "code",
   "execution_count": 151,
   "metadata": {},
   "outputs": [],
   "source": [
    "tf.reset_default_graph()\n",
    "\n",
    "learning_rate = 0.001\n",
    "inputs = 1\n",
    "hidden = 100\n",
    "output = 1\n",
    "\n",
    "X = tf.placeholder(tf.float32, [None, num_periods, inputs])\n",
    "y = tf.placeholder(tf.float32, [None, num_periods, output])\n",
    "\n",
    "basic_cell = tf.contrib.rnn.BasicRNNCell(num_units=hidden, activation=tf.nn.relu)\n",
    "rnn_output, status = tf.nn.dynamic_rnn(basic_cell, X, dtype=tf.float32)\n",
    "\n",
    "stacked_rnn_output = tf.reshape(rnn_output, [-1, hidden])\n",
    "stacked_outputs = tf.layers.dense(stacked_rnn_output, output)\n",
    "outputs = tf.reshape(stacked_outputs, [-1, num_periods, output])"
   ]
  },
  {
   "cell_type": "code",
   "execution_count": 152,
   "metadata": {},
   "outputs": [],
   "source": [
    "loss = tf.reduce_sum(tf.square(outputs - y))\n",
    "optimizer = tf.train.AdamOptimizer(learning_rate=learning_rate)\n",
    "training_op = optimizer.minimize(loss)\n",
    "\n",
    "init = tf.global_variables_initializer()"
   ]
  },
  {
   "cell_type": "code",
   "execution_count": null,
   "metadata": {},
   "outputs": [
    {
     "name": "stdout",
     "output_type": "stream",
     "text": [
      "0   MSE: 2.03148e+06\n"
     ]
    }
   ],
   "source": [
    "epochs = 5000\n",
    "\n",
    "with tf.Session() as sess:\n",
    "    sess.run(init)\n",
    "    for ep in range(epochs):\n",
    "        sess.run(training_op, feed_dict={X:x_batches, y:y_batches})\n",
    "        if ep % 100 == 0:\n",
    "            mse = loss.eval(feed_dict={X:x_batches, y:y_batches})\n",
    "            print(ep, \"  MSE:\", mse)\n",
    "    \n",
    "    y_pred = sess.run(outputs, feed_dict={X:X_test})\n",
    "    print(y_pred)"
   ]
  },
  {
   "cell_type": "code",
   "execution_count": 129,
   "metadata": {},
   "outputs": [
    {
     "data": {
      "text/plain": [
       "<matplotlib.text.Text at 0x7fe54640a9b0>"
      ]
     },
     "execution_count": 129,
     "metadata": {},
     "output_type": "execute_result"
    },
    {
     "data": {
      "image/png": "[encoded data removed]",
      "text/plain": [
       "<matplotlib.figure.Figure at 0x7fe546425a20>"
      ]
     },
     "metadata": {},
     "output_type": "display_data"
    }
   ],
   "source": [
    "plt.title(\"Forecast vs Actual\", fontsize=14)\n",
    "plt.plot(pd.Series(np.ravel(Y_test)), 'bo', markersize=10, label=\"Actual\")\n",
    "plt.plot(pd.Series(np.ravel(y_pred)), 'r.', markersize=10, label=\"Forecast\")\n",
    "plt.legend(loc=\"upper left\")\n",
    "plt.xlabel(\"Time Periods\")"
   ]
  },
  {
   "cell_type": "markdown",
   "metadata": {},
   "source": [
    "###  lstm cell"
   ]
  },
  {
   "cell_type": "code",
   "execution_count": 67,
   "metadata": {
    "collapsed": true
   },
   "outputs": [],
   "source": [
    "tf.reset_default_graph()\n",
    "\n",
    "learning_rate = 0.001\n",
    "num_periods = 20\n",
    "inputs = 1\n",
    "hidden = 100\n",
    "output = 1\n",
    "\n",
    "X = tf.placeholder(tf.float32, [None, num_periods, inputs])\n",
    "y = tf.placeholder(tf.float32, [None, num_periods, output])\n",
    "\n",
    "# use lstm here\n",
    "basic_cell = tf.contrib.rnn.LSTMCell(num_units=hidden, activation=tf.nn.relu)\n",
    "rnn_output, status = tf.nn.dynamic_rnn(basic_cell, X, dtype=tf.float32)\n",
    "\n",
    "stacked_rnn_output = tf.reshape(rnn_output, [-1, hidden])\n",
    "stacked_outputs = tf.layers.dense(stacked_rnn_output, output)\n",
    "outputs = tf.reshape(stacked_outputs, [-1, num_periods, output])"
   ]
  },
  {
   "cell_type": "code",
   "execution_count": 68,
   "metadata": {
    "collapsed": true
   },
   "outputs": [],
   "source": [
    "loss = tf.reduce_sum(tf.square(outputs - y))\n",
    "optimizer = tf.train.AdamOptimizer(learning_rate=learning_rate)\n",
    "training_op = optimizer.minimize(loss)\n",
    "\n",
    "init = tf.global_variables_initializer()"
   ]
  },
  {
   "cell_type": "code",
   "execution_count": 69,
   "metadata": {},
   "outputs": [
    {
     "name": "stdout",
     "output_type": "stream",
     "text": [
      "0   MSE: 3632.06\n",
      "100   MSE: 574.685\n",
      "200   MSE: 204.592\n",
      "300   MSE: 102.951\n",
      "400   MSE: 62.0275\n",
      "500   MSE: 25.0402\n",
      "600   MSE: 18.7921\n",
      "700   MSE: 17.8973\n",
      "800   MSE: 16.6182\n",
      "900   MSE: 16.06\n",
      "1000   MSE: 23.5378\n",
      "1100   MSE: 15.1251\n",
      "1200   MSE: 14.7116\n",
      "1300   MSE: 14.3556\n",
      "1400   MSE: 14.0372\n",
      "1500   MSE: 17.53\n",
      "1600   MSE: 13.3933\n",
      "1700   MSE: 13.4244\n",
      "1800   MSE: 12.7966\n",
      "1900   MSE: 12.4948\n",
      "2000   MSE: 12.2086\n",
      "2100   MSE: 11.8971\n",
      "2200   MSE: 11.5997\n",
      "2300   MSE: 12.0068\n",
      "2400   MSE: 10.9924\n",
      "2500   MSE: 12.5569\n",
      "2600   MSE: 10.3465\n",
      "2700   MSE: 9.98448\n",
      "2800   MSE: 9.61153\n",
      "2900   MSE: 9.19212\n",
      "3000   MSE: 8.75978\n",
      "3100   MSE: 8.38472\n",
      "3200   MSE: 7.83043\n",
      "3300   MSE: 7.40543\n",
      "3400   MSE: 6.94755\n",
      "3500   MSE: 6.65831\n",
      "3600   MSE: 6.18942\n",
      "3700   MSE: 5.81822\n",
      "3800   MSE: 5.5167\n",
      "3900   MSE: 5.30013\n",
      "4000   MSE: 4.93602\n",
      "4100   MSE: 4.7109\n",
      "4200   MSE: 4.68145\n",
      "4300   MSE: 4.33006\n",
      "4400   MSE: 4.18078\n",
      "4500   MSE: 4.05021\n",
      "4600   MSE: 3.93367\n",
      "4700   MSE: 3.8182\n",
      "4800   MSE: 3.70904\n",
      "4900   MSE: 3.59513\n",
      "[[[  8.18803692]\n",
      "  [  2.66034937]\n",
      "  [  5.69516945]\n",
      "  [  5.49466991]\n",
      "  [  5.45075846]\n",
      "  [  5.316185  ]\n",
      "  [  3.52872562]\n",
      "  [  0.61528707]\n",
      "  [ -2.3363111 ]\n",
      "  [ -4.5538826 ]\n",
      "  [ -5.70345259]\n",
      "  [ -5.89003944]\n",
      "  [ -5.35653734]\n",
      "  [ -5.22689152]\n",
      "  [ -6.00793028]\n",
      "  [ -7.59963512]\n",
      "  [ -9.52995205]\n",
      "  [-11.05056095]\n",
      "  [-11.81463623]\n",
      "  [-11.89847946]]]\n"
     ]
    }
   ],
   "source": [
    "epochs = 5000\n",
    "\n",
    "with tf.Session() as sess:\n",
    "    sess.run(init)\n",
    "    for ep in range(epochs):\n",
    "        sess.run(training_op, feed_dict={X:x_batches, y:y_batches})\n",
    "        if ep % 100 == 0:\n",
    "            mse = loss.eval(feed_dict={X:x_batches, y:y_batches})\n",
    "            print(ep, \"  MSE:\", mse)\n",
    "    \n",
    "    y_pred = sess.run(outputs, feed_dict={X:X_test})\n",
    "    print(y_pred)"
   ]
  },
  {
   "cell_type": "code",
   "execution_count": 70,
   "metadata": {},
   "outputs": [
    {
     "data": {
      "text/plain": [
       "<matplotlib.text.Text at 0x7fe5463f3198>"
      ]
     },
     "execution_count": 70,
     "metadata": {},
     "output_type": "execute_result"
    },
    {
     "data": {
      "image/png": "[encoded data removed]",
      "text/plain": [
       "<matplotlib.figure.Figure at 0x7fe545c23dd8>"
      ]
     },
     "metadata": {},
     "output_type": "display_data"
    }
   ],
   "source": [
    "plt.title(\"Forecast vs Actual\", fontsize=14)\n",
    "plt.plot(pd.Series(np.ravel(Y_test)), 'bo', markersize=10, label=\"Actual\")\n",
    "plt.plot(pd.Series(np.ravel(y_pred)), 'r.', markersize=10, label=\"Forecast\")\n",
    "plt.legend(loc=\"upper left\")\n",
    "plt.xlabel(\"Time Periods\")"
   ]
  },
  {
   "cell_type": "code",
   "execution_count": null,
   "metadata": {
    "collapsed": true
   },
   "outputs": [],
   "source": []
  },
  {
   "cell_type": "markdown",
   "metadata": {},
   "source": [
    "### Shapes of variables"
   ]
  },
  {
   "cell_type": "code",
   "execution_count": 23,
   "metadata": {},
   "outputs": [
    {
     "data": {
      "text/plain": [
       "<tf.Tensor 'rnn/transpose:0' shape=(?, 20, 100) dtype=float32>"
      ]
     },
     "execution_count": 23,
     "metadata": {},
     "output_type": "execute_result"
    }
   ],
   "source": [
    "rnn_output"
   ]
  },
  {
   "cell_type": "code",
   "execution_count": 24,
   "metadata": {},
   "outputs": [
    {
     "data": {
      "text/plain": [
       "<tf.Tensor 'Reshape:0' shape=(?, 100) dtype=float32>"
      ]
     },
     "execution_count": 24,
     "metadata": {},
     "output_type": "execute_result"
    }
   ],
   "source": [
    "stacked_rnn_output"
   ]
  },
  {
   "cell_type": "code",
   "execution_count": 27,
   "metadata": {},
   "outputs": [
    {
     "data": {
      "text/plain": [
       "<tf.Tensor 'dense/BiasAdd:0' shape=(?, 1) dtype=float32>"
      ]
     },
     "execution_count": 27,
     "metadata": {},
     "output_type": "execute_result"
    }
   ],
   "source": [
    "stacked_outputs"
   ]
  },
  {
   "cell_type": "code",
   "execution_count": 29,
   "metadata": {},
   "outputs": [
    {
     "data": {
      "text/plain": [
       "<tf.Tensor 'Reshape_1:0' shape=(?, 20, 1) dtype=float32>"
      ]
     },
     "execution_count": 29,
     "metadata": {},
     "output_type": "execute_result"
    }
   ],
   "source": [
    "outputs"
   ]
  },
  {
   "cell_type": "code",
   "execution_count": null,
   "metadata": {
    "collapsed": true
   },
   "outputs": [],
   "source": []
  }
 ],
 "metadata": {
  "kernelspec": {
   "display_name": "Python 3",
   "language": "python",
   "name": "python3"
  },
  "language_info": {
   "codemirror_mode": {
    "name": "ipython",
    "version": 3
   },
   "file_extension": ".py",
   "mimetype": "text/x-python",
   "name": "python",
   "nbconvert_exporter": "python",
   "pygments_lexer": "ipython3",
   "version": "3.5.2"
  }
 },
 "nbformat": 4,
 "nbformat_minor": 2
}
